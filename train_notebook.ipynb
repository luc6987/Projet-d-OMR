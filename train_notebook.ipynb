{
 "cells": [
  {
   "cell_type": "markdown",
   "metadata": {},
   "source": [
    "# Training Notebook for OMR Assembly Model\n",
    "This notebook trains the MLP model for music notation assembly using ground truth data."
   ]
  },
  {
   "cell_type": "markdown",
   "metadata": {},
   "source": [
    "## 1. Setup and Imports"
   ]
  },
  {
   "cell_type": "code",
   "execution_count": 1,
   "metadata": {},
   "outputs": [],
   "source": [
    "import torch\n",
    "import numpy as np\n",
    "import yaml\n",
    "import os\n",
    "from torch.utils.data import DataLoader\n",
    "from tqdm.notebook import tqdm\n",
    "\n",
    "from utils.data_pool_gt import load_ground_truth_data\n",
    "from utils.constants import get_classlist_and_classdict\n",
    "from utils.utility import set_seed\n",
    "from configs.assembler.default import get_cfg_defaults\n",
    "from model.model import MLP"
   ]
  },
  {
   "cell_type": "markdown",
   "metadata": {},
   "source": [
    "## 2. Configuration"
   ]
  },
  {
   "cell_type": "code",
   "execution_count": 2,
   "metadata": {},
   "outputs": [
    {
     "name": "stdout",
     "output_type": "stream",
     "text": [
      "Using device: cpu\n"
     ]
    }
   ],
   "source": [
    "# Experiment configuration\n",
    "exp_name = 'fourth_training'\n",
    "model_config_path = 'configs/assembler/MLP32_balanced.yaml'\n",
    "output_dir = 'outputs'\n",
    "\n",
    "# Data paths\n",
    "gt_annotations_root = 'data/MUSCIMA++/v2.0/data/annotations'\n",
    "images_root = 'data/MUSCIMA++/datasets_r_staff/images'\n",
    "split_file = 'splits/mob_split.yaml'\n",
    "classes = 'essential'\n",
    "\n",
    "# Device\n",
    "device = torch.device('cuda' if torch.cuda.is_available() else 'cpu')\n",
    "print(f'Using device: {device}')"
   ]
  },
  {
   "cell_type": "code",
   "execution_count": null,
   "metadata": {},
   "outputs": [
    {
     "data": {
      "text/plain": [
       "MLP(\n",
       "  (class_embed): Embedding(177, 32)\n",
       "  (MLP): Sequential(\n",
       "    (0): Linear(in_features=72, out_features=32, bias=True)\n",
       "    (1): ReLU()\n",
       "    (2): Linear(in_features=32, out_features=32, bias=True)\n",
       "    (3): ReLU()\n",
       "  )\n",
       "  (head): Linear(in_features=32, out_features=1, bias=True)\n",
       ")"
      ]
     },
     "execution_count": 91,
     "metadata": {},
     "output_type": "execute_result"
    }
   ],
   "source": []
  },
  {
   "cell_type": "markdown",
   "metadata": {},
   "source": [
    "## 3. Load Configuration"
   ]
  },
  {
   "cell_type": "code",
   "execution_count": 3,
   "metadata": {},
   "outputs": [
    {
     "name": "stdout",
     "output_type": "stream",
     "text": [
      "Configuration loaded!\n",
      "Number of epochs: 100\n",
      "Batch size: 512\n",
      "Learning rate: 0.0005\n",
      "POS_WEIGHT: 87\n"
     ]
    }
   ],
   "source": [
    "# Load config\n",
    "cfg = get_cfg_defaults()\n",
    "cfg.merge_from_file(model_config_path)\n",
    "\n",
    "# Set seed for reproducibility\n",
    "set_seed(cfg.SYSTEM.SEED)\n",
    "\n",
    "# Create output directory\n",
    "os.makedirs(f'{output_dir}/{exp_name}', exist_ok=True)\n",
    "\n",
    "print('Configuration loaded!')\n",
    "print(f'Number of epochs: {cfg.TRAIN.NUM_EPOCHS}')\n",
    "print(f'Batch size: {cfg.TRAIN.BATCH_SIZE}')\n",
    "print(f'Learning rate: {cfg.TRAIN.LEARNING_RATE}')\n",
    "print(f'POS_WEIGHT: {cfg.TRAIN.POS_WEIGHT}')"
   ]
  },
  {
   "cell_type": "markdown",
   "metadata": {},
   "source": [
    "## 4. Load Data"
   ]
  },
  {
   "cell_type": "code",
   "execution_count": 4,
   "metadata": {},
   "outputs": [
    {
     "name": "stdout",
     "output_type": "stream",
     "text": [
      "Loaded 73 classes\n",
      "\n",
      "Loading data...\n",
      "Loading training data from ground truth...\n",
      "\n",
      "============================================================\n",
      "LOADING GROUND TRUTH DATA\n",
      "============================================================\n",
      "Annotations root: data/MUSCIMA++/v2.0/data/annotations\n",
      "Images root: data/MUSCIMA++/datasets_r_staff/images\n",
      "Number of documents to load: 84\n",
      "Excluding 90 classes\n",
      "============================================================\n",
      "\n",
      "[DEBUG] File discovery took 0.01s\n",
      "Found 84 annotation files\n",
      "Found 84 image files\n",
      "\n"
     ]
    },
    {
     "name": "stderr",
     "output_type": "stream",
     "text": [
      "  0%|          | 0/84 [00:00<?, ?it/s]"
     ]
    },
    {
     "name": "stdout",
     "output_type": "stream",
     "text": [
      "  [DEBUG] 1/84: CVC-MUSCIMA_W-01_N-19_D-ideal.xml - 490 nodes (loaded in 0.684s)\n"
     ]
    },
    {
     "name": "stderr",
     "output_type": "stream",
     "text": [
      "  1%|          | 1/84 [00:22<30:48, 22.27s/it]"
     ]
    },
    {
     "name": "stdout",
     "output_type": "stream",
     "text": [
      "  [DEBUG] 2/84: CVC-MUSCIMA_W-02_N-06_D-ideal.xml - 763 nodes (loaded in 0.884s)\n"
     ]
    },
    {
     "name": "stderr",
     "output_type": "stream",
     "text": [
      "  2%|▏         | 2/84 [00:23<13:42, 10.03s/it]"
     ]
    },
    {
     "name": "stdout",
     "output_type": "stream",
     "text": [
      "  [DEBUG] 3/84: CVC-MUSCIMA_W-02_N-13_D-ideal.xml - 557 nodes (loaded in 0.640s)\n"
     ]
    },
    {
     "name": "stderr",
     "output_type": "stream",
     "text": [
      "  4%|▎         | 3/84 [00:25<08:10,  6.05s/it]"
     ]
    },
    {
     "name": "stdout",
     "output_type": "stream",
     "text": [
      "  [DEBUG] 4/84: CVC-MUSCIMA_W-02_N-17_D-ideal.xml - 720 nodes (loaded in 0.653s)\n"
     ]
    },
    {
     "name": "stderr",
     "output_type": "stream",
     "text": [
      "  5%|▍         | 4/84 [00:26<05:28,  4.11s/it]"
     ]
    },
    {
     "name": "stdout",
     "output_type": "stream",
     "text": [
      "  [DEBUG] 5/84: CVC-MUSCIMA_W-03_N-01_D-ideal.xml - 675 nodes (loaded in 0.741s)\n"
     ]
    },
    {
     "name": "stderr",
     "output_type": "stream",
     "text": [
      "  6%|▌         | 5/84 [00:27<04:02,  3.07s/it]"
     ]
    },
    {
     "name": "stdout",
     "output_type": "stream",
     "text": [
      "  [DEBUG] 6/84: CVC-MUSCIMA_W-03_N-18_D-ideal.xml - 730 nodes (loaded in 0.611s)\n"
     ]
    },
    {
     "name": "stderr",
     "output_type": "stream",
     "text": [
      "  7%|▋         | 6/84 [00:28<03:10,  2.44s/it]"
     ]
    },
    {
     "name": "stdout",
     "output_type": "stream",
     "text": [
      "  [DEBUG] 7/84: CVC-MUSCIMA_W-04_N-20_D-ideal.xml - 712 nodes (loaded in 0.706s)\n"
     ]
    },
    {
     "name": "stderr",
     "output_type": "stream",
     "text": [
      "  8%|▊         | 7/84 [00:29<02:35,  2.02s/it]"
     ]
    },
    {
     "name": "stdout",
     "output_type": "stream",
     "text": [
      "  [DEBUG] 8/84: CVC-MUSCIMA_W-06_N-03_D-ideal.xml - 473 nodes (loaded in 0.667s)\n"
     ]
    },
    {
     "name": "stderr",
     "output_type": "stream",
     "text": [
      " 10%|▉         | 8/84 [00:31<02:20,  1.85s/it]"
     ]
    },
    {
     "name": "stdout",
     "output_type": "stream",
     "text": [
      "  [DEBUG] 9/84: CVC-MUSCIMA_W-06_N-16_D-ideal.xml - 621 nodes (loaded in 0.828s)\n"
     ]
    },
    {
     "name": "stderr",
     "output_type": "stream",
     "text": [
      " 11%|█         | 9/84 [00:32<02:15,  1.81s/it]"
     ]
    },
    {
     "name": "stdout",
     "output_type": "stream",
     "text": [
      "  [DEBUG] 10/84: CVC-MUSCIMA_W-08_N-10_D-ideal.xml - 689 nodes (loaded in 0.969s)\n"
     ]
    },
    {
     "name": "stderr",
     "output_type": "stream",
     "text": [
      " 12%|█▏        | 10/84 [00:34<02:08,  1.74s/it]"
     ]
    },
    {
     "name": "stdout",
     "output_type": "stream",
     "text": [
      "  [DEBUG] 11/84: CVC-MUSCIMA_W-08_N-14_D-ideal.xml - 499 nodes (loaded in 0.693s)\n"
     ]
    },
    {
     "name": "stderr",
     "output_type": "stream",
     "text": [
      " 13%|█▎        | 11/84 [00:35<01:56,  1.59s/it]"
     ]
    },
    {
     "name": "stdout",
     "output_type": "stream",
     "text": [
      "  [DEBUG] 12/84: CVC-MUSCIMA_W-08_N-15_D-ideal.xml - 595 nodes (loaded in 0.643s)\n"
     ]
    },
    {
     "name": "stderr",
     "output_type": "stream",
     "text": [
      " 14%|█▍        | 12/84 [00:37<01:45,  1.47s/it]"
     ]
    },
    {
     "name": "stdout",
     "output_type": "stream",
     "text": [
      "  [DEBUG] 13/84: CVC-MUSCIMA_W-09_N-06_D-ideal.xml - 777 nodes (loaded in 0.590s)\n"
     ]
    },
    {
     "name": "stderr",
     "output_type": "stream",
     "text": [
      " 15%|█▌        | 13/84 [00:38<01:35,  1.34s/it]"
     ]
    },
    {
     "name": "stdout",
     "output_type": "stream",
     "text": [
      "  [DEBUG] 14/84: CVC-MUSCIMA_W-09_N-13_D-ideal.xml - 559 nodes (loaded in 1.204s)\n"
     ]
    },
    {
     "name": "stderr",
     "output_type": "stream",
     "text": [
      " 17%|█▋        | 14/84 [00:39<01:43,  1.48s/it]"
     ]
    },
    {
     "name": "stdout",
     "output_type": "stream",
     "text": [
      "  [DEBUG] 15/84: CVC-MUSCIMA_W-09_N-17_D-ideal.xml - 725 nodes (loaded in 0.623s)\n"
     ]
    },
    {
     "name": "stderr",
     "output_type": "stream",
     "text": [
      " 18%|█▊        | 15/84 [00:40<01:34,  1.37s/it]"
     ]
    },
    {
     "name": "stdout",
     "output_type": "stream",
     "text": [
      "  [DEBUG] 16/84: CVC-MUSCIMA_W-10_N-01_D-ideal.xml - 683 nodes (loaded in 0.623s)\n"
     ]
    },
    {
     "name": "stderr",
     "output_type": "stream",
     "text": [
      " 19%|█▉        | 16/84 [00:42<01:29,  1.32s/it]"
     ]
    },
    {
     "name": "stdout",
     "output_type": "stream",
     "text": [
      "  [DEBUG] 17/84: CVC-MUSCIMA_W-10_N-07_D-ideal.xml - 549 nodes (loaded in 0.529s)\n"
     ]
    },
    {
     "name": "stderr",
     "output_type": "stream",
     "text": [
      " 20%|██        | 17/84 [00:43<01:20,  1.21s/it]"
     ]
    },
    {
     "name": "stdout",
     "output_type": "stream",
     "text": [
      "  [DEBUG] 18/84: CVC-MUSCIMA_W-10_N-18_D-ideal.xml - 725 nodes (loaded in 0.837s)\n"
     ]
    },
    {
     "name": "stderr",
     "output_type": "stream",
     "text": [
      " 21%|██▏       | 18/84 [00:44<01:22,  1.24s/it]"
     ]
    },
    {
     "name": "stdout",
     "output_type": "stream",
     "text": [
      "  [DEBUG] 19/84: CVC-MUSCIMA_W-11_N-09_D-ideal.xml - 449 nodes (loaded in 0.552s)\n"
     ]
    },
    {
     "name": "stderr",
     "output_type": "stream",
     "text": [
      " 23%|██▎       | 19/84 [00:45<01:17,  1.19s/it]"
     ]
    },
    {
     "name": "stdout",
     "output_type": "stream",
     "text": [
      "  [DEBUG] 20/84: CVC-MUSCIMA_W-11_N-12_D-ideal.xml - 593 nodes (loaded in 0.706s)\n"
     ]
    },
    {
     "name": "stderr",
     "output_type": "stream",
     "text": [
      " 24%|██▍       | 20/84 [00:46<01:17,  1.21s/it]"
     ]
    },
    {
     "name": "stdout",
     "output_type": "stream",
     "text": [
      "  [DEBUG] 21/84: CVC-MUSCIMA_W-12_N-04_D-ideal.xml - 742 nodes (loaded in 0.859s)\n"
     ]
    },
    {
     "name": "stderr",
     "output_type": "stream",
     "text": [
      " 25%|██▌       | 21/84 [00:48<01:22,  1.30s/it]"
     ]
    },
    {
     "name": "stdout",
     "output_type": "stream",
     "text": [
      "  [DEBUG] 22/84: CVC-MUSCIMA_W-12_N-19_D-ideal.xml - 493 nodes (loaded in 0.711s)\n"
     ]
    },
    {
     "name": "stderr",
     "output_type": "stream",
     "text": [
      " 26%|██▌       | 22/84 [00:49<01:19,  1.28s/it]"
     ]
    },
    {
     "name": "stdout",
     "output_type": "stream",
     "text": [
      "  [DEBUG] 23/84: CVC-MUSCIMA_W-13_N-02_D-ideal.xml - 645 nodes (loaded in 0.871s)\n"
     ]
    },
    {
     "name": "stderr",
     "output_type": "stream",
     "text": [
      " 27%|██▋       | 23/84 [00:50<01:20,  1.32s/it]"
     ]
    },
    {
     "name": "stdout",
     "output_type": "stream",
     "text": [
      "  [DEBUG] 24/84: CVC-MUSCIMA_W-13_N-16_D-ideal.xml - 597 nodes (loaded in 0.854s)\n"
     ]
    },
    {
     "name": "stderr",
     "output_type": "stream",
     "text": [
      " 29%|██▊       | 24/84 [00:52<01:24,  1.41s/it]"
     ]
    },
    {
     "name": "stdout",
     "output_type": "stream",
     "text": [
      "  [DEBUG] 25/84: CVC-MUSCIMA_W-14_N-05_D-ideal.xml - 602 nodes (loaded in 0.802s)\n"
     ]
    },
    {
     "name": "stderr",
     "output_type": "stream",
     "text": [
      " 30%|██▉       | 25/84 [00:53<01:20,  1.37s/it]"
     ]
    },
    {
     "name": "stdout",
     "output_type": "stream",
     "text": [
      "  [DEBUG] 26/84: CVC-MUSCIMA_W-14_N-08_D-ideal.xml - 681 nodes (loaded in 0.685s)\n"
     ]
    },
    {
     "name": "stderr",
     "output_type": "stream",
     "text": [
      " 31%|███       | 26/84 [00:55<01:18,  1.36s/it]"
     ]
    },
    {
     "name": "stdout",
     "output_type": "stream",
     "text": [
      "  [DEBUG] 27/84: CVC-MUSCIMA_W-15_N-15_D-ideal.xml - 588 nodes (loaded in 0.830s)\n"
     ]
    },
    {
     "name": "stderr",
     "output_type": "stream",
     "text": [
      " 32%|███▏      | 27/84 [00:56<01:18,  1.38s/it]"
     ]
    },
    {
     "name": "stdout",
     "output_type": "stream",
     "text": [
      "  [DEBUG] 28/84: CVC-MUSCIMA_W-16_N-06_D-ideal.xml - 774 nodes (loaded in 0.647s)\n"
     ]
    },
    {
     "name": "stderr",
     "output_type": "stream",
     "text": [
      " 33%|███▎      | 28/84 [00:57<01:12,  1.29s/it]"
     ]
    },
    {
     "name": "stdout",
     "output_type": "stream",
     "text": [
      "  [DEBUG] 29/84: CVC-MUSCIMA_W-16_N-13_D-ideal.xml - 557 nodes (loaded in 0.576s)\n"
     ]
    },
    {
     "name": "stderr",
     "output_type": "stream",
     "text": [
      " 35%|███▍      | 29/84 [00:58<01:06,  1.21s/it]"
     ]
    },
    {
     "name": "stdout",
     "output_type": "stream",
     "text": [
      "  [DEBUG] 30/84: CVC-MUSCIMA_W-16_N-17_D-ideal.xml - 746 nodes (loaded in 0.811s)\n"
     ]
    },
    {
     "name": "stderr",
     "output_type": "stream",
     "text": [
      " 36%|███▌      | 30/84 [01:00<01:07,  1.25s/it]"
     ]
    },
    {
     "name": "stdout",
     "output_type": "stream",
     "text": [
      "  [DEBUG] 31/84: CVC-MUSCIMA_W-17_N-01_D-ideal.xml - 679 nodes (loaded in 0.506s)\n"
     ]
    },
    {
     "name": "stderr",
     "output_type": "stream",
     "text": [
      " 37%|███▋      | 31/84 [01:00<01:01,  1.16s/it]"
     ]
    },
    {
     "name": "stdout",
     "output_type": "stream",
     "text": [
      "  [DEBUG] 32/84: CVC-MUSCIMA_W-17_N-07_D-ideal.xml - 540 nodes (loaded in 0.521s)\n"
     ]
    },
    {
     "name": "stderr",
     "output_type": "stream",
     "text": [
      " 38%|███▊      | 32/84 [01:01<00:57,  1.11s/it]"
     ]
    },
    {
     "name": "stdout",
     "output_type": "stream",
     "text": [
      "  [DEBUG] 33/84: CVC-MUSCIMA_W-18_N-09_D-ideal.xml - 450 nodes (loaded in 0.511s)\n"
     ]
    },
    {
     "name": "stderr",
     "output_type": "stream",
     "text": [
      " 39%|███▉      | 33/84 [01:03<00:58,  1.16s/it]"
     ]
    },
    {
     "name": "stdout",
     "output_type": "stream",
     "text": [
      "  [DEBUG] 34/84: CVC-MUSCIMA_W-18_N-20_D-ideal.xml - 707 nodes (loaded in 0.625s)\n"
     ]
    },
    {
     "name": "stderr",
     "output_type": "stream",
     "text": [
      " 40%|████      | 34/84 [01:04<00:58,  1.16s/it]"
     ]
    },
    {
     "name": "stdout",
     "output_type": "stream",
     "text": [
      "  [DEBUG] 35/84: CVC-MUSCIMA_W-19_N-04_D-ideal.xml - 778 nodes (loaded in 0.690s)\n"
     ]
    },
    {
     "name": "stderr",
     "output_type": "stream",
     "text": [
      " 42%|████▏     | 35/84 [01:05<01:00,  1.23s/it]"
     ]
    },
    {
     "name": "stdout",
     "output_type": "stream",
     "text": [
      "  [DEBUG] 36/84: CVC-MUSCIMA_W-19_N-19_D-ideal.xml - 496 nodes (loaded in 0.765s)\n"
     ]
    },
    {
     "name": "stderr",
     "output_type": "stream",
     "text": [
      " 43%|████▎     | 36/84 [01:07<00:59,  1.25s/it]"
     ]
    },
    {
     "name": "stdout",
     "output_type": "stream",
     "text": [
      "  [DEBUG] 37/84: CVC-MUSCIMA_W-20_N-02_D-ideal.xml - 655 nodes (loaded in 0.552s)\n"
     ]
    },
    {
     "name": "stderr",
     "output_type": "stream",
     "text": [
      " 44%|████▍     | 37/84 [01:08<00:56,  1.20s/it]"
     ]
    },
    {
     "name": "stdout",
     "output_type": "stream",
     "text": [
      "  [DEBUG] 38/84: CVC-MUSCIMA_W-20_N-16_D-ideal.xml - 623 nodes (loaded in 0.585s)\n"
     ]
    },
    {
     "name": "stderr",
     "output_type": "stream",
     "text": [
      " 45%|████▌     | 38/84 [01:09<00:53,  1.15s/it]"
     ]
    },
    {
     "name": "stdout",
     "output_type": "stream",
     "text": [
      "  [DEBUG] 39/84: CVC-MUSCIMA_W-21_N-05_D-ideal.xml - 593 nodes (loaded in 0.553s)\n"
     ]
    },
    {
     "name": "stderr",
     "output_type": "stream",
     "text": [
      " 46%|████▋     | 39/84 [01:10<00:51,  1.14s/it]"
     ]
    },
    {
     "name": "stdout",
     "output_type": "stream",
     "text": [
      "  [DEBUG] 40/84: CVC-MUSCIMA_W-21_N-08_D-ideal.xml - 651 nodes (loaded in 0.644s)\n"
     ]
    },
    {
     "name": "stderr",
     "output_type": "stream",
     "text": [
      " 48%|████▊     | 40/84 [01:11<00:49,  1.13s/it]"
     ]
    },
    {
     "name": "stdout",
     "output_type": "stream",
     "text": [
      "  [DEBUG] 41/84: CVC-MUSCIMA_W-22_N-14_D-ideal.xml - 506 nodes (loaded in 0.601s)\n"
     ]
    },
    {
     "name": "stderr",
     "output_type": "stream",
     "text": [
      " 49%|████▉     | 41/84 [01:12<00:47,  1.10s/it]"
     ]
    },
    {
     "name": "stdout",
     "output_type": "stream",
     "text": [
      "  [DEBUG] 42/84: CVC-MUSCIMA_W-22_N-15_D-ideal.xml - 587 nodes (loaded in 0.568s)\n"
     ]
    },
    {
     "name": "stderr",
     "output_type": "stream",
     "text": [
      " 50%|█████     | 42/84 [01:13<00:45,  1.07s/it]"
     ]
    },
    {
     "name": "stdout",
     "output_type": "stream",
     "text": [
      "  [DEBUG] 43/84: CVC-MUSCIMA_W-23_N-06_D-ideal.xml - 765 nodes (loaded in 0.640s)\n"
     ]
    },
    {
     "name": "stderr",
     "output_type": "stream",
     "text": [
      " 51%|█████     | 43/84 [01:14<00:44,  1.09s/it]"
     ]
    },
    {
     "name": "stdout",
     "output_type": "stream",
     "text": [
      "  [DEBUG] 44/84: CVC-MUSCIMA_W-24_N-01_D-ideal.xml - 677 nodes (loaded in 0.547s)\n"
     ]
    },
    {
     "name": "stderr",
     "output_type": "stream",
     "text": [
      " 52%|█████▏    | 44/84 [01:15<00:42,  1.06s/it]"
     ]
    },
    {
     "name": "stdout",
     "output_type": "stream",
     "text": [
      "  [DEBUG] 45/84: CVC-MUSCIMA_W-24_N-18_D-ideal.xml - 726 nodes (loaded in 0.604s)\n"
     ]
    },
    {
     "name": "stderr",
     "output_type": "stream",
     "text": [
      " 54%|█████▎    | 45/84 [01:16<00:41,  1.07s/it]"
     ]
    },
    {
     "name": "stdout",
     "output_type": "stream",
     "text": [
      "  [DEBUG] 46/84: CVC-MUSCIMA_W-25_N-12_D-ideal.xml - 597 nodes (loaded in 0.741s)\n"
     ]
    },
    {
     "name": "stderr",
     "output_type": "stream",
     "text": [
      " 55%|█████▍    | 46/84 [01:17<00:41,  1.10s/it]"
     ]
    },
    {
     "name": "stdout",
     "output_type": "stream",
     "text": [
      "  [DEBUG] 47/84: CVC-MUSCIMA_W-26_N-19_D-ideal.xml - 502 nodes (loaded in 0.522s)\n"
     ]
    },
    {
     "name": "stderr",
     "output_type": "stream",
     "text": [
      " 56%|█████▌    | 47/84 [01:19<00:41,  1.13s/it]"
     ]
    },
    {
     "name": "stdout",
     "output_type": "stream",
     "text": [
      "  [DEBUG] 48/84: CVC-MUSCIMA_W-27_N-02_D-ideal.xml - 642 nodes (loaded in 0.658s)\n"
     ]
    },
    {
     "name": "stderr",
     "output_type": "stream",
     "text": [
      " 57%|█████▋    | 48/84 [01:20<00:41,  1.16s/it]"
     ]
    },
    {
     "name": "stdout",
     "output_type": "stream",
     "text": [
      "  [DEBUG] 49/84: CVC-MUSCIMA_W-27_N-03_D-ideal.xml - 471 nodes (loaded in 0.931s)\n"
     ]
    },
    {
     "name": "stderr",
     "output_type": "stream",
     "text": [
      " 58%|█████▊    | 49/84 [01:21<00:44,  1.27s/it]"
     ]
    },
    {
     "name": "stdout",
     "output_type": "stream",
     "text": [
      "  [DEBUG] 50/84: CVC-MUSCIMA_W-27_N-16_D-ideal.xml - 615 nodes (loaded in 0.574s)\n"
     ]
    },
    {
     "name": "stderr",
     "output_type": "stream",
     "text": [
      " 60%|█████▉    | 50/84 [01:22<00:41,  1.21s/it]"
     ]
    },
    {
     "name": "stdout",
     "output_type": "stream",
     "text": [
      "  [DEBUG] 51/84: CVC-MUSCIMA_W-29_N-10_D-ideal.xml - 748 nodes (loaded in 0.561s)\n"
     ]
    },
    {
     "name": "stderr",
     "output_type": "stream",
     "text": [
      " 61%|██████    | 51/84 [01:23<00:38,  1.16s/it]"
     ]
    },
    {
     "name": "stdout",
     "output_type": "stream",
     "text": [
      "  [DEBUG] 52/84: CVC-MUSCIMA_W-29_N-14_D-ideal.xml - 504 nodes (loaded in 0.640s)\n"
     ]
    },
    {
     "name": "stderr",
     "output_type": "stream",
     "text": [
      " 62%|██████▏   | 52/84 [01:25<00:37,  1.16s/it]"
     ]
    },
    {
     "name": "stdout",
     "output_type": "stream",
     "text": [
      "  [DEBUG] 53/84: CVC-MUSCIMA_W-29_N-15_D-ideal.xml - 597 nodes (loaded in 0.544s)\n"
     ]
    },
    {
     "name": "stderr",
     "output_type": "stream",
     "text": [
      " 63%|██████▎   | 53/84 [01:26<00:34,  1.12s/it]"
     ]
    },
    {
     "name": "stdout",
     "output_type": "stream",
     "text": [
      "  [DEBUG] 54/84: CVC-MUSCIMA_W-30_N-17_D-ideal.xml - 752 nodes (loaded in 0.593s)\n"
     ]
    },
    {
     "name": "stderr",
     "output_type": "stream",
     "text": [
      " 64%|██████▍   | 54/84 [01:27<00:32,  1.10s/it]"
     ]
    },
    {
     "name": "stdout",
     "output_type": "stream",
     "text": [
      "  [DEBUG] 55/84: CVC-MUSCIMA_W-31_N-01_D-ideal.xml - 680 nodes (loaded in 0.735s)\n"
     ]
    },
    {
     "name": "stderr",
     "output_type": "stream",
     "text": [
      " 65%|██████▌   | 55/84 [01:28<00:33,  1.14s/it]"
     ]
    },
    {
     "name": "stdout",
     "output_type": "stream",
     "text": [
      "  [DEBUG] 56/84: CVC-MUSCIMA_W-31_N-07_D-ideal.xml - 538 nodes (loaded in 0.573s)\n"
     ]
    },
    {
     "name": "stderr",
     "output_type": "stream",
     "text": [
      " 67%|██████▋   | 56/84 [01:29<00:31,  1.11s/it]"
     ]
    },
    {
     "name": "stdout",
     "output_type": "stream",
     "text": [
      "  [DEBUG] 57/84: CVC-MUSCIMA_W-31_N-18_D-ideal.xml - 698 nodes (loaded in 0.666s)\n"
     ]
    },
    {
     "name": "stderr",
     "output_type": "stream",
     "text": [
      " 68%|██████▊   | 57/84 [01:30<00:31,  1.17s/it]"
     ]
    },
    {
     "name": "stdout",
     "output_type": "stream",
     "text": [
      "  [DEBUG] 58/84: CVC-MUSCIMA_W-32_N-09_D-ideal.xml - 449 nodes (loaded in 0.622s)\n"
     ]
    },
    {
     "name": "stderr",
     "output_type": "stream",
     "text": [
      " 69%|██████▉   | 58/84 [01:31<00:30,  1.16s/it]"
     ]
    },
    {
     "name": "stdout",
     "output_type": "stream",
     "text": [
      "  [DEBUG] 59/84: CVC-MUSCIMA_W-33_N-04_D-ideal.xml - 739 nodes (loaded in 0.886s)\n"
     ]
    },
    {
     "name": "stderr",
     "output_type": "stream",
     "text": [
      " 70%|███████   | 59/84 [01:33<00:32,  1.32s/it]"
     ]
    },
    {
     "name": "stdout",
     "output_type": "stream",
     "text": [
      "  [DEBUG] 60/84: CVC-MUSCIMA_W-34_N-02_D-ideal.xml - 655 nodes (loaded in 0.906s)\n"
     ]
    },
    {
     "name": "stderr",
     "output_type": "stream",
     "text": [
      " 71%|███████▏  | 60/84 [01:35<00:33,  1.38s/it]"
     ]
    },
    {
     "name": "stdout",
     "output_type": "stream",
     "text": [
      "  [DEBUG] 61/84: CVC-MUSCIMA_W-35_N-11_D-ideal.xml - 725 nodes (loaded in 0.851s)\n"
     ]
    },
    {
     "name": "stderr",
     "output_type": "stream",
     "text": [
      " 73%|███████▎  | 61/84 [01:36<00:32,  1.40s/it]"
     ]
    },
    {
     "name": "stdout",
     "output_type": "stream",
     "text": [
      "  [DEBUG] 62/84: CVC-MUSCIMA_W-36_N-10_D-ideal.xml - 694 nodes (loaded in 0.807s)\n"
     ]
    },
    {
     "name": "stderr",
     "output_type": "stream",
     "text": [
      " 74%|███████▍  | 62/84 [01:37<00:30,  1.37s/it]"
     ]
    },
    {
     "name": "stdout",
     "output_type": "stream",
     "text": [
      "  [DEBUG] 63/84: CVC-MUSCIMA_W-36_N-14_D-ideal.xml - 512 nodes (loaded in 0.638s)\n"
     ]
    },
    {
     "name": "stderr",
     "output_type": "stream",
     "text": [
      " 75%|███████▌  | 63/84 [01:39<00:27,  1.30s/it]"
     ]
    },
    {
     "name": "stdout",
     "output_type": "stream",
     "text": [
      "  [DEBUG] 64/84: CVC-MUSCIMA_W-37_N-17_D-ideal.xml - 732 nodes (loaded in 0.668s)\n"
     ]
    },
    {
     "name": "stderr",
     "output_type": "stream",
     "text": [
      " 76%|███████▌  | 64/84 [01:40<00:25,  1.29s/it]"
     ]
    },
    {
     "name": "stdout",
     "output_type": "stream",
     "text": [
      "  [DEBUG] 65/84: CVC-MUSCIMA_W-38_N-18_D-ideal.xml - 722 nodes (loaded in 0.820s)\n"
     ]
    },
    {
     "name": "stderr",
     "output_type": "stream",
     "text": [
      " 77%|███████▋  | 65/84 [01:41<00:25,  1.34s/it]"
     ]
    },
    {
     "name": "stdout",
     "output_type": "stream",
     "text": [
      "  [DEBUG] 66/84: CVC-MUSCIMA_W-39_N-12_D-ideal.xml - 593 nodes (loaded in 0.731s)\n"
     ]
    },
    {
     "name": "stderr",
     "output_type": "stream",
     "text": [
      " 79%|███████▊  | 66/84 [01:43<00:24,  1.35s/it]"
     ]
    },
    {
     "name": "stdout",
     "output_type": "stream",
     "text": [
      "  [DEBUG] 67/84: CVC-MUSCIMA_W-39_N-20_D-ideal.xml - 710 nodes (loaded in 0.663s)\n"
     ]
    },
    {
     "name": "stderr",
     "output_type": "stream",
     "text": [
      " 80%|███████▉  | 67/84 [01:44<00:21,  1.28s/it]"
     ]
    },
    {
     "name": "stdout",
     "output_type": "stream",
     "text": [
      "  [DEBUG] 68/84: CVC-MUSCIMA_W-40_N-04_D-ideal.xml - 803 nodes (loaded in 0.609s)\n"
     ]
    },
    {
     "name": "stderr",
     "output_type": "stream",
     "text": [
      " 81%|████████  | 68/84 [01:45<00:19,  1.21s/it]"
     ]
    },
    {
     "name": "stdout",
     "output_type": "stream",
     "text": [
      "  [DEBUG] 69/84: CVC-MUSCIMA_W-40_N-19_D-ideal.xml - 496 nodes (loaded in 0.747s)\n"
     ]
    },
    {
     "name": "stderr",
     "output_type": "stream",
     "text": [
      " 82%|████████▏ | 69/84 [01:46<00:18,  1.22s/it]"
     ]
    },
    {
     "name": "stdout",
     "output_type": "stream",
     "text": [
      "  [DEBUG] 70/84: CVC-MUSCIMA_W-41_N-03_D-ideal.xml - 472 nodes (loaded in 0.834s)\n"
     ]
    },
    {
     "name": "stderr",
     "output_type": "stream",
     "text": [
      " 83%|████████▎ | 70/84 [01:47<00:17,  1.27s/it]"
     ]
    },
    {
     "name": "stdout",
     "output_type": "stream",
     "text": [
      "  [DEBUG] 71/84: CVC-MUSCIMA_W-42_N-08_D-ideal.xml - 670 nodes (loaded in 0.596s)\n"
     ]
    },
    {
     "name": "stderr",
     "output_type": "stream",
     "text": [
      " 85%|████████▍ | 71/84 [01:48<00:15,  1.21s/it]"
     ]
    },
    {
     "name": "stdout",
     "output_type": "stream",
     "text": [
      "  [DEBUG] 72/84: CVC-MUSCIMA_W-42_N-11_D-ideal.xml - 720 nodes (loaded in 0.797s)\n"
     ]
    },
    {
     "name": "stderr",
     "output_type": "stream",
     "text": [
      " 86%|████████▌ | 72/84 [01:50<00:14,  1.25s/it]"
     ]
    },
    {
     "name": "stdout",
     "output_type": "stream",
     "text": [
      "  [DEBUG] 73/84: CVC-MUSCIMA_W-43_N-14_D-ideal.xml - 508 nodes (loaded in 0.722s)\n"
     ]
    },
    {
     "name": "stderr",
     "output_type": "stream",
     "text": [
      " 87%|████████▋ | 73/84 [01:51<00:14,  1.28s/it]"
     ]
    },
    {
     "name": "stdout",
     "output_type": "stream",
     "text": [
      "  [DEBUG] 74/84: CVC-MUSCIMA_W-43_N-15_D-ideal.xml - 596 nodes (loaded in 0.905s)\n"
     ]
    },
    {
     "name": "stderr",
     "output_type": "stream",
     "text": [
      " 88%|████████▊ | 74/84 [01:53<00:13,  1.36s/it]"
     ]
    },
    {
     "name": "stdout",
     "output_type": "stream",
     "text": [
      "  [DEBUG] 75/84: CVC-MUSCIMA_W-45_N-01_D-ideal.xml - 671 nodes (loaded in 0.559s)\n"
     ]
    },
    {
     "name": "stderr",
     "output_type": "stream",
     "text": [
      " 89%|████████▉ | 75/84 [01:54<00:11,  1.28s/it]"
     ]
    },
    {
     "name": "stdout",
     "output_type": "stream",
     "text": [
      "  [DEBUG] 76/84: CVC-MUSCIMA_W-45_N-18_D-ideal.xml - 720 nodes (loaded in 0.784s)\n"
     ]
    },
    {
     "name": "stderr",
     "output_type": "stream",
     "text": [
      " 90%|█████████ | 76/84 [01:55<00:10,  1.29s/it]"
     ]
    },
    {
     "name": "stdout",
     "output_type": "stream",
     "text": [
      "  [DEBUG] 77/84: CVC-MUSCIMA_W-46_N-07_D-ideal.xml - 547 nodes (loaded in 0.537s)\n"
     ]
    },
    {
     "name": "stderr",
     "output_type": "stream",
     "text": [
      " 92%|█████████▏| 77/84 [01:56<00:08,  1.24s/it]"
     ]
    },
    {
     "name": "stdout",
     "output_type": "stream",
     "text": [
      "  [DEBUG] 78/84: CVC-MUSCIMA_W-46_N-20_D-ideal.xml - 714 nodes (loaded in 0.649s)\n"
     ]
    },
    {
     "name": "stderr",
     "output_type": "stream",
     "text": [
      " 93%|█████████▎| 78/84 [01:57<00:07,  1.24s/it]"
     ]
    },
    {
     "name": "stdout",
     "output_type": "stream",
     "text": [
      "  [DEBUG] 79/84: CVC-MUSCIMA_W-47_N-04_D-ideal.xml - 785 nodes (loaded in 0.737s)\n"
     ]
    },
    {
     "name": "stderr",
     "output_type": "stream",
     "text": [
      " 94%|█████████▍| 79/84 [01:59<00:06,  1.24s/it]"
     ]
    },
    {
     "name": "stdout",
     "output_type": "stream",
     "text": [
      "  [DEBUG] 80/84: CVC-MUSCIMA_W-48_N-02_D-ideal.xml - 656 nodes (loaded in 0.623s)\n"
     ]
    },
    {
     "name": "stderr",
     "output_type": "stream",
     "text": [
      " 95%|█████████▌| 80/84 [02:00<00:04,  1.21s/it]"
     ]
    },
    {
     "name": "stdout",
     "output_type": "stream",
     "text": [
      "  [DEBUG] 81/84: CVC-MUSCIMA_W-49_N-09_D-ideal.xml - 449 nodes (loaded in 0.582s)\n"
     ]
    },
    {
     "name": "stderr",
     "output_type": "stream",
     "text": [
      " 96%|█████████▋| 81/84 [02:01<00:03,  1.17s/it]"
     ]
    },
    {
     "name": "stdout",
     "output_type": "stream",
     "text": [
      "  [DEBUG] 82/84: CVC-MUSCIMA_W-50_N-04_D-ideal.xml - 785 nodes (loaded in 0.784s)\n"
     ]
    },
    {
     "name": "stderr",
     "output_type": "stream",
     "text": [
      " 98%|█████████▊| 82/84 [02:02<00:02,  1.24s/it]"
     ]
    },
    {
     "name": "stdout",
     "output_type": "stream",
     "text": [
      "  [DEBUG] 83/84: CVC-MUSCIMA_W-50_N-08_D-ideal.xml - 677 nodes (loaded in 0.665s)\n"
     ]
    },
    {
     "name": "stderr",
     "output_type": "stream",
     "text": [
      " 99%|█████████▉| 83/84 [02:04<00:01,  1.23s/it]"
     ]
    },
    {
     "name": "stdout",
     "output_type": "stream",
     "text": [
      "  [DEBUG] 84/84: CVC-MUSCIMA_W-50_N-15_D-ideal.xml - 597 nodes (loaded in 0.734s)\n"
     ]
    },
    {
     "name": "stderr",
     "output_type": "stream",
     "text": [
      "100%|██████████| 84/84 [02:05<00:00,  1.49s/it]\n"
     ]
    },
    {
     "name": "stdout",
     "output_type": "stream",
     "text": [
      "\n",
      "✓ Loaded 84 documents in 125.40s\n",
      "[DEBUG] Average mung load time: 0.692s\n",
      "[DEBUG] Average image load time: 0.800s\n",
      "\n",
      "\n",
      "============================================================\n",
      "PREPARING TRAINING PAIRS FROM GROUND TRUTH\n",
      "============================================================\n",
      "Total documents to process: 84\n",
      "Filter pairs by distance: True\n",
      "Max edge distance: 200 pixels\n",
      "============================================================\n",
      "\n"
     ]
    },
    {
     "name": "stderr",
     "output_type": "stream",
     "text": [
      "Loading ground truth pairs:   0%|          | 0/84 [00:00<?, ?it/s]"
     ]
    },
    {
     "name": "stdout",
     "output_type": "stream",
     "text": [
      "  [DEBUG] Doc 1/84: 490 nodes, finding neighbors... \n",
      "    [DEBUG WARNING: Computing 240,100 distance comparisons - this may be slow!]\n",
      "    [DEBUG] Distance calculation: 0.23s, deduplication: 0.00s, total: 0.24s\n"
     ]
    },
    {
     "name": "stderr",
     "output_type": "stream",
     "text": [
      "Loading ground truth pairs:   1%|          | 1/84 [00:00<00:19,  4.17it/s]"
     ]
    },
    {
     "name": "stdout",
     "output_type": "stream",
     "text": [
      "created 14380 pairs, discarded 225720 (94.0%) in 0.24s\n",
      "  [DEBUG] Doc 1 total time: 0.24s (append time: 0.00s)\n",
      "  [DEBUG] Doc 2/84: 763 nodes, finding neighbors... \n",
      "    [DEBUG WARNING: Computing 582,169 distance comparisons - this may be slow!]\n",
      "    [DEBUG] Distance calculation: 0.53s, deduplication: 0.00s, total: 0.53s\n"
     ]
    },
    {
     "name": "stderr",
     "output_type": "stream",
     "text": [
      "Loading ground truth pairs:   2%|▏         | 2/84 [00:00<00:33,  2.42it/s]"
     ]
    },
    {
     "name": "stdout",
     "output_type": "stream",
     "text": [
      "created 27423 pairs, discarded 554746 (95.3%) in 0.53s\n",
      "  [DEBUG] Doc 2 total time: 0.53s (append time: 0.00s)\n",
      "  [DEBUG] Doc 3/84: 557 nodes, finding neighbors... \n",
      "    [DEBUG WARNING: Computing 310,249 distance comparisons - this may be slow!]\n",
      "    [DEBUG] Distance calculation: 0.33s, deduplication: 0.00s, total: 0.33s\n"
     ]
    },
    {
     "name": "stderr",
     "output_type": "stream",
     "text": [
      "Loading ground truth pairs:   4%|▎         | 3/84 [00:01<00:30,  2.65it/s]"
     ]
    },
    {
     "name": "stdout",
     "output_type": "stream",
     "text": [
      "created 17873 pairs, discarded 292376 (94.2%) in 0.33s\n",
      "  [DEBUG] Doc 3 total time: 0.33s (append time: 0.00s)\n",
      "  [DEBUG] Doc 4/84: 720 nodes, finding neighbors... \n",
      "    [DEBUG WARNING: Computing 518,400 distance comparisons - this may be slow!]\n",
      "    [DEBUG] Distance calculation: 0.52s, deduplication: 0.00s, total: 0.52s\n"
     ]
    },
    {
     "name": "stderr",
     "output_type": "stream",
     "text": [
      "Loading ground truth pairs:   5%|▍         | 4/84 [00:01<00:37,  2.13it/s]"
     ]
    },
    {
     "name": "stdout",
     "output_type": "stream",
     "text": [
      "created 25414 pairs, discarded 492986 (95.1%) in 0.52s\n",
      "  [DEBUG] Doc 4 total time: 0.61s (append time: 0.09s)\n",
      "  [DEBUG] Doc 5/84: 675 nodes, finding neighbors... \n",
      "    [DEBUG WARNING: Computing 455,625 distance comparisons - this may be slow!]\n",
      "    [DEBUG] Distance calculation: 0.43s, deduplication: 0.00s, total: 0.43s\n"
     ]
    },
    {
     "name": "stderr",
     "output_type": "stream",
     "text": [
      "Loading ground truth pairs:   6%|▌         | 5/84 [00:02<00:36,  2.18it/s]"
     ]
    },
    {
     "name": "stdout",
     "output_type": "stream",
     "text": [
      "created 28063 pairs, discarded 427562 (93.8%) in 0.43s\n",
      "  [DEBUG] Doc 5 total time: 0.44s (append time: 0.00s)\n",
      "  [DEBUG] Doc 6/84: 730 nodes, finding neighbors... \n",
      "    [DEBUG WARNING: Computing 532,900 distance comparisons - this may be slow!]\n",
      "    [DEBUG] Distance calculation: 0.49s, deduplication: 0.00s, total: 0.50s\n"
     ]
    },
    {
     "name": "stderr",
     "output_type": "stream",
     "text": [
      "Loading ground truth pairs:   7%|▋         | 6/84 [00:02<00:36,  2.12it/s]"
     ]
    },
    {
     "name": "stdout",
     "output_type": "stream",
     "text": [
      "created 22006 pairs, discarded 510894 (95.9%) in 0.50s\n",
      "  [DEBUG] Doc 6 total time: 0.50s (append time: 0.00s)\n",
      "  [DEBUG] Doc 7/84: 712 nodes, finding neighbors... \n",
      "    [DEBUG WARNING: Computing 506,944 distance comparisons - this may be slow!]\n",
      "    [DEBUG] Distance calculation: 0.47s, deduplication: 0.00s, total: 0.47s\n"
     ]
    },
    {
     "name": "stderr",
     "output_type": "stream",
     "text": [
      "Loading ground truth pairs:   8%|▊         | 7/84 [00:03<00:36,  2.11it/s]"
     ]
    },
    {
     "name": "stdout",
     "output_type": "stream",
     "text": [
      "created 18734 pairs, discarded 488210 (96.3%) in 0.47s\n",
      "  [DEBUG] Doc 7 total time: 0.48s (append time: 0.00s)\n",
      "  [DEBUG] Doc 8/84: 473 nodes, finding neighbors... \n",
      "    [DEBUG WARNING: Computing 223,729 distance comparisons - this may be slow!]\n",
      "    [DEBUG] Distance calculation: 0.21s, deduplication: 0.00s, total: 0.21s\n"
     ]
    },
    {
     "name": "stderr",
     "output_type": "stream",
     "text": [
      "Loading ground truth pairs:  10%|▉         | 8/84 [00:03<00:29,  2.56it/s]"
     ]
    },
    {
     "name": "stdout",
     "output_type": "stream",
     "text": [
      "created 11683 pairs, discarded 212046 (94.8%) in 0.21s\n",
      "  [DEBUG] Doc 8 total time: 0.21s (append time: 0.00s)\n",
      "  [DEBUG] Doc 9/84: 621 nodes, finding neighbors... \n",
      "    [DEBUG WARNING: Computing 385,641 distance comparisons - this may be slow!]\n",
      "    [DEBUG] Distance calculation: 0.36s, deduplication: 0.00s, total: 0.36s\n"
     ]
    },
    {
     "name": "stderr",
     "output_type": "stream",
     "text": [
      "Loading ground truth pairs:  11%|█         | 9/84 [00:03<00:30,  2.45it/s]"
     ]
    },
    {
     "name": "stdout",
     "output_type": "stream",
     "text": [
      "created 17223 pairs, discarded 368418 (95.5%) in 0.45s\n",
      "  [DEBUG] Doc 9 total time: 0.45s (append time: 0.00s)\n",
      "  [DEBUG] Doc 10/84: 689 nodes, finding neighbors... \n",
      "    [DEBUG WARNING: Computing 474,721 distance comparisons - this may be slow!]\n",
      "    [DEBUG] Distance calculation: 0.44s, deduplication: 0.00s, total: 0.44s\n"
     ]
    },
    {
     "name": "stderr",
     "output_type": "stream",
     "text": [
      "Loading ground truth pairs:  12%|█▏        | 10/84 [00:04<00:31,  2.38it/s]"
     ]
    },
    {
     "name": "stdout",
     "output_type": "stream",
     "text": [
      "created 25451 pairs, discarded 449270 (94.6%) in 0.44s\n",
      "  [DEBUG] Doc 10 total time: 0.45s (append time: 0.00s)\n",
      "  [DEBUG] Doc 11/84: 499 nodes, finding neighbors... \n",
      "    [DEBUG WARNING: Computing 249,001 distance comparisons - this may be slow!]\n",
      "    [DEBUG] Distance calculation: 0.23s, deduplication: 0.00s, total: 0.23s\n"
     ]
    },
    {
     "name": "stderr",
     "output_type": "stream",
     "text": [
      "Loading ground truth pairs:  13%|█▎        | 11/84 [00:04<00:26,  2.75it/s]"
     ]
    },
    {
     "name": "stdout",
     "output_type": "stream",
     "text": [
      "created 15101 pairs, discarded 233900 (93.9%) in 0.23s\n",
      "  [DEBUG] Doc 11 total time: 0.24s (append time: 0.00s)\n",
      "  [DEBUG] Doc 12/84: 595 nodes, finding neighbors... \n",
      "    [DEBUG WARNING: Computing 354,025 distance comparisons - this may be slow!]\n",
      "    [DEBUG] Distance calculation: 0.33s, deduplication: 0.00s, total: 0.33s\n"
     ]
    },
    {
     "name": "stderr",
     "output_type": "stream",
     "text": [
      "Loading ground truth pairs:  14%|█▍        | 12/84 [00:04<00:25,  2.82it/s]"
     ]
    },
    {
     "name": "stdout",
     "output_type": "stream",
     "text": [
      "created 17691 pairs, discarded 336334 (95.0%) in 0.33s\n",
      "  [DEBUG] Doc 12 total time: 0.33s (append time: 0.00s)\n",
      "  [DEBUG] Doc 13/84: 777 nodes, finding neighbors... \n",
      "    [DEBUG WARNING: Computing 603,729 distance comparisons - this may be slow!]\n",
      "    [DEBUG] Distance calculation: 0.57s, deduplication: 0.00s, total: 0.57s\n"
     ]
    },
    {
     "name": "stderr",
     "output_type": "stream",
     "text": [
      "Loading ground truth pairs:  15%|█▌        | 13/84 [00:05<00:32,  2.21it/s]"
     ]
    },
    {
     "name": "stdout",
     "output_type": "stream",
     "text": [
      "created 25631 pairs, discarded 578098 (95.8%) in 0.57s\n",
      "  [DEBUG] Doc 13 total time: 0.67s (append time: 0.10s)\n",
      "  [DEBUG] Doc 14/84: 559 nodes, finding neighbors... \n",
      "    [DEBUG WARNING: Computing 312,481 distance comparisons - this may be slow!]\n",
      "    [DEBUG] Distance calculation: 0.33s, deduplication: 0.00s, total: 0.33s\n"
     ]
    },
    {
     "name": "stderr",
     "output_type": "stream",
     "text": [
      "Loading ground truth pairs:  17%|█▋        | 14/84 [00:05<00:29,  2.40it/s]"
     ]
    },
    {
     "name": "stdout",
     "output_type": "stream",
     "text": [
      "created 16265 pairs, discarded 296216 (94.8%) in 0.33s\n",
      "  [DEBUG] Doc 14 total time: 0.33s (append time: 0.00s)\n",
      "  [DEBUG] Doc 15/84: 725 nodes, finding neighbors... \n",
      "    [DEBUG WARNING: Computing 525,625 distance comparisons - this may be slow!]\n",
      "    [DEBUG] Distance calculation: 0.50s, deduplication: 0.00s, total: 0.50s\n"
     ]
    },
    {
     "name": "stderr",
     "output_type": "stream",
     "text": [
      "Loading ground truth pairs:  18%|█▊        | 15/84 [00:06<00:30,  2.26it/s]"
     ]
    },
    {
     "name": "stdout",
     "output_type": "stream",
     "text": [
      "created 23491 pairs, discarded 502134 (95.5%) in 0.50s\n",
      "  [DEBUG] Doc 15 total time: 0.51s (append time: 0.00s)\n",
      "  [DEBUG] Doc 16/84: 683 nodes, finding neighbors... \n",
      "    [DEBUG WARNING: Computing 466,489 distance comparisons - this may be slow!]\n",
      "    [DEBUG] Distance calculation: 0.44s, deduplication: 0.00s, total: 0.44s\n"
     ]
    },
    {
     "name": "stderr",
     "output_type": "stream",
     "text": [
      "Loading ground truth pairs:  19%|█▉        | 16/84 [00:06<00:30,  2.25it/s]"
     ]
    },
    {
     "name": "stdout",
     "output_type": "stream",
     "text": [
      "created 25917 pairs, discarded 440572 (94.4%) in 0.45s\n",
      "  [DEBUG] Doc 16 total time: 0.45s (append time: 0.00s)\n",
      "  [DEBUG] Doc 17/84: 549 nodes, finding neighbors... \n",
      "    [DEBUG WARNING: Computing 301,401 distance comparisons - this may be slow!]\n",
      "    [DEBUG] Distance calculation: 0.28s, deduplication: 0.00s, total: 0.28s\n"
     ]
    },
    {
     "name": "stderr",
     "output_type": "stream",
     "text": [
      "Loading ground truth pairs:  20%|██        | 17/84 [00:07<00:26,  2.51it/s]"
     ]
    },
    {
     "name": "stdout",
     "output_type": "stream",
     "text": [
      "created 18927 pairs, discarded 282474 (93.7%) in 0.29s\n",
      "  [DEBUG] Doc 17 total time: 0.29s (append time: 0.00s)\n",
      "  [DEBUG] Doc 18/84: 725 nodes, finding neighbors... \n",
      "    [DEBUG WARNING: Computing 525,625 distance comparisons - this may be slow!]\n",
      "    [DEBUG] Distance calculation: 0.49s, deduplication: 0.00s, total: 0.49s\n"
     ]
    },
    {
     "name": "stderr",
     "output_type": "stream",
     "text": [
      "Loading ground truth pairs:  21%|██▏       | 18/84 [00:07<00:28,  2.34it/s]"
     ]
    },
    {
     "name": "stdout",
     "output_type": "stream",
     "text": [
      "created 20941 pairs, discarded 504684 (96.0%) in 0.49s\n",
      "  [DEBUG] Doc 18 total time: 0.49s (append time: 0.00s)\n",
      "  [DEBUG] Doc 19/84: 449 nodes, finding neighbors... \n",
      "    [DEBUG WARNING: Computing 201,601 distance comparisons - this may be slow!]\n",
      "    [DEBUG] Distance calculation: 0.19s, deduplication: 0.00s, total: 0.30s\n"
     ]
    },
    {
     "name": "stderr",
     "output_type": "stream",
     "text": [
      "Loading ground truth pairs:  23%|██▎       | 19/84 [00:07<00:25,  2.57it/s]"
     ]
    },
    {
     "name": "stdout",
     "output_type": "stream",
     "text": [
      "created 7875 pairs, discarded 193726 (96.1%) in 0.30s\n",
      "  [DEBUG] Doc 19 total time: 0.30s (append time: 0.00s)\n",
      "  [DEBUG] Doc 20/84: 593 nodes, finding neighbors... \n",
      "    [DEBUG WARNING: Computing 351,649 distance comparisons - this may be slow!]\n",
      "    [DEBUG] Distance calculation: 0.33s, deduplication: 0.00s, total: 0.33s\n"
     ]
    },
    {
     "name": "stderr",
     "output_type": "stream",
     "text": [
      "Loading ground truth pairs:  24%|██▍       | 20/84 [00:08<00:23,  2.69it/s]"
     ]
    },
    {
     "name": "stdout",
     "output_type": "stream",
     "text": [
      "created 13257 pairs, discarded 338392 (96.2%) in 0.33s\n",
      "  [DEBUG] Doc 20 total time: 0.33s (append time: 0.00s)\n",
      "  [DEBUG] Doc 21/84: 742 nodes, finding neighbors... \n",
      "    [DEBUG WARNING: Computing 550,564 distance comparisons - this may be slow!]\n",
      "    [DEBUG] Distance calculation: 0.53s, deduplication: 0.00s, total: 0.53s\n"
     ]
    },
    {
     "name": "stderr",
     "output_type": "stream",
     "text": [
      "Loading ground truth pairs:  25%|██▌       | 21/84 [00:08<00:26,  2.37it/s]"
     ]
    },
    {
     "name": "stdout",
     "output_type": "stream",
     "text": [
      "created 30748 pairs, discarded 519816 (94.4%) in 0.53s\n",
      "  [DEBUG] Doc 21 total time: 0.54s (append time: 0.00s)\n",
      "  [DEBUG] Doc 22/84: 493 nodes, finding neighbors... \n",
      "    [DEBUG WARNING: Computing 243,049 distance comparisons - this may be slow!]\n",
      "    [DEBUG] Distance calculation: 0.23s, deduplication: 0.00s, total: 0.23s\n"
     ]
    },
    {
     "name": "stderr",
     "output_type": "stream",
     "text": [
      "Loading ground truth pairs:  26%|██▌       | 22/84 [00:08<00:22,  2.73it/s]"
     ]
    },
    {
     "name": "stdout",
     "output_type": "stream",
     "text": [
      "created 14563 pairs, discarded 228486 (94.0%) in 0.23s\n",
      "  [DEBUG] Doc 22 total time: 0.24s (append time: 0.00s)\n",
      "  [DEBUG] Doc 23/84: 645 nodes, finding neighbors... \n",
      "    [DEBUG WARNING: Computing 416,025 distance comparisons - this may be slow!]\n",
      "    [DEBUG] Distance calculation: 0.42s, deduplication: 0.00s, total: 0.42s\n"
     ]
    },
    {
     "name": "stderr",
     "output_type": "stream",
     "text": [
      "Loading ground truth pairs:  27%|██▋       | 23/84 [00:09<00:23,  2.60it/s]"
     ]
    },
    {
     "name": "stdout",
     "output_type": "stream",
     "text": [
      "created 17315 pairs, discarded 398710 (95.8%) in 0.43s\n",
      "  [DEBUG] Doc 23 total time: 0.43s (append time: 0.00s)\n",
      "  [DEBUG] Doc 24/84: 597 nodes, finding neighbors... \n",
      "    [DEBUG WARNING: Computing 356,409 distance comparisons - this may be slow!]\n",
      "    [DEBUG] Distance calculation: 0.33s, deduplication: 0.00s, total: 0.34s\n"
     ]
    },
    {
     "name": "stderr",
     "output_type": "stream",
     "text": [
      "Loading ground truth pairs:  29%|██▊       | 24/84 [00:09<00:22,  2.69it/s]"
     ]
    },
    {
     "name": "stdout",
     "output_type": "stream",
     "text": [
      "created 17399 pairs, discarded 339010 (95.1%) in 0.34s\n",
      "  [DEBUG] Doc 24 total time: 0.34s (append time: 0.00s)\n",
      "  [DEBUG] Doc 25/84: 602 nodes, finding neighbors... \n",
      "    [DEBUG WARNING: Computing 362,404 distance comparisons - this may be slow!]\n",
      "    [DEBUG] Distance calculation: 0.33s, deduplication: 0.00s, total: 0.34s\n"
     ]
    },
    {
     "name": "stderr",
     "output_type": "stream",
     "text": [
      "Loading ground truth pairs:  30%|██▉       | 25/84 [00:10<00:21,  2.77it/s]"
     ]
    },
    {
     "name": "stdout",
     "output_type": "stream",
     "text": [
      "created 14228 pairs, discarded 348176 (96.1%) in 0.34s\n",
      "  [DEBUG] Doc 25 total time: 0.34s (append time: 0.00s)\n",
      "  [DEBUG] Doc 26/84: 681 nodes, finding neighbors... \n",
      "    [DEBUG WARNING: Computing 463,761 distance comparisons - this may be slow!]\n",
      "    [DEBUG] Distance calculation: 0.44s, deduplication: 0.00s, total: 0.44s\n"
     ]
    },
    {
     "name": "stderr",
     "output_type": "stream",
     "text": [
      "Loading ground truth pairs:  31%|███       | 26/84 [00:10<00:24,  2.38it/s]"
     ]
    },
    {
     "name": "stdout",
     "output_type": "stream",
     "text": [
      "created 22695 pairs, discarded 441066 (95.1%) in 0.44s\n",
      "  [DEBUG] Doc 26 total time: 0.56s (append time: 0.12s)\n",
      "  [DEBUG] Doc 27/84: 588 nodes, finding neighbors... \n",
      "    [DEBUG WARNING: Computing 345,744 distance comparisons - this may be slow!]\n",
      "    [DEBUG] Distance calculation: 0.33s, deduplication: 0.00s, total: 0.33s\n"
     ]
    },
    {
     "name": "stderr",
     "output_type": "stream",
     "text": [
      "Loading ground truth pairs:  32%|███▏      | 27/84 [00:10<00:22,  2.54it/s]"
     ]
    },
    {
     "name": "stdout",
     "output_type": "stream",
     "text": [
      "created 20158 pairs, discarded 325586 (94.2%) in 0.33s\n",
      "  [DEBUG] Doc 27 total time: 0.33s (append time: 0.00s)\n",
      "  [DEBUG] Doc 28/84: 774 nodes, finding neighbors... \n",
      "    [DEBUG WARNING: Computing 599,076 distance comparisons - this may be slow!]\n",
      "    [DEBUG] Distance calculation: 0.56s, deduplication: 0.00s, total: 0.56s\n"
     ]
    },
    {
     "name": "stderr",
     "output_type": "stream",
     "text": [
      "Loading ground truth pairs:  33%|███▎      | 28/84 [00:11<00:24,  2.25it/s]"
     ]
    },
    {
     "name": "stdout",
     "output_type": "stream",
     "text": [
      "created 26364 pairs, discarded 572712 (95.6%) in 0.56s\n",
      "  [DEBUG] Doc 28 total time: 0.56s (append time: 0.00s)\n",
      "  [DEBUG] Doc 29/84: 557 nodes, finding neighbors... \n",
      "    [DEBUG WARNING: Computing 310,249 distance comparisons - this may be slow!]\n",
      "    [DEBUG] Distance calculation: 0.30s, deduplication: 0.00s, total: 0.30s\n"
     ]
    },
    {
     "name": "stderr",
     "output_type": "stream",
     "text": [
      "Loading ground truth pairs:  35%|███▍      | 29/84 [00:11<00:22,  2.49it/s]"
     ]
    },
    {
     "name": "stdout",
     "output_type": "stream",
     "text": [
      "created 16673 pairs, discarded 293576 (94.6%) in 0.30s\n",
      "  [DEBUG] Doc 29 total time: 0.30s (append time: 0.00s)\n",
      "  [DEBUG] Doc 30/84: 746 nodes, finding neighbors... \n",
      "    [DEBUG WARNING: Computing 556,516 distance comparisons - this may be slow!]\n",
      "    [DEBUG] Distance calculation: 0.54s, deduplication: 0.00s, total: 0.54s\n"
     ]
    },
    {
     "name": "stderr",
     "output_type": "stream",
     "text": [
      "Loading ground truth pairs:  36%|███▌      | 30/84 [00:12<00:24,  2.24it/s]"
     ]
    },
    {
     "name": "stdout",
     "output_type": "stream",
     "text": [
      "created 20046 pairs, discarded 536470 (96.4%) in 0.54s\n",
      "  [DEBUG] Doc 30 total time: 0.55s (append time: 0.00s)\n",
      "  [DEBUG] Doc 31/84: 679 nodes, finding neighbors... \n",
      "    [DEBUG WARNING: Computing 461,041 distance comparisons - this may be slow!]\n",
      "    [DEBUG] Distance calculation: 0.44s, deduplication: 0.00s, total: 0.44s\n"
     ]
    },
    {
     "name": "stderr",
     "output_type": "stream",
     "text": [
      "Loading ground truth pairs:  37%|███▋      | 31/84 [00:12<00:23,  2.25it/s]"
     ]
    },
    {
     "name": "stdout",
     "output_type": "stream",
     "text": [
      "created 23881 pairs, discarded 437160 (94.8%) in 0.44s\n",
      "  [DEBUG] Doc 31 total time: 0.44s (append time: 0.00s)\n",
      "  [DEBUG] Doc 32/84: 540 nodes, finding neighbors... \n",
      "    [DEBUG WARNING: Computing 291,600 distance comparisons - this may be slow!]\n",
      "    [DEBUG] Distance calculation: 0.30s, deduplication: 0.00s, total: 0.30s\n"
     ]
    },
    {
     "name": "stderr",
     "output_type": "stream",
     "text": [
      "Loading ground truth pairs:  38%|███▊      | 32/84 [00:13<00:20,  2.48it/s]"
     ]
    },
    {
     "name": "stdout",
     "output_type": "stream",
     "text": [
      "created 19340 pairs, discarded 272260 (93.4%) in 0.30s\n",
      "  [DEBUG] Doc 32 total time: 0.31s (append time: 0.00s)\n",
      "  [DEBUG] Doc 33/84: 450 nodes, finding neighbors... \n",
      "    [DEBUG WARNING: Computing 202,500 distance comparisons - this may be slow!]\n",
      "    [DEBUG] Distance calculation: 0.19s, deduplication: 0.00s, total: 0.19s\n"
     ]
    },
    {
     "name": "stderr",
     "output_type": "stream",
     "text": [
      "Loading ground truth pairs:  39%|███▉      | 33/84 [00:13<00:17,  2.93it/s]"
     ]
    },
    {
     "name": "stdout",
     "output_type": "stream",
     "text": [
      "created 14864 pairs, discarded 187636 (92.7%) in 0.19s\n",
      "  [DEBUG] Doc 33 total time: 0.19s (append time: 0.00s)\n",
      "  [DEBUG] Doc 34/84: 707 nodes, finding neighbors... \n",
      "    [DEBUG WARNING: Computing 499,849 distance comparisons - this may be slow!]\n",
      "    [DEBUG] Distance calculation: 0.47s, deduplication: 0.00s, total: 0.47s\n"
     ]
    },
    {
     "name": "stderr",
     "output_type": "stream",
     "text": [
      "Loading ground truth pairs:  40%|████      | 34/84 [00:13<00:19,  2.62it/s]"
     ]
    },
    {
     "name": "stdout",
     "output_type": "stream",
     "text": [
      "created 18985 pairs, discarded 480864 (96.2%) in 0.47s\n",
      "  [DEBUG] Doc 34 total time: 0.47s (append time: 0.00s)\n",
      "  [DEBUG] Doc 35/84: 778 nodes, finding neighbors... \n",
      "    [DEBUG WARNING: Computing 605,284 distance comparisons - this may be slow!]\n",
      "    [DEBUG] Distance calculation: 0.58s, deduplication: 0.00s, total: 0.58s\n"
     ]
    },
    {
     "name": "stderr",
     "output_type": "stream",
     "text": [
      "Loading ground truth pairs:  42%|████▏     | 35/84 [00:14<00:23,  2.07it/s]"
     ]
    },
    {
     "name": "stdout",
     "output_type": "stream",
     "text": [
      "created 33524 pairs, discarded 571760 (94.5%) in 0.72s\n",
      "  [DEBUG] Doc 35 total time: 0.72s (append time: 0.00s)\n",
      "  [DEBUG] Doc 36/84: 496 nodes, finding neighbors... \n",
      "    [DEBUG WARNING: Computing 246,016 distance comparisons - this may be slow!]\n",
      "    [DEBUG] Distance calculation: 0.23s, deduplication: 0.00s, total: 0.23s\n"
     ]
    },
    {
     "name": "stderr",
     "output_type": "stream",
     "text": [
      "Loading ground truth pairs:  43%|████▎     | 36/84 [00:14<00:19,  2.44it/s]"
     ]
    },
    {
     "name": "stdout",
     "output_type": "stream",
     "text": [
      "created 18608 pairs, discarded 227408 (92.4%) in 0.24s\n",
      "  [DEBUG] Doc 36 total time: 0.24s (append time: 0.00s)\n",
      "  [DEBUG] Doc 37/84: 655 nodes, finding neighbors... \n",
      "    [DEBUG WARNING: Computing 429,025 distance comparisons - this may be slow!]\n",
      "    [DEBUG] Distance calculation: 0.41s, deduplication: 0.00s, total: 0.41s\n"
     ]
    },
    {
     "name": "stderr",
     "output_type": "stream",
     "text": [
      "Loading ground truth pairs:  44%|████▍     | 37/84 [00:15<00:19,  2.44it/s]"
     ]
    },
    {
     "name": "stdout",
     "output_type": "stream",
     "text": [
      "created 19013 pairs, discarded 410012 (95.6%) in 0.41s\n",
      "  [DEBUG] Doc 37 total time: 0.41s (append time: 0.00s)\n",
      "  [DEBUG] Doc 38/84: 623 nodes, finding neighbors... \n",
      "    [DEBUG WARNING: Computing 388,129 distance comparisons - this may be slow!]\n",
      "    [DEBUG] Distance calculation: 0.36s, deduplication: 0.00s, total: 0.36s\n"
     ]
    },
    {
     "name": "stderr",
     "output_type": "stream",
     "text": [
      "Loading ground truth pairs:  45%|████▌     | 38/84 [00:15<00:18,  2.51it/s]"
     ]
    },
    {
     "name": "stdout",
     "output_type": "stream",
     "text": [
      "created 17051 pairs, discarded 371078 (95.6%) in 0.36s\n",
      "  [DEBUG] Doc 38 total time: 0.37s (append time: 0.00s)\n",
      "  [DEBUG] Doc 39/84: 593 nodes, finding neighbors... \n",
      "    [DEBUG WARNING: Computing 351,649 distance comparisons - this may be slow!]\n",
      "    [DEBUG] Distance calculation: 0.34s, deduplication: 0.00s, total: 0.34s\n"
     ]
    },
    {
     "name": "stderr",
     "output_type": "stream",
     "text": [
      "Loading ground truth pairs:  46%|████▋     | 39/84 [00:15<00:17,  2.63it/s]"
     ]
    },
    {
     "name": "stdout",
     "output_type": "stream",
     "text": [
      "created 14509 pairs, discarded 337140 (95.9%) in 0.34s\n",
      "  [DEBUG] Doc 39 total time: 0.34s (append time: 0.00s)\n",
      "  [DEBUG] Doc 40/84: 651 nodes, finding neighbors... \n",
      "    [DEBUG WARNING: Computing 423,801 distance comparisons - this may be slow!]\n",
      "    [DEBUG] Distance calculation: 0.41s, deduplication: 0.00s, total: 0.41s\n"
     ]
    },
    {
     "name": "stderr",
     "output_type": "stream",
     "text": [
      "Loading ground truth pairs:  48%|████▊     | 40/84 [00:16<00:17,  2.57it/s]"
     ]
    },
    {
     "name": "stdout",
     "output_type": "stream",
     "text": [
      "created 20741 pairs, discarded 403060 (95.1%) in 0.41s\n",
      "  [DEBUG] Doc 40 total time: 0.41s (append time: 0.00s)\n",
      "  [DEBUG] Doc 41/84: 506 nodes, finding neighbors... \n",
      "    [DEBUG WARNING: Computing 256,036 distance comparisons - this may be slow!]\n",
      "    [DEBUG] Distance calculation: 0.28s, deduplication: 0.00s, total: 0.28s\n"
     ]
    },
    {
     "name": "stderr",
     "output_type": "stream",
     "text": [
      "Loading ground truth pairs:  49%|████▉     | 41/84 [00:16<00:15,  2.79it/s]"
     ]
    },
    {
     "name": "stdout",
     "output_type": "stream",
     "text": [
      "created 13088 pairs, discarded 242948 (94.9%) in 0.28s\n",
      "  [DEBUG] Doc 41 total time: 0.28s (append time: 0.00s)\n",
      "  [DEBUG] Doc 42/84: 587 nodes, finding neighbors... \n",
      "    [DEBUG WARNING: Computing 344,569 distance comparisons - this may be slow!]\n",
      "    [DEBUG] Distance calculation: 0.32s, deduplication: 0.00s, total: 0.32s\n"
     ]
    },
    {
     "name": "stderr",
     "output_type": "stream",
     "text": [
      "Loading ground truth pairs:  50%|█████     | 42/84 [00:16<00:14,  2.87it/s]"
     ]
    },
    {
     "name": "stdout",
     "output_type": "stream",
     "text": [
      "created 17889 pairs, discarded 326680 (94.8%) in 0.32s\n",
      "  [DEBUG] Doc 42 total time: 0.33s (append time: 0.00s)\n",
      "  [DEBUG] Doc 43/84: 765 nodes, finding neighbors... \n",
      "    [DEBUG WARNING: Computing 585,225 distance comparisons - this may be slow!]\n",
      "    [DEBUG] Distance calculation: 0.54s, deduplication: 0.00s, total: 0.54s\n"
     ]
    },
    {
     "name": "stderr",
     "output_type": "stream",
     "text": [
      "Loading ground truth pairs:  51%|█████     | 43/84 [00:17<00:16,  2.45it/s]"
     ]
    },
    {
     "name": "stdout",
     "output_type": "stream",
     "text": [
      "created 24859 pairs, discarded 560366 (95.8%) in 0.55s\n",
      "  [DEBUG] Doc 43 total time: 0.55s (append time: 0.00s)\n",
      "  [DEBUG] Doc 44/84: 677 nodes, finding neighbors... \n",
      "    [DEBUG WARNING: Computing 458,329 distance comparisons - this may be slow!]\n",
      "    [DEBUG] Distance calculation: 0.43s, deduplication: 0.00s, total: 0.43s\n"
     ]
    },
    {
     "name": "stderr",
     "output_type": "stream",
     "text": [
      "Loading ground truth pairs:  52%|█████▏    | 44/84 [00:17<00:16,  2.39it/s]"
     ]
    },
    {
     "name": "stdout",
     "output_type": "stream",
     "text": [
      "created 19461 pairs, discarded 438868 (95.8%) in 0.44s\n",
      "  [DEBUG] Doc 44 total time: 0.44s (append time: 0.00s)\n",
      "  [DEBUG] Doc 45/84: 726 nodes, finding neighbors... \n",
      "    [DEBUG WARNING: Computing 527,076 distance comparisons - this may be slow!]\n",
      "    [DEBUG] Distance calculation: 0.49s, deduplication: 0.00s, total: 0.50s\n"
     ]
    },
    {
     "name": "stderr",
     "output_type": "stream",
     "text": [
      "Loading ground truth pairs:  54%|█████▎    | 45/84 [00:18<00:17,  2.26it/s]"
     ]
    },
    {
     "name": "stdout",
     "output_type": "stream",
     "text": [
      "created 20934 pairs, discarded 506142 (96.0%) in 0.50s\n",
      "  [DEBUG] Doc 45 total time: 0.50s (append time: 0.00s)\n",
      "  [DEBUG] Doc 46/84: 597 nodes, finding neighbors... \n",
      "    [DEBUG WARNING: Computing 356,409 distance comparisons - this may be slow!]\n",
      "    [DEBUG] Distance calculation: 0.33s, deduplication: 0.00s, total: 0.34s\n"
     ]
    },
    {
     "name": "stderr",
     "output_type": "stream",
     "text": [
      "Loading ground truth pairs:  55%|█████▍    | 46/84 [00:18<00:17,  2.19it/s]"
     ]
    },
    {
     "name": "stdout",
     "output_type": "stream",
     "text": [
      "created 13603 pairs, discarded 342806 (96.2%) in 0.49s\n",
      "  [DEBUG] Doc 46 total time: 0.49s (append time: 0.00s)\n",
      "  [DEBUG] Doc 47/84: 502 nodes, finding neighbors... \n",
      "    [DEBUG WARNING: Computing 252,004 distance comparisons - this may be slow!]\n",
      "    [DEBUG] Distance calculation: 0.27s, deduplication: 0.00s, total: 0.27s\n"
     ]
    },
    {
     "name": "stderr",
     "output_type": "stream",
     "text": [
      "Loading ground truth pairs:  56%|█████▌    | 47/84 [00:19<00:14,  2.49it/s]"
     ]
    },
    {
     "name": "stdout",
     "output_type": "stream",
     "text": [
      "created 11090 pairs, discarded 240914 (95.6%) in 0.28s\n",
      "  [DEBUG] Doc 47 total time: 0.28s (append time: 0.00s)\n",
      "  [DEBUG] Doc 48/84: 642 nodes, finding neighbors... \n",
      "    [DEBUG WARNING: Computing 412,164 distance comparisons - this may be slow!]\n",
      "    [DEBUG] Distance calculation: 0.38s, deduplication: 0.00s, total: 0.38s\n"
     ]
    },
    {
     "name": "stderr",
     "output_type": "stream",
     "text": [
      "Loading ground truth pairs:  57%|█████▋    | 48/84 [00:19<00:14,  2.51it/s]"
     ]
    },
    {
     "name": "stdout",
     "output_type": "stream",
     "text": [
      "created 18342 pairs, discarded 393822 (95.5%) in 0.39s\n",
      "  [DEBUG] Doc 48 total time: 0.39s (append time: 0.00s)\n",
      "  [DEBUG] Doc 49/84: 471 nodes, finding neighbors... \n",
      "    [DEBUG WARNING: Computing 221,841 distance comparisons - this may be slow!]\n",
      "    [DEBUG] Distance calculation: 0.20s, deduplication: 0.00s, total: 0.21s\n"
     ]
    },
    {
     "name": "stderr",
     "output_type": "stream",
     "text": [
      "Loading ground truth pairs:  58%|█████▊    | 49/84 [00:19<00:11,  2.93it/s]"
     ]
    },
    {
     "name": "stdout",
     "output_type": "stream",
     "text": [
      "created 11885 pairs, discarded 209956 (94.6%) in 0.21s\n",
      "  [DEBUG] Doc 49 total time: 0.21s (append time: 0.00s)\n",
      "  [DEBUG] Doc 50/84: 615 nodes, finding neighbors... \n",
      "    [DEBUG WARNING: Computing 378,225 distance comparisons - this may be slow!]\n",
      "    [DEBUG] Distance calculation: 0.36s, deduplication: 0.00s, total: 0.36s\n"
     ]
    },
    {
     "name": "stderr",
     "output_type": "stream",
     "text": [
      "Loading ground truth pairs:  60%|█████▉    | 50/84 [00:20<00:11,  2.87it/s]"
     ]
    },
    {
     "name": "stdout",
     "output_type": "stream",
     "text": [
      "created 17663 pairs, discarded 360562 (95.3%) in 0.36s\n",
      "  [DEBUG] Doc 50 total time: 0.36s (append time: 0.00s)\n",
      "  [DEBUG] Doc 51/84: 748 nodes, finding neighbors... \n",
      "    [DEBUG WARNING: Computing 559,504 distance comparisons - this may be slow!]\n",
      "    [DEBUG] Distance calculation: 0.52s, deduplication: 0.00s, total: 0.52s\n"
     ]
    },
    {
     "name": "stderr",
     "output_type": "stream",
     "text": [
      "Loading ground truth pairs:  61%|██████    | 51/84 [00:20<00:13,  2.49it/s]"
     ]
    },
    {
     "name": "stdout",
     "output_type": "stream",
     "text": [
      "created 30868 pairs, discarded 528636 (94.5%) in 0.52s\n",
      "  [DEBUG] Doc 51 total time: 0.53s (append time: 0.00s)\n",
      "  [DEBUG] Doc 52/84: 504 nodes, finding neighbors... \n",
      "    [DEBUG WARNING: Computing 254,016 distance comparisons - this may be slow!]\n",
      "    [DEBUG] Distance calculation: 0.24s, deduplication: 0.00s, total: 0.24s\n"
     ]
    },
    {
     "name": "stderr",
     "output_type": "stream",
     "text": [
      "Loading ground truth pairs:  62%|██████▏   | 52/84 [00:20<00:11,  2.83it/s]"
     ]
    },
    {
     "name": "stdout",
     "output_type": "stream",
     "text": [
      "created 14750 pairs, discarded 239266 (94.2%) in 0.24s\n",
      "  [DEBUG] Doc 52 total time: 0.24s (append time: 0.00s)\n",
      "  [DEBUG] Doc 53/84: 597 nodes, finding neighbors... \n",
      "    [DEBUG WARNING: Computing 356,409 distance comparisons - this may be slow!]\n",
      "    [DEBUG] Distance calculation: 0.33s, deduplication: 0.00s, total: 0.33s\n"
     ]
    },
    {
     "name": "stderr",
     "output_type": "stream",
     "text": [
      "Loading ground truth pairs:  63%|██████▎   | 53/84 [00:21<00:10,  2.87it/s]"
     ]
    },
    {
     "name": "stdout",
     "output_type": "stream",
     "text": [
      "created 20003 pairs, discarded 336406 (94.4%) in 0.34s\n",
      "  [DEBUG] Doc 53 total time: 0.34s (append time: 0.00s)\n",
      "  [DEBUG] Doc 54/84: 752 nodes, finding neighbors... \n",
      "    [DEBUG WARNING: Computing 565,504 distance comparisons - this may be slow!]\n",
      "    [DEBUG] Distance calculation: 0.52s, deduplication: 0.00s, total: 0.52s\n"
     ]
    },
    {
     "name": "stderr",
     "output_type": "stream",
     "text": [
      "Loading ground truth pairs:  64%|██████▍   | 54/84 [00:21<00:12,  2.49it/s]"
     ]
    },
    {
     "name": "stdout",
     "output_type": "stream",
     "text": [
      "created 18394 pairs, discarded 547110 (96.7%) in 0.52s\n",
      "  [DEBUG] Doc 54 total time: 0.53s (append time: 0.00s)\n",
      "  [DEBUG] Doc 55/84: 680 nodes, finding neighbors... \n",
      "    [DEBUG WARNING: Computing 462,400 distance comparisons - this may be slow!]\n",
      "    [DEBUG] Distance calculation: 0.46s, deduplication: 0.00s, total: 0.46s\n"
     ]
    },
    {
     "name": "stderr",
     "output_type": "stream",
     "text": [
      "Loading ground truth pairs:  65%|██████▌   | 55/84 [00:22<00:12,  2.37it/s]"
     ]
    },
    {
     "name": "stdout",
     "output_type": "stream",
     "text": [
      "created 23458 pairs, discarded 438942 (94.9%) in 0.47s\n",
      "  [DEBUG] Doc 55 total time: 0.47s (append time: 0.00s)\n",
      "  [DEBUG] Doc 56/84: 538 nodes, finding neighbors... \n",
      "    [DEBUG WARNING: Computing 289,444 distance comparisons - this may be slow!]\n",
      "    [DEBUG] Distance calculation: 0.27s, deduplication: 0.00s, total: 0.27s\n"
     ]
    },
    {
     "name": "stderr",
     "output_type": "stream",
     "text": [
      "Loading ground truth pairs:  67%|██████▋   | 56/84 [00:22<00:10,  2.65it/s]"
     ]
    },
    {
     "name": "stdout",
     "output_type": "stream",
     "text": [
      "created 17994 pairs, discarded 271450 (93.8%) in 0.27s\n",
      "  [DEBUG] Doc 56 total time: 0.27s (append time: 0.00s)\n",
      "  [DEBUG] Doc 57/84: 698 nodes, finding neighbors... \n",
      "    [DEBUG WARNING: Computing 487,204 distance comparisons - this may be slow!]\n",
      "    [DEBUG] Distance calculation: 0.45s, deduplication: 0.00s, total: 0.45s\n"
     ]
    },
    {
     "name": "stderr",
     "output_type": "stream",
     "text": [
      "Loading ground truth pairs:  68%|██████▊   | 57/84 [00:22<00:10,  2.50it/s]"
     ]
    },
    {
     "name": "stdout",
     "output_type": "stream",
     "text": [
      "created 19764 pairs, discarded 467440 (95.9%) in 0.45s\n",
      "  [DEBUG] Doc 57 total time: 0.45s (append time: 0.00s)\n",
      "  [DEBUG] Doc 58/84: 449 nodes, finding neighbors... \n",
      "    [DEBUG WARNING: Computing 201,601 distance comparisons - this may be slow!]\n",
      "    [DEBUG] Distance calculation: 0.19s, deduplication: 0.00s, total: 0.19s\n"
     ]
    },
    {
     "name": "stderr",
     "output_type": "stream",
     "text": [
      "Loading ground truth pairs:  69%|██████▉   | 58/84 [00:23<00:08,  2.96it/s]"
     ]
    },
    {
     "name": "stdout",
     "output_type": "stream",
     "text": [
      "created 13157 pairs, discarded 188444 (93.5%) in 0.19s\n",
      "  [DEBUG] Doc 58 total time: 0.19s (append time: 0.00s)\n",
      "  [DEBUG] Doc 59/84: 739 nodes, finding neighbors... \n",
      "    [DEBUG WARNING: Computing 546,121 distance comparisons - this may be slow!]\n",
      "    [DEBUG] Distance calculation: 0.49s, deduplication: 0.00s, total: 0.49s\n"
     ]
    },
    {
     "name": "stderr",
     "output_type": "stream",
     "text": [
      "Loading ground truth pairs:  70%|███████   | 59/84 [00:23<00:09,  2.58it/s]"
     ]
    },
    {
     "name": "stdout",
     "output_type": "stream",
     "text": [
      "created 32311 pairs, discarded 513810 (94.1%) in 0.50s\n",
      "  [DEBUG] Doc 59 total time: 0.50s (append time: 0.00s)\n",
      "  [DEBUG] Doc 60/84: 655 nodes, finding neighbors... \n",
      "    [DEBUG WARNING: Computing 429,025 distance comparisons - this may be slow!]\n",
      "    [DEBUG] Distance calculation: 0.40s, deduplication: 0.00s, total: 0.40s\n"
     ]
    },
    {
     "name": "stderr",
     "output_type": "stream",
     "text": [
      "Loading ground truth pairs:  71%|███████▏  | 60/84 [00:24<00:10,  2.25it/s]"
     ]
    },
    {
     "name": "stdout",
     "output_type": "stream",
     "text": [
      "created 19007 pairs, discarded 410018 (95.6%) in 0.41s\n",
      "  [DEBUG] Doc 60 total time: 0.58s (append time: 0.17s)\n",
      "  [DEBUG] Doc 61/84: 725 nodes, finding neighbors... \n",
      "    [DEBUG WARNING: Computing 525,625 distance comparisons - this may be slow!]\n",
      "    [DEBUG] Distance calculation: 0.49s, deduplication: 0.00s, total: 0.49s\n"
     ]
    },
    {
     "name": "stderr",
     "output_type": "stream",
     "text": [
      "Loading ground truth pairs:  73%|███████▎  | 61/84 [00:24<00:10,  2.18it/s]"
     ]
    },
    {
     "name": "stdout",
     "output_type": "stream",
     "text": [
      "created 25057 pairs, discarded 500568 (95.2%) in 0.49s\n",
      "  [DEBUG] Doc 61 total time: 0.49s (append time: 0.00s)\n",
      "  [DEBUG] Doc 62/84: 694 nodes, finding neighbors... \n",
      "    [DEBUG WARNING: Computing 481,636 distance comparisons - this may be slow!]\n",
      "    [DEBUG] Distance calculation: 0.45s, deduplication: 0.00s, total: 0.45s\n"
     ]
    },
    {
     "name": "stderr",
     "output_type": "stream",
     "text": [
      "Loading ground truth pairs:  74%|███████▍  | 62/84 [00:25<00:10,  2.18it/s]"
     ]
    },
    {
     "name": "stdout",
     "output_type": "stream",
     "text": [
      "created 28076 pairs, discarded 453560 (94.2%) in 0.45s\n",
      "  [DEBUG] Doc 62 total time: 0.45s (append time: 0.00s)\n",
      "  [DEBUG] Doc 63/84: 512 nodes, finding neighbors... \n",
      "    [DEBUG WARNING: Computing 262,144 distance comparisons - this may be slow!]\n",
      "    [DEBUG] Distance calculation: 0.28s, deduplication: 0.00s, total: 0.28s\n"
     ]
    },
    {
     "name": "stderr",
     "output_type": "stream",
     "text": [
      "Loading ground truth pairs:  75%|███████▌  | 63/84 [00:25<00:08,  2.47it/s]"
     ]
    },
    {
     "name": "stdout",
     "output_type": "stream",
     "text": [
      "created 15918 pairs, discarded 246226 (93.9%) in 0.28s\n",
      "  [DEBUG] Doc 63 total time: 0.28s (append time: 0.00s)\n",
      "  [DEBUG] Doc 64/84: 732 nodes, finding neighbors... \n",
      "    [DEBUG WARNING: Computing 535,824 distance comparisons - this may be slow!]\n",
      "    [DEBUG] Distance calculation: 0.50s, deduplication: 0.00s, total: 0.50s\n"
     ]
    },
    {
     "name": "stderr",
     "output_type": "stream",
     "text": [
      "Loading ground truth pairs:  76%|███████▌  | 64/84 [00:25<00:08,  2.30it/s]"
     ]
    },
    {
     "name": "stdout",
     "output_type": "stream",
     "text": [
      "created 16708 pairs, discarded 519116 (96.9%) in 0.50s\n",
      "  [DEBUG] Doc 64 total time: 0.50s (append time: 0.00s)\n",
      "  [DEBUG] Doc 65/84: 722 nodes, finding neighbors... \n",
      "    [DEBUG WARNING: Computing 521,284 distance comparisons - this may be slow!]\n",
      "    [DEBUG] Distance calculation: 0.49s, deduplication: 0.00s, total: 0.49s\n"
     ]
    },
    {
     "name": "stderr",
     "output_type": "stream",
     "text": [
      "Loading ground truth pairs:  77%|███████▋  | 65/84 [00:26<00:08,  2.21it/s]"
     ]
    },
    {
     "name": "stdout",
     "output_type": "stream",
     "text": [
      "created 20910 pairs, discarded 500374 (96.0%) in 0.49s\n",
      "  [DEBUG] Doc 65 total time: 0.49s (append time: 0.00s)\n",
      "  [DEBUG] Doc 66/84: 593 nodes, finding neighbors... \n",
      "    [DEBUG WARNING: Computing 351,649 distance comparisons - this may be slow!]\n",
      "    [DEBUG] Distance calculation: 0.32s, deduplication: 0.00s, total: 0.33s\n"
     ]
    },
    {
     "name": "stderr",
     "output_type": "stream",
     "text": [
      "Loading ground truth pairs:  79%|███████▊  | 66/84 [00:26<00:07,  2.41it/s]"
     ]
    },
    {
     "name": "stdout",
     "output_type": "stream",
     "text": [
      "created 14695 pairs, discarded 336954 (95.8%) in 0.33s\n",
      "  [DEBUG] Doc 66 total time: 0.33s (append time: 0.00s)\n",
      "  [DEBUG] Doc 67/84: 710 nodes, finding neighbors... \n",
      "    [DEBUG WARNING: Computing 504,100 distance comparisons - this may be slow!]\n",
      "    [DEBUG] Distance calculation: 0.47s, deduplication: 0.00s, total: 0.47s\n"
     ]
    },
    {
     "name": "stderr",
     "output_type": "stream",
     "text": [
      "Loading ground truth pairs:  80%|███████▉  | 67/84 [00:27<00:07,  2.31it/s]"
     ]
    },
    {
     "name": "stdout",
     "output_type": "stream",
     "text": [
      "created 17480 pairs, discarded 486620 (96.5%) in 0.47s\n",
      "  [DEBUG] Doc 67 total time: 0.47s (append time: 0.00s)\n",
      "  [DEBUG] Doc 68/84: 803 nodes, finding neighbors... \n",
      "    [DEBUG WARNING: Computing 644,809 distance comparisons - this may be slow!]\n",
      "    [DEBUG] Distance calculation: 0.60s, deduplication: 0.00s, total: 0.60s\n"
     ]
    },
    {
     "name": "stderr",
     "output_type": "stream",
     "text": [
      "Loading ground truth pairs:  81%|████████  | 68/84 [00:27<00:07,  2.07it/s]"
     ]
    },
    {
     "name": "stdout",
     "output_type": "stream",
     "text": [
      "created 22603 pairs, discarded 622206 (96.5%) in 0.60s\n",
      "  [DEBUG] Doc 68 total time: 0.60s (append time: 0.00s)\n",
      "  [DEBUG] Doc 69/84: 496 nodes, finding neighbors... \n",
      "    [DEBUG WARNING: Computing 246,016 distance comparisons - this may be slow!]\n",
      "    [DEBUG] Distance calculation: 0.23s, deduplication: 0.00s, total: 0.24s\n"
     ]
    },
    {
     "name": "stderr",
     "output_type": "stream",
     "text": [
      "Loading ground truth pairs:  82%|████████▏ | 69/84 [00:28<00:06,  2.44it/s]"
     ]
    },
    {
     "name": "stdout",
     "output_type": "stream",
     "text": [
      "created 12726 pairs, discarded 233290 (94.8%) in 0.24s\n",
      "  [DEBUG] Doc 69 total time: 0.24s (append time: 0.00s)\n",
      "  [DEBUG] Doc 70/84: 472 nodes, finding neighbors... \n",
      "    [DEBUG WARNING: Computing 222,784 distance comparisons - this may be slow!]\n",
      "    [DEBUG] Distance calculation: 0.21s, deduplication: 0.00s, total: 0.21s\n"
     ]
    },
    {
     "name": "stderr",
     "output_type": "stream",
     "text": [
      "Loading ground truth pairs:  83%|████████▎ | 70/84 [00:28<00:04,  2.84it/s]"
     ]
    },
    {
     "name": "stdout",
     "output_type": "stream",
     "text": [
      "created 11750 pairs, discarded 211034 (94.7%) in 0.21s\n",
      "  [DEBUG] Doc 70 total time: 0.22s (append time: 0.00s)\n",
      "  [DEBUG] Doc 71/84: 670 nodes, finding neighbors... \n",
      "    [DEBUG WARNING: Computing 448,900 distance comparisons - this may be slow!]\n",
      "    [DEBUG] Distance calculation: 0.47s, deduplication: 0.00s, total: 0.47s\n"
     ]
    },
    {
     "name": "stderr",
     "output_type": "stream",
     "text": [
      "Loading ground truth pairs:  85%|████████▍ | 71/84 [00:28<00:05,  2.57it/s]"
     ]
    },
    {
     "name": "stdout",
     "output_type": "stream",
     "text": [
      "created 24642 pairs, discarded 424258 (94.5%) in 0.47s\n",
      "  [DEBUG] Doc 71 total time: 0.48s (append time: 0.00s)\n",
      "  [DEBUG] Doc 72/84: 720 nodes, finding neighbors... \n",
      "    [DEBUG WARNING: Computing 518,400 distance comparisons - this may be slow!]\n",
      "    [DEBUG] Distance calculation: 0.49s, deduplication: 0.00s, total: 0.49s\n"
     ]
    },
    {
     "name": "stderr",
     "output_type": "stream",
     "text": [
      "Loading ground truth pairs:  86%|████████▌ | 72/84 [00:29<00:05,  2.38it/s]"
     ]
    },
    {
     "name": "stdout",
     "output_type": "stream",
     "text": [
      "created 28256 pairs, discarded 490144 (94.5%) in 0.49s\n",
      "  [DEBUG] Doc 72 total time: 0.49s (append time: 0.00s)\n",
      "  [DEBUG] Doc 73/84: 508 nodes, finding neighbors... \n",
      "    [DEBUG WARNING: Computing 258,064 distance comparisons - this may be slow!]\n",
      "    [DEBUG] Distance calculation: 0.24s, deduplication: 0.00s, total: 0.24s\n"
     ]
    },
    {
     "name": "stderr",
     "output_type": "stream",
     "text": [
      "Loading ground truth pairs:  87%|████████▋ | 73/84 [00:29<00:04,  2.73it/s]"
     ]
    },
    {
     "name": "stdout",
     "output_type": "stream",
     "text": [
      "created 13068 pairs, discarded 244996 (94.9%) in 0.24s\n",
      "  [DEBUG] Doc 73 total time: 0.24s (append time: 0.00s)\n",
      "  [DEBUG] Doc 74/84: 596 nodes, finding neighbors... \n",
      "    [DEBUG WARNING: Computing 355,216 distance comparisons - this may be slow!]\n",
      "    [DEBUG] Distance calculation: 0.33s, deduplication: 0.00s, total: 0.33s\n"
     ]
    },
    {
     "name": "stderr",
     "output_type": "stream",
     "text": [
      "Loading ground truth pairs:  88%|████████▊ | 74/84 [00:29<00:03,  2.80it/s]"
     ]
    },
    {
     "name": "stdout",
     "output_type": "stream",
     "text": [
      "created 17466 pairs, discarded 337750 (95.1%) in 0.33s\n",
      "  [DEBUG] Doc 74 total time: 0.34s (append time: 0.00s)\n",
      "  [DEBUG] Doc 75/84: 671 nodes, finding neighbors... \n",
      "    [DEBUG WARNING: Computing 450,241 distance comparisons - this may be slow!]\n",
      "    [DEBUG] Distance calculation: 0.42s, deduplication: 0.00s, total: 0.43s\n"
     ]
    },
    {
     "name": "stderr",
     "output_type": "stream",
     "text": [
      "Loading ground truth pairs:  89%|████████▉ | 75/84 [00:30<00:03,  2.64it/s]"
     ]
    },
    {
     "name": "stdout",
     "output_type": "stream",
     "text": [
      "created 26769 pairs, discarded 423472 (94.1%) in 0.43s\n",
      "  [DEBUG] Doc 75 total time: 0.43s (append time: 0.00s)\n",
      "  [DEBUG] Doc 76/84: 720 nodes, finding neighbors... \n",
      "    [DEBUG WARNING: Computing 518,400 distance comparisons - this may be slow!]\n",
      "    [DEBUG] Distance calculation: 0.48s, deduplication: 0.00s, total: 0.48s\n"
     ]
    },
    {
     "name": "stderr",
     "output_type": "stream",
     "text": [
      "Loading ground truth pairs:  90%|█████████ | 76/84 [00:30<00:03,  2.43it/s]"
     ]
    },
    {
     "name": "stdout",
     "output_type": "stream",
     "text": [
      "created 20860 pairs, discarded 497540 (96.0%) in 0.48s\n",
      "  [DEBUG] Doc 76 total time: 0.49s (append time: 0.00s)\n",
      "  [DEBUG] Doc 77/84: 547 nodes, finding neighbors... \n",
      "    [DEBUG WARNING: Computing 299,209 distance comparisons - this may be slow!]\n",
      "    [DEBUG] Distance calculation: 0.28s, deduplication: 0.00s, total: 0.28s\n",
      "created 20699 pairs, discarded 278510 (93.1%) in 0.28s\n",
      "  [DEBUG] Doc 77 total time: 0.48s (append time: 0.20s)\n"
     ]
    },
    {
     "name": "stderr",
     "output_type": "stream",
     "text": [
      "Loading ground truth pairs:  92%|█████████▏| 77/84 [00:31<00:03,  2.31it/s]"
     ]
    },
    {
     "name": "stdout",
     "output_type": "stream",
     "text": [
      "  [DEBUG] Doc 78/84: 714 nodes, finding neighbors... \n",
      "    [DEBUG WARNING: Computing 509,796 distance comparisons - this may be slow!]\n",
      "    [DEBUG] Distance calculation: 0.51s, deduplication: 0.00s, total: 0.51s\n"
     ]
    },
    {
     "name": "stderr",
     "output_type": "stream",
     "text": [
      "Loading ground truth pairs:  93%|█████████▎| 78/84 [00:31<00:02,  2.18it/s]"
     ]
    },
    {
     "name": "stdout",
     "output_type": "stream",
     "text": [
      "created 22098 pairs, discarded 487698 (95.7%) in 0.51s\n",
      "  [DEBUG] Doc 78 total time: 0.52s (append time: 0.00s)\n",
      "  [DEBUG] Doc 79/84: 785 nodes, finding neighbors... \n",
      "    [DEBUG WARNING: Computing 616,225 distance comparisons - this may be slow!]\n",
      "    [DEBUG] Distance calculation: 0.58s, deduplication: 0.00s, total: 0.59s\n"
     ]
    },
    {
     "name": "stderr",
     "output_type": "stream",
     "text": [
      "Loading ground truth pairs:  94%|█████████▍| 79/84 [00:32<00:02,  2.01it/s]"
     ]
    },
    {
     "name": "stdout",
     "output_type": "stream",
     "text": [
      "created 33605 pairs, discarded 582620 (94.5%) in 0.59s\n",
      "  [DEBUG] Doc 79 total time: 0.59s (append time: 0.00s)\n",
      "  [DEBUG] Doc 80/84: 656 nodes, finding neighbors... \n",
      "    [DEBUG WARNING: Computing 430,336 distance comparisons - this may be slow!]\n",
      "    [DEBUG] Distance calculation: 0.40s, deduplication: 0.00s, total: 0.40s\n"
     ]
    },
    {
     "name": "stderr",
     "output_type": "stream",
     "text": [
      "Loading ground truth pairs:  95%|█████████▌| 80/84 [00:32<00:01,  2.12it/s]"
     ]
    },
    {
     "name": "stdout",
     "output_type": "stream",
     "text": [
      "created 19790 pairs, discarded 410546 (95.4%) in 0.40s\n",
      "  [DEBUG] Doc 80 total time: 0.41s (append time: 0.00s)\n",
      "  [DEBUG] Doc 81/84: 449 nodes, finding neighbors... \n",
      "    [DEBUG WARNING: Computing 201,601 distance comparisons - this may be slow!]\n",
      "    [DEBUG] Distance calculation: 0.19s, deduplication: 0.00s, total: 0.19s\n"
     ]
    },
    {
     "name": "stderr",
     "output_type": "stream",
     "text": [
      "Loading ground truth pairs:  96%|█████████▋| 81/84 [00:32<00:01,  2.58it/s]"
     ]
    },
    {
     "name": "stdout",
     "output_type": "stream",
     "text": [
      "created 11633 pairs, discarded 189968 (94.2%) in 0.19s\n",
      "  [DEBUG] Doc 81 total time: 0.20s (append time: 0.00s)\n",
      "  [DEBUG] Doc 82/84: 785 nodes, finding neighbors... \n",
      "    [DEBUG WARNING: Computing 616,225 distance comparisons - this may be slow!]\n",
      "    [DEBUG] Distance calculation: 0.57s, deduplication: 0.00s, total: 0.57s\n"
     ]
    },
    {
     "name": "stderr",
     "output_type": "stream",
     "text": [
      "Loading ground truth pairs:  98%|█████████▊| 82/84 [00:33<00:00,  2.24it/s]"
     ]
    },
    {
     "name": "stdout",
     "output_type": "stream",
     "text": [
      "created 31561 pairs, discarded 584664 (94.9%) in 0.58s\n",
      "  [DEBUG] Doc 82 total time: 0.58s (append time: 0.00s)\n",
      "  [DEBUG] Doc 83/84: 677 nodes, finding neighbors... \n",
      "    [DEBUG WARNING: Computing 458,329 distance comparisons - this may be slow!]\n",
      "    [DEBUG] Distance calculation: 0.43s, deduplication: 0.00s, total: 0.43s\n"
     ]
    },
    {
     "name": "stderr",
     "output_type": "stream",
     "text": [
      "Loading ground truth pairs:  99%|█████████▉| 83/84 [00:33<00:00,  2.26it/s]"
     ]
    },
    {
     "name": "stdout",
     "output_type": "stream",
     "text": [
      "created 21993 pairs, discarded 436336 (95.2%) in 0.43s\n",
      "  [DEBUG] Doc 83 total time: 0.44s (append time: 0.00s)\n",
      "  [DEBUG] Doc 84/84: 597 nodes, finding neighbors... \n",
      "    [DEBUG WARNING: Computing 356,409 distance comparisons - this may be slow!]\n",
      "    [DEBUG] Distance calculation: 0.33s, deduplication: 0.00s, total: 0.33s\n"
     ]
    },
    {
     "name": "stderr",
     "output_type": "stream",
     "text": [
      "Loading ground truth pairs: 100%|██████████| 84/84 [00:34<00:00,  2.45it/s]\n"
     ]
    },
    {
     "name": "stdout",
     "output_type": "stream",
     "text": [
      "created 17351 pairs, discarded 339058 (95.1%) in 0.33s\n",
      "  [DEBUG] Doc 84 total time: 0.34s (append time: 0.00s)\n",
      "\n",
      "============================================================\n",
      "TRAINING PAIRS PREPARED\n",
      "============================================================\n",
      "Total pairs created: 1,668,285\n",
      "Average pairs per document: 19860.5\n",
      "Total time: 34.31s\n",
      "Average time per document: 0.41s\n",
      "============================================================\n",
      "\n",
      "Loading validation data from ground truth...\n",
      "\n",
      "============================================================\n",
      "LOADING GROUND TRUTH DATA\n",
      "============================================================\n",
      "Annotations root: data/MUSCIMA++/v2.0/data/annotations\n",
      "Images root: data/MUSCIMA++/datasets_r_staff/images\n",
      "Number of documents to load: 28\n",
      "Excluding 90 classes\n",
      "============================================================\n",
      "\n",
      "[DEBUG] File discovery took 0.00s\n",
      "Found 28 annotation files\n",
      "Found 28 image files\n",
      "\n"
     ]
    },
    {
     "name": "stderr",
     "output_type": "stream",
     "text": [
      "  0%|          | 0/28 [00:00<?, ?it/s]"
     ]
    },
    {
     "name": "stdout",
     "output_type": "stream",
     "text": [
      "  [DEBUG] 1/28: CVC-MUSCIMA_W-04_N-12_D-ideal.xml - 597 nodes (loaded in 0.908s)\n"
     ]
    },
    {
     "name": "stderr",
     "output_type": "stream",
     "text": [
      "  4%|▎         | 1/28 [00:01<00:39,  1.46s/it]"
     ]
    },
    {
     "name": "stdout",
     "output_type": "stream",
     "text": [
      "  [DEBUG] 2/28: CVC-MUSCIMA_W-05_N-11_D-ideal.xml - 733 nodes (loaded in 0.538s)\n"
     ]
    },
    {
     "name": "stderr",
     "output_type": "stream",
     "text": [
      "  7%|▋         | 2/28 [00:02<00:32,  1.25s/it]"
     ]
    },
    {
     "name": "stdout",
     "output_type": "stream",
     "text": [
      "  [DEBUG] 3/28: CVC-MUSCIMA_W-07_N-05_D-ideal.xml - 610 nodes (loaded in 0.684s)\n"
     ]
    },
    {
     "name": "stderr",
     "output_type": "stream",
     "text": [
      " 11%|█         | 3/28 [00:03<00:29,  1.18s/it]"
     ]
    },
    {
     "name": "stdout",
     "output_type": "stream",
     "text": [
      "  [DEBUG] 4/28: CVC-MUSCIMA_W-07_N-08_D-ideal.xml - 672 nodes (loaded in 0.757s)\n"
     ]
    },
    {
     "name": "stderr",
     "output_type": "stream",
     "text": [
      " 14%|█▍        | 4/28 [00:04<00:28,  1.19s/it]"
     ]
    },
    {
     "name": "stdout",
     "output_type": "stream",
     "text": [
      "  [DEBUG] 5/28: CVC-MUSCIMA_W-12_N-11_D-ideal.xml - 714 nodes (loaded in 0.546s)\n"
     ]
    },
    {
     "name": "stderr",
     "output_type": "stream",
     "text": [
      " 18%|█▊        | 5/28 [00:27<03:25,  8.95s/it]"
     ]
    },
    {
     "name": "stdout",
     "output_type": "stream",
     "text": [
      "  [DEBUG] 6/28: CVC-MUSCIMA_W-13_N-03_D-ideal.xml - 470 nodes (loaded in 0.687s)\n"
     ]
    },
    {
     "name": "stderr",
     "output_type": "stream",
     "text": [
      " 21%|██▏       | 6/28 [00:28<02:19,  6.35s/it]"
     ]
    },
    {
     "name": "stdout",
     "output_type": "stream",
     "text": [
      "  [DEBUG] 7/28: CVC-MUSCIMA_W-15_N-10_D-ideal.xml - 700 nodes (loaded in 0.655s)\n"
     ]
    },
    {
     "name": "stderr",
     "output_type": "stream",
     "text": [
      " 25%|██▌       | 7/28 [00:29<01:37,  4.64s/it]"
     ]
    },
    {
     "name": "stdout",
     "output_type": "stream",
     "text": [
      "  [DEBUG] 8/28: CVC-MUSCIMA_W-20_N-03_D-ideal.xml - 470 nodes (loaded in 0.508s)\n"
     ]
    },
    {
     "name": "stderr",
     "output_type": "stream",
     "text": [
      " 29%|██▊       | 8/28 [00:31<01:09,  3.48s/it]"
     ]
    },
    {
     "name": "stdout",
     "output_type": "stream",
     "text": [
      "  [DEBUG] 9/28: CVC-MUSCIMA_W-24_N-07_D-ideal.xml - 540 nodes (loaded in 0.549s)\n"
     ]
    },
    {
     "name": "stderr",
     "output_type": "stream",
     "text": [
      " 32%|███▏      | 9/28 [00:32<00:51,  2.71s/it]"
     ]
    },
    {
     "name": "stdout",
     "output_type": "stream",
     "text": [
      "  [DEBUG] 10/28: CVC-MUSCIMA_W-25_N-09_D-ideal.xml - 452 nodes (loaded in 0.669s)\n"
     ]
    },
    {
     "name": "stderr",
     "output_type": "stream",
     "text": [
      " 36%|███▌      | 10/28 [00:33<00:40,  2.25s/it]"
     ]
    },
    {
     "name": "stdout",
     "output_type": "stream",
     "text": [
      "  [DEBUG] 11/28: CVC-MUSCIMA_W-26_N-11_D-ideal.xml - 722 nodes (loaded in 0.704s)\n"
     ]
    },
    {
     "name": "stderr",
     "output_type": "stream",
     "text": [
      " 39%|███▉      | 11/28 [00:34<00:32,  1.93s/it]"
     ]
    },
    {
     "name": "stdout",
     "output_type": "stream",
     "text": [
      "  [DEBUG] 12/28: CVC-MUSCIMA_W-28_N-05_D-ideal.xml - 786 nodes (loaded in 0.629s)\n"
     ]
    },
    {
     "name": "stderr",
     "output_type": "stream",
     "text": [
      " 43%|████▎     | 12/28 [00:35<00:26,  1.68s/it]"
     ]
    },
    {
     "name": "stdout",
     "output_type": "stream",
     "text": [
      "  [DEBUG] 13/28: CVC-MUSCIMA_W-28_N-09_D-ideal.xml - 450 nodes (loaded in 0.620s)\n"
     ]
    },
    {
     "name": "stderr",
     "output_type": "stream",
     "text": [
      " 46%|████▋     | 13/28 [00:36<00:22,  1.51s/it]"
     ]
    },
    {
     "name": "stdout",
     "output_type": "stream",
     "text": [
      "  [DEBUG] 14/28: CVC-MUSCIMA_W-32_N-12_D-ideal.xml - 584 nodes (loaded in 0.798s)\n"
     ]
    },
    {
     "name": "stderr",
     "output_type": "stream",
     "text": [
      " 50%|█████     | 14/28 [00:37<00:20,  1.45s/it]"
     ]
    },
    {
     "name": "stdout",
     "output_type": "stream",
     "text": [
      "  [DEBUG] 15/28: CVC-MUSCIMA_W-32_N-20_D-ideal.xml - 706 nodes (loaded in 0.919s)\n"
     ]
    },
    {
     "name": "stderr",
     "output_type": "stream",
     "text": [
      " 54%|█████▎    | 15/28 [00:39<00:18,  1.45s/it]"
     ]
    },
    {
     "name": "stdout",
     "output_type": "stream",
     "text": [
      "  [DEBUG] 16/28: CVC-MUSCIMA_W-34_N-16_D-ideal.xml - 618 nodes (loaded in 0.645s)\n"
     ]
    },
    {
     "name": "stderr",
     "output_type": "stream",
     "text": [
      " 57%|█████▋    | 16/28 [00:40<00:16,  1.38s/it]"
     ]
    },
    {
     "name": "stdout",
     "output_type": "stream",
     "text": [
      "  [DEBUG] 17/28: CVC-MUSCIMA_W-35_N-08_D-ideal.xml - 669 nodes (loaded in 0.803s)\n"
     ]
    },
    {
     "name": "stderr",
     "output_type": "stream",
     "text": [
      " 61%|██████    | 17/28 [00:41<00:15,  1.37s/it]"
     ]
    },
    {
     "name": "stdout",
     "output_type": "stream",
     "text": [
      "  [DEBUG] 18/28: CVC-MUSCIMA_W-36_N-15_D-ideal.xml - 583 nodes (loaded in 0.564s)\n"
     ]
    },
    {
     "name": "stderr",
     "output_type": "stream",
     "text": [
      " 64%|██████▍   | 18/28 [00:43<00:13,  1.31s/it]"
     ]
    },
    {
     "name": "stdout",
     "output_type": "stream",
     "text": [
      "  [DEBUG] 19/28: CVC-MUSCIMA_W-37_N-06_D-ideal.xml - 769 nodes (loaded in 0.748s)\n"
     ]
    },
    {
     "name": "stderr",
     "output_type": "stream",
     "text": [
      " 68%|██████▊   | 19/28 [00:44<00:12,  1.36s/it]"
     ]
    },
    {
     "name": "stdout",
     "output_type": "stream",
     "text": [
      "  [DEBUG] 20/28: CVC-MUSCIMA_W-38_N-07_D-ideal.xml - 529 nodes (loaded in 0.739s)\n"
     ]
    },
    {
     "name": "stderr",
     "output_type": "stream",
     "text": [
      " 71%|███████▏  | 20/28 [00:45<00:10,  1.31s/it]"
     ]
    },
    {
     "name": "stdout",
     "output_type": "stream",
     "text": [
      "  [DEBUG] 21/28: CVC-MUSCIMA_W-41_N-16_D-ideal.xml - 619 nodes (loaded in 0.730s)\n"
     ]
    },
    {
     "name": "stderr",
     "output_type": "stream",
     "text": [
      " 75%|███████▌  | 21/28 [00:47<00:09,  1.30s/it]"
     ]
    },
    {
     "name": "stdout",
     "output_type": "stream",
     "text": [
      "  [DEBUG] 22/28: CVC-MUSCIMA_W-42_N-05_D-ideal.xml - 605 nodes (loaded in 0.593s)\n"
     ]
    },
    {
     "name": "stderr",
     "output_type": "stream",
     "text": [
      " 79%|███████▊  | 22/28 [00:48<00:07,  1.23s/it]"
     ]
    },
    {
     "name": "stdout",
     "output_type": "stream",
     "text": [
      "  [DEBUG] 23/28: CVC-MUSCIMA_W-44_N-06_D-ideal.xml - 809 nodes (loaded in 0.801s)\n"
     ]
    },
    {
     "name": "stderr",
     "output_type": "stream",
     "text": [
      " 82%|████████▏ | 23/28 [00:49<00:06,  1.28s/it]"
     ]
    },
    {
     "name": "stdout",
     "output_type": "stream",
     "text": [
      "  [DEBUG] 24/28: CVC-MUSCIMA_W-44_N-17_D-ideal.xml - 714 nodes (loaded in 0.598s)\n"
     ]
    },
    {
     "name": "stderr",
     "output_type": "stream",
     "text": [
      " 86%|████████▌ | 24/28 [00:50<00:04,  1.20s/it]"
     ]
    },
    {
     "name": "stdout",
     "output_type": "stream",
     "text": [
      "  [DEBUG] 25/28: CVC-MUSCIMA_W-47_N-12_D-ideal.xml - 592 nodes (loaded in 0.628s)\n"
     ]
    },
    {
     "name": "stderr",
     "output_type": "stream",
     "text": [
      " 89%|████████▉ | 25/28 [00:51<00:03,  1.18s/it]"
     ]
    },
    {
     "name": "stdout",
     "output_type": "stream",
     "text": [
      "  [DEBUG] 26/28: CVC-MUSCIMA_W-48_N-16_D-ideal.xml - 616 nodes (loaded in 0.581s)\n"
     ]
    },
    {
     "name": "stderr",
     "output_type": "stream",
     "text": [
      " 93%|█████████▎| 26/28 [00:52<00:02,  1.18s/it]"
     ]
    },
    {
     "name": "stdout",
     "output_type": "stream",
     "text": [
      "  [DEBUG] 27/28: CVC-MUSCIMA_W-49_N-03_D-ideal.xml - 468 nodes (loaded in 0.716s)\n"
     ]
    },
    {
     "name": "stderr",
     "output_type": "stream",
     "text": [
      " 96%|█████████▋| 27/28 [00:54<00:01,  1.19s/it]"
     ]
    },
    {
     "name": "stdout",
     "output_type": "stream",
     "text": [
      "  [DEBUG] 28/28: CVC-MUSCIMA_W-49_N-05_D-ideal.xml - 610 nodes (loaded in 0.622s)\n"
     ]
    },
    {
     "name": "stderr",
     "output_type": "stream",
     "text": [
      "100%|██████████| 28/28 [00:55<00:00,  1.97s/it]\n"
     ]
    },
    {
     "name": "stdout",
     "output_type": "stream",
     "text": [
      "\n",
      "✓ Loaded 28 documents in 55.16s\n",
      "[DEBUG] Average mung load time: 0.676s\n",
      "[DEBUG] Average image load time: 1.293s\n",
      "\n",
      "\n",
      "============================================================\n",
      "PREPARING TRAINING PAIRS FROM GROUND TRUTH\n",
      "============================================================\n",
      "Total documents to process: 28\n",
      "Filter pairs by distance: False\n",
      "============================================================\n",
      "\n"
     ]
    },
    {
     "name": "stderr",
     "output_type": "stream",
     "text": [
      "Loading ground truth pairs:   0%|          | 0/28 [00:00<?, ?it/s]"
     ]
    },
    {
     "name": "stdout",
     "output_type": "stream",
     "text": [
      "  [DEBUG] Doc 1/28: 597 nodes, generating all pairs... created 356409 pairs in 0.04s\n"
     ]
    },
    {
     "name": "stderr",
     "output_type": "stream",
     "text": [
      "Loading ground truth pairs:   4%|▎         | 1/28 [00:00<00:10,  2.59it/s]"
     ]
    },
    {
     "name": "stdout",
     "output_type": "stream",
     "text": [
      "  [DEBUG] Doc 1 total time: 0.39s (append time: 0.35s)\n",
      "  [DEBUG] Doc 2/28: 733 nodes, generating all pairs... created 537289 pairs in 0.02s\n"
     ]
    },
    {
     "name": "stderr",
     "output_type": "stream",
     "text": [
      "Loading ground truth pairs:   7%|▋         | 2/28 [00:00<00:09,  2.71it/s]"
     ]
    },
    {
     "name": "stdout",
     "output_type": "stream",
     "text": [
      "  [DEBUG] Doc 2 total time: 0.36s (append time: 0.33s)\n",
      "  [DEBUG] Doc 3/28: 610 nodes, generating all pairs... created 372100 pairs in 0.02s\n",
      "  [DEBUG] Doc 3 total time: 0.06s (append time: 0.04s)\n",
      "  [DEBUG] Doc 4/28: 672 nodes, generating all pairs... "
     ]
    },
    {
     "name": "stderr",
     "output_type": "stream",
     "text": [
      "Loading ground truth pairs:  14%|█▍        | 4/28 [00:01<00:06,  3.51it/s]"
     ]
    },
    {
     "name": "stdout",
     "output_type": "stream",
     "text": [
      "created 451584 pairs in 0.36s\n",
      "  [DEBUG] Doc 4 total time: 0.41s (append time: 0.05s)\n",
      "  [DEBUG] Doc 5/28: 714 nodes, generating all pairs... created 509796 pairs in 0.02s\n",
      "  [DEBUG] Doc 5 total time: 0.08s (append time: 0.06s)\n",
      "  [DEBUG] Doc 6/28: 470 nodes, generating all pairs... created 220900 pairs in 0.47s\n"
     ]
    },
    {
     "name": "stderr",
     "output_type": "stream",
     "text": [
      "Loading ground truth pairs:  21%|██▏       | 6/28 [00:01<00:06,  3.48it/s]"
     ]
    },
    {
     "name": "stdout",
     "output_type": "stream",
     "text": [
      "  [DEBUG] Doc 6 total time: 0.50s (append time: 0.03s)\n",
      "  [DEBUG] Doc 7/28: 700 nodes, generating all pairs... created 490000 pairs in 0.03s\n",
      "  [DEBUG] Doc 7 total time: 0.08s (append time: 0.06s)\n",
      "  [DEBUG] Doc 8/28: 470 nodes, generating all pairs... "
     ]
    },
    {
     "name": "stderr",
     "output_type": "stream",
     "text": [
      "Loading ground truth pairs:  29%|██▊       | 8/28 [00:01<00:03,  5.11it/s]"
     ]
    },
    {
     "name": "stdout",
     "output_type": "stream",
     "text": [
      "created 220900 pairs in 0.01s\n",
      "  [DEBUG] Doc 8 total time: 0.03s (append time: 0.03s)\n",
      "  [DEBUG] Doc 9/28: 540 nodes, generating all pairs... "
     ]
    },
    {
     "name": "stderr",
     "output_type": "stream",
     "text": [
      "Loading ground truth pairs:  32%|███▏      | 9/28 [00:02<00:05,  3.71it/s]"
     ]
    },
    {
     "name": "stdout",
     "output_type": "stream",
     "text": [
      "created 291600 pairs in 0.01s\n",
      "  [DEBUG] Doc 9 total time: 0.52s (append time: 0.51s)\n",
      "  [DEBUG] Doc 10/28: 452 nodes, generating all pairs... created 204304 pairs in 0.01s\n",
      "  [DEBUG] Doc 10 total time: 0.04s (append time: 0.03s)\n",
      "  [DEBUG] Doc 11/28: 722 nodes, generating all pairs... "
     ]
    },
    {
     "name": "stderr",
     "output_type": "stream",
     "text": [
      "Loading ground truth pairs:  39%|███▉      | 11/28 [00:02<00:03,  5.31it/s]"
     ]
    },
    {
     "name": "stdout",
     "output_type": "stream",
     "text": [
      "created 521284 pairs in 0.02s\n",
      "  [DEBUG] Doc 11 total time: 0.08s (append time: 0.06s)\n",
      "  [DEBUG] Doc 12/28: 786 nodes, generating all pairs... created 617796 pairs in 0.03s\n"
     ]
    },
    {
     "name": "stderr",
     "output_type": "stream",
     "text": [
      "Loading ground truth pairs:  43%|████▎     | 12/28 [00:03<00:04,  3.34it/s]"
     ]
    },
    {
     "name": "stdout",
     "output_type": "stream",
     "text": [
      "  [DEBUG] Doc 12 total time: 0.70s (append time: 0.67s)\n",
      "  [DEBUG] Doc 13/28: 450 nodes, generating all pairs... created 202500 pairs in 0.01s\n",
      "  [DEBUG] Doc 13 total time: 0.04s (append time: 0.03s)\n",
      "  [DEBUG] Doc 14/28: 584 nodes, generating all pairs... created 341056 pairs in 0.02s\n",
      "  [DEBUG] Doc 14 total time: 0.06s (append time: 0.04s)\n",
      "  [DEBUG] Doc 15/28: 706 nodes, generating all pairs... "
     ]
    },
    {
     "name": "stderr",
     "output_type": "stream",
     "text": [
      "Loading ground truth pairs:  54%|█████▎    | 15/28 [00:03<00:02,  5.48it/s]"
     ]
    },
    {
     "name": "stdout",
     "output_type": "stream",
     "text": [
      "created 498436 pairs in 0.02s\n",
      "  [DEBUG] Doc 15 total time: 0.08s (append time: 0.06s)\n",
      "  [DEBUG] Doc 16/28: 618 nodes, generating all pairs... created 381924 pairs in 0.02s\n",
      "  [DEBUG] Doc 16 total time: 0.85s (append time: 0.83s)\n",
      "  [DEBUG] Doc 17/28: 669 nodes, generating all pairs... "
     ]
    },
    {
     "name": "stderr",
     "output_type": "stream",
     "text": [
      "Loading ground truth pairs:  61%|██████    | 17/28 [00:04<00:02,  3.69it/s]"
     ]
    },
    {
     "name": "stdout",
     "output_type": "stream",
     "text": [
      "created 447561 pairs in 0.02s\n",
      "  [DEBUG] Doc 17 total time: 0.08s (append time: 0.05s)\n",
      "  [DEBUG] Doc 18/28: 583 nodes, generating all pairs... created 339889 pairs in 0.02s\n",
      "  [DEBUG] Doc 18 total time: 0.06s (append time: 0.04s)\n",
      "  [DEBUG] Doc 19/28: 769 nodes, generating all pairs... created 591361 pairs in 0.04s\n"
     ]
    },
    {
     "name": "stderr",
     "output_type": "stream",
     "text": [
      "Loading ground truth pairs:  68%|██████▊   | 19/28 [00:04<00:01,  4.68it/s]"
     ]
    },
    {
     "name": "stdout",
     "output_type": "stream",
     "text": [
      "  [DEBUG] Doc 19 total time: 0.11s (append time: 0.07s)\n",
      "  [DEBUG] Doc 20/28: 529 nodes, generating all pairs... created 279841 pairs in 0.01s\n",
      "  [DEBUG] Doc 20 total time: 0.05s (append time: 0.04s)\n",
      "  [DEBUG] Doc 21/28: 619 nodes, generating all pairs... created 383161 pairs in 0.02s\n"
     ]
    },
    {
     "name": "stderr",
     "output_type": "stream",
     "text": [
      "Loading ground truth pairs:  75%|███████▌  | 21/28 [00:05<00:02,  3.25it/s]"
     ]
    },
    {
     "name": "stdout",
     "output_type": "stream",
     "text": [
      "  [DEBUG] Doc 21 total time: 0.99s (append time: 0.97s)\n",
      "  [DEBUG] Doc 22/28: 605 nodes, generating all pairs... created 366025 pairs in 0.02s\n",
      "  [DEBUG] Doc 22 total time: 0.06s (append time: 0.04s)\n",
      "  [DEBUG] Doc 23/28: 809 nodes, generating all pairs... "
     ]
    },
    {
     "name": "stderr",
     "output_type": "stream",
     "text": [
      "Loading ground truth pairs:  82%|████████▏ | 23/28 [00:05<00:01,  4.16it/s]"
     ]
    },
    {
     "name": "stdout",
     "output_type": "stream",
     "text": [
      "created 654481 pairs in 0.04s\n",
      "  [DEBUG] Doc 23 total time: 0.11s (append time: 0.08s)\n",
      "  [DEBUG] Doc 24/28: 714 nodes, generating all pairs... created 509796 pairs in 0.02s\n"
     ]
    },
    {
     "name": "stderr",
     "output_type": "stream",
     "text": [
      "Loading ground truth pairs:  86%|████████▌ | 24/28 [00:05<00:00,  4.52it/s]"
     ]
    },
    {
     "name": "stdout",
     "output_type": "stream",
     "text": [
      "  [DEBUG] Doc 24 total time: 0.13s (append time: 0.11s)\n",
      "  [DEBUG] Doc 25/28: 592 nodes, generating all pairs... created 350464 pairs in 0.02s\n",
      "  [DEBUG] Doc 25 total time: 0.06s (append time: 0.05s)\n",
      "  [DEBUG] Doc 26/28: 616 nodes, generating all pairs... created 379456 pairs in 0.02s\n",
      "  [DEBUG] Doc 26 total time: 0.06s (append time: 0.04s)\n"
     ]
    },
    {
     "name": "stderr",
     "output_type": "stream",
     "text": [
      "Loading ground truth pairs:  93%|█████████▎| 26/28 [00:06<00:00,  5.95it/s]"
     ]
    },
    {
     "name": "stdout",
     "output_type": "stream",
     "text": [
      "  [DEBUG] Doc 27/28: 468 nodes, generating all pairs... created 219024 pairs in 0.01s\n",
      "  [DEBUG] Doc 27 total time: 1.22s (append time: 1.22s)\n",
      "  [DEBUG] Doc 28/28: 610 nodes, generating all pairs... "
     ]
    },
    {
     "name": "stderr",
     "output_type": "stream",
     "text": [
      "Loading ground truth pairs: 100%|██████████| 28/28 [00:07<00:00,  3.84it/s]"
     ]
    },
    {
     "name": "stdout",
     "output_type": "stream",
     "text": [
      "created 372100 pairs in 0.02s\n",
      "  [DEBUG] Doc 28 total time: 0.06s (append time: 0.04s)\n",
      "\n",
      "============================================================\n",
      "TRAINING PAIRS PREPARED\n",
      "============================================================\n",
      "Total pairs created: 11,111,037\n",
      "Average pairs per document: 396822.8\n",
      "Total time: 7.29s\n",
      "Average time per document: 0.26s\n",
      "============================================================\n",
      "\n",
      "\n",
      "Training samples: 1,668,285\n",
      "Validation samples: 11,111,037\n"
     ]
    },
    {
     "name": "stderr",
     "output_type": "stream",
     "text": [
      "\n"
     ]
    }
   ],
   "source": [
    "# Get class information\n",
    "class_list, class_dict = get_classlist_and_classdict(classes)\n",
    "class_list = list(class_list)\n",
    "print(f'Loaded {len(class_list)} classes')\n",
    "\n",
    "# Load data configuration\n",
    "with open(cfg.DATA.DATA_CONFIG, 'rb') as hdl:\n",
    "    data_config = yaml.load(hdl, Loader=yaml.FullLoader)\n",
    "data_config['mode'] = cfg.MODEL.MODE\n",
    "\n",
    "print('\\nLoading data...')\n",
    "data = load_ground_truth_data(\n",
    "    gt_annotations_root=gt_annotations_root,\n",
    "    images_root=images_root,\n",
    "    split_file=split_file,\n",
    "    class_list=class_list,\n",
    "    class_dict=class_dict,\n",
    "    config=data_config,\n",
    "    load_training_data=True,\n",
    "    load_validation_data=True,\n",
    "    load_test_data=False,\n",
    ")\n",
    "\n",
    "print(f'\\nTraining samples: {len(data[\"train\"]):,}')\n",
    "print(f'Validation samples: {len(data[\"valid\"]):,}')"
   ]
  },
  {
   "cell_type": "code",
   "execution_count": 67,
   "metadata": {},
   "outputs": [
    {
     "name": "stdout",
     "output_type": "stream",
     "text": [
      "Loading test data from ground truth...\n",
      "\n",
      "============================================================\n",
      "LOADING GROUND TRUTH DATA\n",
      "============================================================\n",
      "Annotations root: data/MUSCIMA++/v2.0/data/annotations\n",
      "Images root: data/MUSCIMA++/datasets_r_staff/images\n",
      "Number of documents to load: 28\n",
      "Excluding 90 classes\n",
      "============================================================\n",
      "\n",
      "[DEBUG] File discovery took 0.00s\n",
      "Found 28 annotation files\n",
      "Found 28 image files\n",
      "\n"
     ]
    },
    {
     "name": "stderr",
     "output_type": "stream",
     "text": [
      "  7%|▋         | 2/28 [00:00<00:01, 17.04it/s]"
     ]
    },
    {
     "name": "stdout",
     "output_type": "stream",
     "text": [
      "  [DEBUG] 1/28: CVC-MUSCIMA_W-01_N-10_D-ideal.xml - 702 nodes (loaded in 0.062s)\n",
      "  [DEBUG] 2/28: CVC-MUSCIMA_W-01_N-14_D-ideal.xml - 493 nodes (loaded in 0.037s)\n",
      "  [DEBUG] 3/28: CVC-MUSCIMA_W-03_N-07_D-ideal.xml - 538 nodes (loaded in 0.031s)\n",
      "  [DEBUG] 4/28: CVC-MUSCIMA_W-04_N-09_D-ideal.xml - 449 nodes (loaded in 0.028s)\n"
     ]
    },
    {
     "name": "stderr",
     "output_type": "stream",
     "text": [
      " 18%|█▊        | 5/28 [00:00<00:01, 22.85it/s]"
     ]
    },
    {
     "name": "stdout",
     "output_type": "stream",
     "text": [
      "  [DEBUG] 5/28: CVC-MUSCIMA_W-05_N-19_D-ideal.xml - 494 nodes (loaded in 0.035s)\n"
     ]
    },
    {
     "name": "stderr",
     "output_type": "stream",
     "text": [
      " 29%|██▊       | 8/28 [00:00<00:00, 21.85it/s]"
     ]
    },
    {
     "name": "stdout",
     "output_type": "stream",
     "text": [
      "  [DEBUG] 6/28: CVC-MUSCIMA_W-06_N-02_D-ideal.xml - 657 nodes (loaded in 0.041s)\n",
      "  [DEBUG] 7/28: CVC-MUSCIMA_W-11_N-20_D-ideal.xml - 714 nodes (loaded in 0.051s)\n",
      "  [DEBUG] 8/28: CVC-MUSCIMA_W-15_N-14_D-ideal.xml - 491 nodes (loaded in 0.030s)\n",
      "  [DEBUG] 9/28: CVC-MUSCIMA_W-17_N-18_D-ideal.xml - 725 nodes (loaded in 0.058s)\n"
     ]
    },
    {
     "name": "stderr",
     "output_type": "stream",
     "text": [
      " 39%|███▉      | 11/28 [00:00<00:00, 21.01it/s]"
     ]
    },
    {
     "name": "stdout",
     "output_type": "stream",
     "text": [
      "  [DEBUG] 10/28: CVC-MUSCIMA_W-18_N-12_D-ideal.xml - 598 nodes (loaded in 0.047s)\n",
      "  [DEBUG] 11/28: CVC-MUSCIMA_W-19_N-11_D-ideal.xml - 434 nodes (loaded in 0.027s)\n",
      "  [DEBUG] 12/28: CVC-MUSCIMA_W-22_N-10_D-ideal.xml - 701 nodes (loaded in 0.100s)\n",
      "  [DEBUG] 13/28: CVC-MUSCIMA_W-23_N-13_D-ideal.xml - 557 nodes (loaded in 0.042s)\n"
     ]
    },
    {
     "name": "stderr",
     "output_type": "stream",
     "text": [
      " 57%|█████▋    | 16/28 [00:00<00:00, 18.02it/s]"
     ]
    },
    {
     "name": "stdout",
     "output_type": "stream",
     "text": [
      "  [DEBUG] 14/28: CVC-MUSCIMA_W-23_N-17_D-ideal.xml - 728 nodes (loaded in 0.052s)\n",
      "  [DEBUG] 15/28: CVC-MUSCIMA_W-25_N-20_D-ideal.xml - 712 nodes (loaded in 0.047s)\n",
      "  [DEBUG] 16/28: CVC-MUSCIMA_W-26_N-04_D-ideal.xml - 785 nodes (loaded in 0.044s)\n",
      "  [DEBUG] 17/28: CVC-MUSCIMA_W-28_N-08_D-ideal.xml - 672 nodes (loaded in 0.045s)\n"
     ]
    },
    {
     "name": "stderr",
     "output_type": "stream",
     "text": [
      " 75%|███████▌  | 21/28 [00:01<00:00, 19.67it/s]"
     ]
    },
    {
     "name": "stdout",
     "output_type": "stream",
     "text": [
      "  [DEBUG] 18/28: CVC-MUSCIMA_W-30_N-06_D-ideal.xml - 765 nodes (loaded in 0.050s)\n",
      "  [DEBUG] 19/28: CVC-MUSCIMA_W-30_N-13_D-ideal.xml - 557 nodes (loaded in 0.042s)\n",
      "  [DEBUG] 20/28: CVC-MUSCIMA_W-33_N-19_D-ideal.xml - 489 nodes (loaded in 0.030s)\n",
      "  [DEBUG] 21/28: CVC-MUSCIMA_W-34_N-03_D-ideal.xml - 475 nodes (loaded in 0.043s)\n",
      "  [DEBUG] 22/28: CVC-MUSCIMA_W-35_N-05_D-ideal.xml - 612 nodes (loaded in 0.047s)\n"
     ]
    },
    {
     "name": "stderr",
     "output_type": "stream",
     "text": [
      " 86%|████████▌ | 24/28 [00:01<00:00, 20.02it/s]"
     ]
    },
    {
     "name": "stdout",
     "output_type": "stream",
     "text": [
      "  [DEBUG] 23/28: CVC-MUSCIMA_W-37_N-13_D-ideal.xml - 559 nodes (loaded in 0.039s)\n",
      "  [DEBUG] 24/28: CVC-MUSCIMA_W-38_N-01_D-ideal.xml - 690 nodes (loaded in 0.045s)\n",
      "  [DEBUG] 25/28: CVC-MUSCIMA_W-41_N-02_D-ideal.xml - 633 nodes (loaded in 0.040s)\n",
      "  [DEBUG] 26/28: CVC-MUSCIMA_W-43_N-10_D-ideal.xml - 691 nodes (loaded in 0.045s)\n"
     ]
    },
    {
     "name": "stderr",
     "output_type": "stream",
     "text": [
      " 96%|█████████▋| 27/28 [00:01<00:00, 20.72it/s]"
     ]
    },
    {
     "name": "stdout",
     "output_type": "stream",
     "text": [
      "  [DEBUG] 27/28: CVC-MUSCIMA_W-44_N-13_D-ideal.xml - 550 nodes (loaded in 0.036s)\n"
     ]
    },
    {
     "name": "stderr",
     "output_type": "stream",
     "text": [
      "100%|██████████| 28/28 [00:01<00:00, 19.85it/s]\n"
     ]
    },
    {
     "name": "stdout",
     "output_type": "stream",
     "text": [
      "  [DEBUG] 28/28: CVC-MUSCIMA_W-49_N-11_D-ideal.xml - 727 nodes (loaded in 0.046s)\n",
      "\n",
      "✓ Loaded 28 documents in 1.41s\n",
      "[DEBUG] Average mung load time: 0.044s\n",
      "[DEBUG] Average image load time: 0.006s\n",
      "\n",
      "\n",
      "============================================================\n",
      "PREPARING TRAINING PAIRS FROM GROUND TRUTH\n",
      "============================================================\n",
      "Total documents to process: 28\n",
      "Filter pairs by distance: False\n",
      "============================================================\n",
      "\n"
     ]
    },
    {
     "name": "stderr",
     "output_type": "stream",
     "text": [
      "Loading ground truth pairs:   0%|          | 0/28 [00:00<?, ?it/s]"
     ]
    },
    {
     "name": "stdout",
     "output_type": "stream",
     "text": [
      "  [DEBUG] Doc 1/28: 702 nodes, generating all pairs... created 492804 pairs in 0.02s\n",
      "  [DEBUG] Doc 1 total time: 0.09s (append time: 0.06s)\n",
      "  [DEBUG] Doc 2/28: 493 nodes, generating all pairs... "
     ]
    },
    {
     "name": "stderr",
     "output_type": "stream",
     "text": [
      "Loading ground truth pairs:   7%|▋         | 2/28 [00:11<02:25,  5.58s/it]"
     ]
    },
    {
     "name": "stdout",
     "output_type": "stream",
     "text": [
      "created 243049 pairs in 11.06s\n",
      "  [DEBUG] Doc 2 total time: 11.08s (append time: 0.03s)\n",
      "  [DEBUG] Doc 3/28: 538 nodes, generating all pairs... created 289444 pairs in 0.02s\n",
      "  [DEBUG] Doc 3 total time: 0.07s (append time: 0.05s)\n",
      "  [DEBUG] Doc 4/28: 449 nodes, generating all pairs... "
     ]
    },
    {
     "name": "stderr",
     "output_type": "stream",
     "text": [
      "Loading ground truth pairs:  14%|█▍        | 4/28 [00:11<00:55,  2.33s/it]"
     ]
    },
    {
     "name": "stdout",
     "output_type": "stream",
     "text": [
      "created 201601 pairs in 0.01s\n",
      "  [DEBUG] Doc 4 total time: 0.04s (append time: 0.02s)\n",
      "  [DEBUG] Doc 5/28: 494 nodes, generating all pairs... created 244036 pairs in 0.02s\n",
      "  [DEBUG] Doc 5 total time: 0.05s (append time: 0.03s)\n",
      "  [DEBUG] Doc 6/28: 657 nodes, generating all pairs... created 431649 pairs in 0.02s\n"
     ]
    },
    {
     "name": "stderr",
     "output_type": "stream",
     "text": [
      "Loading ground truth pairs:  21%|██▏       | 6/28 [00:11<00:28,  1.30s/it]"
     ]
    },
    {
     "name": "stdout",
     "output_type": "stream",
     "text": [
      "  [DEBUG] Doc 6 total time: 0.08s (append time: 0.06s)\n",
      "  [DEBUG] Doc 7/28: 714 nodes, generating all pairs... created 509796 pairs in 0.02s\n",
      "  [DEBUG] Doc 7 total time: 0.09s (append time: 0.07s)\n",
      "  [DEBUG] Doc 8/28: 491 nodes, generating all pairs... created 241081 pairs in 0.02s\n",
      "  [DEBUG] Doc 8 total time: 0.04s (append time: 0.03s)\n"
     ]
    },
    {
     "name": "stderr",
     "output_type": "stream",
     "text": [
      "Loading ground truth pairs:  29%|██▊       | 8/28 [00:11<00:16,  1.23it/s]"
     ]
    },
    {
     "name": "stdout",
     "output_type": "stream",
     "text": [
      "  [DEBUG] Doc 9/28: 725 nodes, generating all pairs... created 525625 pairs in 0.03s\n",
      "  [DEBUG] Doc 9 total time: 0.10s (append time: 0.07s)\n",
      "  [DEBUG] Doc 10/28: 598 nodes, generating all pairs... created 357604 pairs in 0.01s\n"
     ]
    },
    {
     "name": "stderr",
     "output_type": "stream",
     "text": [
      "Loading ground truth pairs:  36%|███▌      | 10/28 [00:11<00:09,  1.83it/s]"
     ]
    },
    {
     "name": "stdout",
     "output_type": "stream",
     "text": [
      "  [DEBUG] Doc 10 total time: 0.06s (append time: 0.04s)\n",
      "  [DEBUG] Doc 11/28: 434 nodes, generating all pairs... created 188356 pairs in 0.01s\n",
      "  [DEBUG] Doc 11 total time: 0.03s (append time: 0.02s)\n",
      "  [DEBUG] Doc 12/28: 701 nodes, generating all pairs... created 491401 pairs in 0.03s\n"
     ]
    },
    {
     "name": "stderr",
     "output_type": "stream",
     "text": [
      "Loading ground truth pairs:  43%|████▎     | 12/28 [00:11<00:06,  2.63it/s]"
     ]
    },
    {
     "name": "stdout",
     "output_type": "stream",
     "text": [
      "  [DEBUG] Doc 12 total time: 0.09s (append time: 0.06s)\n",
      "  [DEBUG] Doc 13/28: 557 nodes, generating all pairs... created 310249 pairs in 0.01s\n",
      "  [DEBUG] Doc 13 total time: 0.05s (append time: 0.04s)\n",
      "  [DEBUG] Doc 14/28: 728 nodes, generating all pairs... created 529984 pairs in 0.03s\n"
     ]
    },
    {
     "name": "stderr",
     "output_type": "stream",
     "text": [
      "Loading ground truth pairs:  50%|█████     | 14/28 [00:11<00:03,  3.58it/s]"
     ]
    },
    {
     "name": "stdout",
     "output_type": "stream",
     "text": [
      "  [DEBUG] Doc 14 total time: 0.09s (append time: 0.06s)\n",
      "  [DEBUG] Doc 15/28: 712 nodes, generating all pairs... created 506944 pairs in 0.04s\n",
      "  [DEBUG] Doc 15 total time: 0.10s (append time: 0.06s)\n",
      "  [DEBUG] Doc 16/28: 785 nodes, generating all pairs... created 616225 pairs in 0.03s\n"
     ]
    },
    {
     "name": "stderr",
     "output_type": "stream",
     "text": [
      "Loading ground truth pairs:  57%|█████▋    | 16/28 [00:12<00:02,  4.48it/s]"
     ]
    },
    {
     "name": "stdout",
     "output_type": "stream",
     "text": [
      "  [DEBUG] Doc 16 total time: 0.11s (append time: 0.07s)\n",
      "  [DEBUG] Doc 17/28: 672 nodes, generating all pairs... created 451584 pairs in 0.02s\n",
      "  [DEBUG] Doc 17 total time: 0.08s (append time: 0.06s)\n",
      "  [DEBUG] Doc 18/28: 765 nodes, generating all pairs... created 585225 pairs in 13.82s\n"
     ]
    },
    {
     "name": "stderr",
     "output_type": "stream",
     "text": [
      "Loading ground truth pairs:  64%|██████▍   | 18/28 [00:26<00:23,  2.34s/it]"
     ]
    },
    {
     "name": "stdout",
     "output_type": "stream",
     "text": [
      "  [DEBUG] Doc 18 total time: 13.91s (append time: 0.09s)\n",
      "  [DEBUG] Doc 19/28: 557 nodes, generating all pairs... created 310249 pairs in 0.02s\n",
      "  [DEBUG] Doc 19 total time: 0.06s (append time: 0.04s)\n",
      "  [DEBUG] Doc 20/28: 489 nodes, generating all pairs... "
     ]
    },
    {
     "name": "stderr",
     "output_type": "stream",
     "text": [
      "Loading ground truth pairs:  71%|███████▏  | 20/28 [00:26<00:13,  1.63s/it]"
     ]
    },
    {
     "name": "stdout",
     "output_type": "stream",
     "text": [
      "created 239121 pairs in 0.01s\n",
      "  [DEBUG] Doc 20 total time: 0.04s (append time: 0.03s)\n",
      "  [DEBUG] Doc 21/28: 475 nodes, generating all pairs... created 225625 pairs in 0.01s\n",
      "  [DEBUG] Doc 21 total time: 0.04s (append time: 0.03s)\n",
      "  [DEBUG] Doc 22/28: 612 nodes, generating all pairs... created 374544 pairs in 0.02s\n",
      "  [DEBUG] Doc 22 total time: 0.07s (append time: 0.05s)"
     ]
    },
    {
     "name": "stderr",
     "output_type": "stream",
     "text": [
      "Loading ground truth pairs:  79%|███████▊  | 22/28 [00:26<00:06,  1.15s/it]"
     ]
    },
    {
     "name": "stdout",
     "output_type": "stream",
     "text": [
      "\n",
      "  [DEBUG] Doc 23/28: 559 nodes, generating all pairs... created 312481 pairs in 0.02s\n",
      "  [DEBUG] Doc 23 total time: 0.05s (append time: 0.04s)\n",
      "  [DEBUG] Doc 24/28: 690 nodes, generating all pairs... created 476100 pairs in 0.02s\n"
     ]
    },
    {
     "name": "stderr",
     "output_type": "stream",
     "text": [
      "Loading ground truth pairs:  86%|████████▌ | 24/28 [00:26<00:03,  1.22it/s]"
     ]
    },
    {
     "name": "stdout",
     "output_type": "stream",
     "text": [
      "  [DEBUG] Doc 24 total time: 0.08s (append time: 0.06s)\n",
      "  [DEBUG] Doc 25/28: 633 nodes, generating all pairs... created 400689 pairs in 0.02s\n",
      "  [DEBUG] Doc 25 total time: 0.07s (append time: 0.05s)\n",
      "  [DEBUG] Doc 26/28: 691 nodes, generating all pairs... created 477481 pairs in 0.02s\n"
     ]
    },
    {
     "name": "stderr",
     "output_type": "stream",
     "text": [
      "Loading ground truth pairs:  93%|█████████▎| 26/28 [00:26<00:01,  1.68it/s]"
     ]
    },
    {
     "name": "stdout",
     "output_type": "stream",
     "text": [
      "  [DEBUG] Doc 26 total time: 0.08s (append time: 0.06s)\n",
      "  [DEBUG] Doc 27/28: 550 nodes, generating all pairs... created 302500 pairs in 0.02s\n",
      "  [DEBUG] Doc 27 total time: 0.05s (append time: 0.04s)\n",
      "  [DEBUG] Doc 28/28: 727 nodes, generating all pairs... created 528529 pairs in 0.02s\n"
     ]
    },
    {
     "name": "stderr",
     "output_type": "stream",
     "text": [
      "Loading ground truth pairs: 100%|██████████| 28/28 [00:26<00:00,  1.05it/s]"
     ]
    },
    {
     "name": "stdout",
     "output_type": "stream",
     "text": [
      "  [DEBUG] Doc 28 total time: 0.09s (append time: 0.06s)\n",
      "\n",
      "============================================================\n",
      "TRAINING PAIRS PREPARED\n",
      "============================================================\n",
      "Total pairs created: 10,863,976\n",
      "Average pairs per document: 387999.1\n",
      "Total time: 26.79s\n",
      "Average time per document: 0.96s\n",
      "============================================================\n",
      "\n"
     ]
    },
    {
     "name": "stderr",
     "output_type": "stream",
     "text": [
      "\n"
     ]
    }
   ],
   "source": [
    "data_test = load_ground_truth_data(\n",
    "    gt_annotations_root=gt_annotations_root,\n",
    "    images_root=images_root,\n",
    "    split_file=split_file,\n",
    "    class_list=class_list,\n",
    "    class_dict=class_dict,\n",
    "    config=data_config,\n",
    "    load_training_data=False,\n",
    "    load_validation_data=False,\n",
    "    load_test_data=True,\n",
    ")"
   ]
  },
  {
   "cell_type": "code",
   "execution_count": 69,
   "metadata": {},
   "outputs": [],
   "source": [
    "test_data = data_test['test']"
   ]
  },
  {
   "cell_type": "code",
   "execution_count": 7,
   "metadata": {},
   "outputs": [],
   "source": [
    "train_data = data['train']\n",
    "valid_data = data['valid']"
   ]
  },
  {
   "cell_type": "code",
   "execution_count": 43,
   "metadata": {},
   "outputs": [
    {
     "data": {
      "text/plain": [
       "{'node1_id': 149,\n",
       " 'node2_id': 525,\n",
       " 'source_bbox': tensor([-0.4133,  0.5873, -0.3750,  0.5963]),\n",
       " 'source_class': tensor(2),\n",
       " 'target_bbox': tensor([-0.3739,  0.5850, -0.3514,  0.6008]),\n",
       " 'target_class': tensor(25),\n",
       " 'node1_class': tensor(2),\n",
       " 'node2_class': tensor(25),\n",
       " 'label': tensor([1.])}"
      ]
     },
     "execution_count": 43,
     "metadata": {},
     "output_type": "execute_result"
    }
   ],
   "source": [
    "train_data[18979]"
   ]
  },
  {
   "cell_type": "markdown",
   "metadata": {},
   "source": [
    "## 5. Build Model"
   ]
  },
  {
   "cell_type": "code",
   "execution_count": null,
   "metadata": {},
   "outputs": [],
   "source": [
    "from yacs.config import CfgNode as CN\n",
    "\n",
    "\n",
    "_C = CN()\n",
    "\n",
    "# System setup\n",
    "_C.SYSTEM = CN()\n",
    "_C.SYSTEM.NUM_GPUS = 1\n",
    "_C.SYSTEM.NUM_WORKERS = 4\n",
    "_C.SYSTEM.SEED = 95\n",
    "\n",
    "# Data setup\n",
    "_C.DATA = CN()\n",
    "_C.DATA.DATA_CONFIG = \"configs/muscima_nogrammar.yaml\"\n",
    "\n",
    "# Model setup\n",
    "_C.MODEL = CN()\n",
    "_C.MODEL.MODE = \"MLP\"\n",
    "_C.MODEL.MLP_CONFIG = [32, 32]\n",
    "_C.MODEL.EMBEDDING_DIM = 32\n",
    "_C.MODEL.VOCAB_DIM = 177\n",
    "\n",
    "# Training parameter\n",
    "_C.TRAIN = CN()\n",
    "_C.TRAIN.NUM_EPOCHS = 10\n",
    "_C.TRAIN.BATCH_SIZE = 32\n",
    "_C.TRAIN.EVAL_FREQUENCY = 5\n",
    "_C.TRAIN.SAVE_FREQUENCY = 5\n",
    "# Loss and Optimizer\n",
    "_C.TRAIN.POS_WEIGHT = 1\n",
    "_C.TRAIN.OPTIMIZER = \"Adam\"\n",
    "_C.TRAIN.LEARNING_RATE = 1e-3\n",
    "\n",
    "# Inference/Evaluation setup\n",
    "_C.EVAL = CN()\n",
    "_C.EVAL.BATCH_SIZE = 32\n",
    "\n",
    "def get_cfg_defaults():\n",
    "  \"\"\"Get a yacs CfgNode object with default values for my_project.\"\"\"\n",
    "  # Return a clone so that the defaults will not be altered\n",
    "  # This is for the \"local variable\" use pattern\n",
    "  return _C.clone()\n",
    "\n",
    "# Alternatively, provide a way to import the defaults as\n",
    "# a global singleton:\n",
    "# cfg = _C  # users can `from config import cfg`\n"
   ]
  },
  {
   "cell_type": "code",
   "execution_count": 50,
   "metadata": {},
   "outputs": [],
   "source": [
    "LEARNING_RATE = 1e-3\n",
    "POS_WEIGHT = 1\n",
    "BATCH_SIZE = 32\n",
    "NUM_EPOCHS = 10"
   ]
  },
  {
   "cell_type": "code",
   "execution_count": 74,
   "metadata": {},
   "outputs": [
    {
     "name": "stdout",
     "output_type": "stream",
     "text": [
      "Model built!\n",
      "Total parameters: 9,089\n"
     ]
    }
   ],
   "source": [
    "# Build model\n",
    "model = MLP(cfg)\n",
    "model = model.to(device)\n",
    "\n",
    "# Optimizer and loss\n",
    "optimizer = torch.optim.Adam(model.parameters(), lr=LEARNING_RATE)\n",
    "criterion = torch.nn.BCEWithLogitsLoss(pos_weight=torch.tensor(POS_WEIGHT).to(device))\n",
    "\n",
    "print('Model built!')\n",
    "print(f'Total parameters: {sum(p.numel() for p in model.parameters()):,}')"
   ]
  },
  {
   "cell_type": "markdown",
   "metadata": {},
   "source": [
    "## 6. Training Loop"
   ]
  },
  {
   "cell_type": "code",
   "execution_count": 75,
   "metadata": {},
   "outputs": [],
   "source": [
    "valid_loader = DataLoader(\n",
    "    data['valid'], \n",
    "    batch_size=cfg.TRAIN.BATCH_SIZE,\n",
    "    shuffle=False,  # Don't shuffle validation data\n",
    "    num_workers=0\n",
    ")"
   ]
  },
  {
   "cell_type": "code",
   "execution_count": 76,
   "metadata": {},
   "outputs": [
    {
     "name": "stdout",
     "output_type": "stream",
     "text": [
      "Data loader created with 52134 batches per epoch\n"
     ]
    }
   ],
   "source": [
    "# Create data loader\n",
    "train_loader = DataLoader(\n",
    "    data['train'], \n",
    "    batch_size=BATCH_SIZE,\n",
    "    shuffle=True, \n",
    "    num_workers=0  \n",
    ")\n",
    "\n",
    "print(f'Data loader created with {len(train_loader)} batches per epoch')"
   ]
  },
  {
   "cell_type": "code",
   "execution_count": 81,
   "metadata": {},
   "outputs": [],
   "source": [
    "test_loader = DataLoader(\n",
    "    test_data, \n",
    "    batch_size=cfg.TRAIN.BATCH_SIZE,\n",
    "    shuffle=False,  # Don't shuffle validation data\n",
    "    num_workers=0\n",
    ")"
   ]
  },
  {
   "cell_type": "code",
   "execution_count": 63,
   "metadata": {},
   "outputs": [
    {
     "data": {
      "text/plain": [
       "'fourth_training'"
      ]
     },
     "execution_count": 63,
     "metadata": {},
     "output_type": "execute_result"
    }
   ],
   "source": [
    "exp_name"
   ]
  },
  {
   "cell_type": "code",
   "execution_count": 77,
   "metadata": {},
   "outputs": [],
   "source": [
    "# Validation function\n",
    "def validate_model(model, data_loader, criterion, device, threshold=0.5):\n",
    "    \"\"\"\n",
    "    Validate the model on validation data.\n",
    "    \n",
    "    Returns:\n",
    "        dict with validation metrics\n",
    "    \"\"\"\n",
    "    model.eval()\n",
    "    \n",
    "    all_outputs = []\n",
    "    all_labels = []\n",
    "    total_loss = 0.0\n",
    "    num_batches = 0\n",
    "    \n",
    "    print('\\nValidating...')\n",
    "    \n",
    "    with torch.no_grad():  # No gradient computation during validation\n",
    "        for batch in tqdm(data_loader, desc='Validation'):\n",
    "            # Move batch to device\n",
    "            batch = {k: v.to(device) for k, v in batch.items()}\n",
    "            \n",
    "            # Forward pass\n",
    "            output = model(batch)\n",
    "            loss = criterion(output, batch['label'])\n",
    "            total_loss += loss.item()\n",
    "            num_batches += 1\n",
    "            \n",
    "            # Collect outputs and labels\n",
    "            all_outputs.extend(torch.sigmoid(output).cpu().numpy().flatten())\n",
    "            all_labels.extend(batch['label'].cpu().numpy().flatten())\n",
    "    \n",
    "    # Calculate metrics\n",
    "    all_outputs = np.array(all_outputs)\n",
    "    all_labels = np.array(all_labels)\n",
    "    pred = (all_outputs > threshold).astype(int)\n",
    "    \n",
    "    accuracy = (pred == all_labels).mean()\n",
    "    tp = ((pred == 1) & (all_labels == 1)).sum()\n",
    "    fp = ((pred == 1) & (all_labels == 0)).sum()\n",
    "    fn = ((pred == 0) & (all_labels == 1)).sum()\n",
    "    tn = ((pred == 0) & (all_labels == 0)).sum()\n",
    "    \n",
    "    precision = tp / (tp + fp) if (tp + fp) > 0 else 0.0\n",
    "    recall = tp / (tp + fn) if (tp + fn) > 0 else 0.0\n",
    "    f1 = 2 * precision * recall / (precision + recall) if (precision + recall) > 0 else 0.0\n",
    "    \n",
    "    avg_loss = total_loss / num_batches\n",
    "    \n",
    "    return {\n",
    "        'loss': avg_loss,\n",
    "        'accuracy': accuracy,\n",
    "        'precision': precision,\n",
    "        'recall': recall,\n",
    "        'f1': f1,\n",
    "        'tp': tp,\n",
    "        'fp': fp,\n",
    "        'fn': fn,\n",
    "        'tn': tn\n",
    "    }"
   ]
  },
  {
   "cell_type": "code",
   "execution_count": 78,
   "metadata": {},
   "outputs": [
    {
     "name": "stdout",
     "output_type": "stream",
     "text": [
      "\n",
      "=== Epoch 1/10 ===\n"
     ]
    },
    {
     "data": {
      "application/vnd.jupyter.widget-view+json": {
       "model_id": "b8fed1268556414b8b6f9a84e928d2ad",
       "version_major": 2,
       "version_minor": 0
      },
      "text/plain": [
       "Epoch 1:   0%|          | 0/52134 [00:00<?, ?it/s]"
      ]
     },
     "metadata": {},
     "output_type": "display_data"
    },
    {
     "name": "stdout",
     "output_type": "stream",
     "text": [
      "  Step 5213/52134: Loss=0.1552, Acc=0.9426, P=0.1176, R=0.0002, F1=0.0004\n",
      "  Step 10426/52134: Loss=0.1491, Acc=0.9423, P=0.4909, R=0.0028, F1=0.0056\n",
      "  Step 15639/52134: Loss=0.1460, Acc=0.9436, P=0.5179, R=0.0123, F1=0.0241\n",
      "  Step 20852/52134: Loss=0.1440, Acc=0.9438, P=0.5751, R=0.0167, F1=0.0324\n",
      "  Step 26065/52134: Loss=0.1428, Acc=0.9438, P=0.5811, R=0.0164, F1=0.0318\n",
      "  Step 31278/52134: Loss=0.1418, Acc=0.9440, P=0.5913, R=0.0374, F1=0.0703\n",
      "  Step 36491/52134: Loss=0.1406, Acc=0.9451, P=0.6453, R=0.0608, F1=0.1112\n",
      "  Step 41704/52134: Loss=0.1393, Acc=0.9458, P=0.6984, R=0.0842, F1=0.1502\n",
      "  Step 46917/52134: Loss=0.1373, Acc=0.9465, P=0.6555, R=0.1234, F1=0.2077\n",
      "  Step 52130/52134: Loss=0.1356, Acc=0.9454, P=0.6641, R=0.1303, F1=0.2178\n",
      "  Step 52134/52134: Loss=0.1356, Acc=0.9280, P=0.7500, R=0.2727, F1=0.4000\n",
      "\n",
      "Epoch 1 Training Metrics:\n",
      "  Loss:      0.1356\n",
      "  Accuracy:  0.9443\n",
      "  Precision: 0.6454\n",
      "  Recall:    0.0487\n",
      "  F1 Score:  0.0905\n",
      "  Threshold: 0.500\n",
      "  TP: 4623, FP: 2540, FN: 90402, TN: 1570720\n",
      "  *** New best training F1 score: 0.0905 ***\n",
      "\n",
      "Validating...\n"
     ]
    },
    {
     "data": {
      "application/vnd.jupyter.widget-view+json": {
       "model_id": "ad08c72f5144431f92dd3c79747b2e1f",
       "version_major": 2,
       "version_minor": 0
      },
      "text/plain": [
       "Validation:   0%|          | 0/21702 [00:00<?, ?it/s]"
      ]
     },
     "metadata": {},
     "output_type": "display_data"
    },
    {
     "name": "stdout",
     "output_type": "stream",
     "text": [
      "\n",
      "Epoch 1 Validation Metrics:\n",
      "  Loss:      0.0222\n",
      "  Accuracy:  0.9958\n",
      "  Precision: 0.1821\n",
      "  Recall:    0.1471\n",
      "  F1 Score:  0.1627\n",
      "  TP: 4575, FP: 20554, FN: 26518, TN: 11059390\n",
      "  *** New best validation F1 score: 0.1627 ***\n",
      "  Best model saved to outputs/fourth_training/model_best.pth\n",
      "\n",
      "=== Epoch 2/10 ===\n"
     ]
    },
    {
     "data": {
      "application/vnd.jupyter.widget-view+json": {
       "model_id": "071538e577ee47d9aca785fdcf2c6f77",
       "version_major": 2,
       "version_minor": 0
      },
      "text/plain": [
       "Epoch 2:   0%|          | 0/52134 [00:00<?, ?it/s]"
      ]
     },
     "metadata": {},
     "output_type": "display_data"
    },
    {
     "name": "stdout",
     "output_type": "stream",
     "text": [
      "  Step 5213/52134: Loss=0.1162, Acc=0.9471, P=0.6806, R=0.1389, F1=0.2307\n",
      "  Step 10426/52134: Loss=0.1156, Acc=0.9482, P=0.6720, R=0.1484, F1=0.2431\n",
      "  Step 15639/52134: Loss=0.1154, Acc=0.9473, P=0.6542, R=0.1510, F1=0.2453\n",
      "  Step 20852/52134: Loss=0.1149, Acc=0.9474, P=0.6741, R=0.1470, F1=0.2414\n",
      "  Step 26065/52134: Loss=0.1146, Acc=0.9470, P=0.6607, R=0.1443, F1=0.2369\n",
      "  Step 31278/52134: Loss=0.1143, Acc=0.9471, P=0.6668, R=0.1538, F1=0.2499\n",
      "  Step 36491/52134: Loss=0.1139, Acc=0.9473, P=0.6717, R=0.1536, F1=0.2500\n",
      "  Step 41704/52134: Loss=0.1132, Acc=0.9486, P=0.6772, R=0.1663, F1=0.2670\n",
      "  Step 46917/52134: Loss=0.1127, Acc=0.9475, P=0.6719, R=0.1948, F1=0.3021\n",
      "  Step 52130/52134: Loss=0.1120, Acc=0.9487, P=0.6614, R=0.1953, F1=0.3016\n",
      "  Step 52134/52134: Loss=0.1120, Acc=0.9680, P=0.5000, R=0.2500, F1=0.3333\n",
      "\n",
      "Epoch 2 Training Metrics:\n",
      "  Loss:      0.1120\n",
      "  Accuracy:  0.9476\n",
      "  Precision: 0.6688\n",
      "  Recall:    0.1594\n",
      "  F1 Score:  0.2575\n",
      "  Threshold: 0.500\n",
      "  TP: 15149, FP: 7501, FN: 79876, TN: 1565759\n",
      "  *** New best training F1 score: 0.2575 ***\n",
      "\n",
      "Validating...\n"
     ]
    },
    {
     "data": {
      "application/vnd.jupyter.widget-view+json": {
       "model_id": "90528ac992534fc689b24d0d4fb63a95",
       "version_major": 2,
       "version_minor": 0
      },
      "text/plain": [
       "Validation:   0%|          | 0/21702 [00:00<?, ?it/s]"
      ]
     },
     "metadata": {},
     "output_type": "display_data"
    },
    {
     "name": "stdout",
     "output_type": "stream",
     "text": [
      "\n",
      "Epoch 2 Validation Metrics:\n",
      "  Loss:      0.0150\n",
      "  Accuracy:  0.9960\n",
      "  Precision: 0.2396\n",
      "  Recall:    0.2014\n",
      "  F1 Score:  0.2188\n",
      "  TP: 6262, FP: 19876, FN: 24831, TN: 11060068\n",
      "  *** New best validation F1 score: 0.2188 ***\n",
      "  Best model saved to outputs/fourth_training/model_best.pth\n",
      "\n",
      "=== Epoch 3/10 ===\n"
     ]
    },
    {
     "data": {
      "application/vnd.jupyter.widget-view+json": {
       "model_id": "669c4fe99f564b6a9e809d9d9d77be52",
       "version_major": 2,
       "version_minor": 0
      },
      "text/plain": [
       "Epoch 3:   0%|          | 0/52134 [00:00<?, ?it/s]"
      ]
     },
     "metadata": {},
     "output_type": "display_data"
    },
    {
     "name": "stdout",
     "output_type": "stream",
     "text": [
      "  Step 5213/52134: Loss=0.1044, Acc=0.9492, P=0.6625, R=0.2226, F1=0.3333\n",
      "  Step 10426/52134: Loss=0.1028, Acc=0.9511, P=0.6556, R=0.2718, F1=0.3843\n",
      "  Step 15639/52134: Loss=0.1022, Acc=0.9506, P=0.6530, R=0.2872, F1=0.3989\n",
      "  Step 20852/52134: Loss=0.1015, Acc=0.9516, P=0.6603, R=0.3218, F1=0.4328\n",
      "  Step 26065/52134: Loss=0.1004, Acc=0.9535, P=0.6667, R=0.3573, F1=0.4653\n",
      "  Step 31278/52134: Loss=0.0996, Acc=0.9538, P=0.6703, R=0.3656, F1=0.4731\n",
      "  Step 36491/52134: Loss=0.0987, Acc=0.9543, P=0.6852, R=0.3808, F1=0.4896\n",
      "  Step 41704/52134: Loss=0.0979, Acc=0.9550, P=0.6869, R=0.3921, F1=0.4992\n",
      "  Step 46917/52134: Loss=0.0970, Acc=0.9558, P=0.6857, R=0.4244, F1=0.5243\n",
      "  Step 52130/52134: Loss=0.0960, Acc=0.9585, P=0.7076, R=0.4524, F1=0.5519\n",
      "  Step 52134/52134: Loss=0.0960, Acc=0.9520, P=0.5000, R=0.3333, F1=0.4000\n",
      "\n",
      "Epoch 3 Training Metrics:\n",
      "  Loss:      0.0960\n",
      "  Accuracy:  0.9533\n",
      "  Precision: 0.6757\n",
      "  Recall:    0.3477\n",
      "  F1 Score:  0.4591\n",
      "  Threshold: 0.500\n",
      "  TP: 33037, FP: 15853, FN: 61988, TN: 1557407\n",
      "  *** New best training F1 score: 0.4591 ***\n",
      "\n",
      "Validating...\n"
     ]
    },
    {
     "data": {
      "application/vnd.jupyter.widget-view+json": {
       "model_id": "ae0c8f297188494e821bfcb8f251a063",
       "version_major": 2,
       "version_minor": 0
      },
      "text/plain": [
       "Validation:   0%|          | 0/21702 [00:00<?, ?it/s]"
      ]
     },
     "metadata": {},
     "output_type": "display_data"
    },
    {
     "name": "stdout",
     "output_type": "stream",
     "text": [
      "\n",
      "Epoch 3 Validation Metrics:\n",
      "  Loss:      0.0098\n",
      "  Accuracy:  0.9967\n",
      "  Precision: 0.4195\n",
      "  Recall:    0.4936\n",
      "  F1 Score:  0.4535\n",
      "  TP: 15348, FP: 21241, FN: 15745, TN: 11058703\n",
      "  *** New best validation F1 score: 0.4535 ***\n",
      "  Best model saved to outputs/fourth_training/model_best.pth\n",
      "\n",
      "=== Epoch 4/10 ===\n"
     ]
    },
    {
     "data": {
      "application/vnd.jupyter.widget-view+json": {
       "model_id": "283efd5e66184db88c27ac0dd86fb2de",
       "version_major": 2,
       "version_minor": 0
      },
      "text/plain": [
       "Epoch 4:   0%|          | 0/52134 [00:00<?, ?it/s]"
      ]
     },
     "metadata": {},
     "output_type": "display_data"
    },
    {
     "name": "stdout",
     "output_type": "stream",
     "text": [
      "  Step 5213/52134: Loss=0.0787, Acc=0.9625, P=0.7490, R=0.5192, F1=0.6133\n",
      "  Step 10426/52134: Loss=0.0728, Acc=0.9693, P=0.7932, R=0.6314, F1=0.7031\n",
      "  Step 15639/52134: Loss=0.0667, Acc=0.9788, P=0.8188, R=0.7997, F1=0.8092\n",
      "  Step 20852/52134: Loss=0.0623, Acc=0.9806, P=0.8267, R=0.8296, F1=0.8282\n",
      "  Step 26065/52134: Loss=0.0590, Acc=0.9822, P=0.8394, R=0.8501, F1=0.8447\n",
      "  Step 31278/52134: Loss=0.0566, Acc=0.9825, P=0.8456, R=0.8522, F1=0.8489\n",
      "  Step 36491/52134: Loss=0.0546, Acc=0.9836, P=0.8481, R=0.8639, F1=0.8559\n",
      "  Step 41704/52134: Loss=0.0528, Acc=0.9843, P=0.8545, R=0.8746, F1=0.8644\n",
      "  Step 46917/52134: Loss=0.0513, Acc=0.9847, P=0.8593, R=0.8782, F1=0.8686\n",
      "  Step 52130/52134: Loss=0.0499, Acc=0.9852, P=0.8621, R=0.8774, F1=0.8697\n",
      "  Step 52134/52134: Loss=0.0499, Acc=0.9920, P=0.7500, R=1.0000, F1=0.8571\n",
      "\n",
      "Epoch 4 Training Metrics:\n",
      "  Loss:      0.0499\n",
      "  Accuracy:  0.9794\n",
      "  Precision: 0.8333\n",
      "  Recall:    0.7973\n",
      "  F1 Score:  0.8149\n",
      "  Threshold: 0.500\n",
      "  TP: 75767, FP: 15160, FN: 19258, TN: 1558100\n",
      "  *** New best training F1 score: 0.8149 ***\n",
      "\n",
      "Validating...\n"
     ]
    },
    {
     "data": {
      "application/vnd.jupyter.widget-view+json": {
       "model_id": "c6e2bca3270a4b878e34c675cf65ca9d",
       "version_major": 2,
       "version_minor": 0
      },
      "text/plain": [
       "Validation:   0%|          | 0/21702 [00:00<?, ?it/s]"
      ]
     },
     "metadata": {},
     "output_type": "display_data"
    },
    {
     "name": "stdout",
     "output_type": "stream",
     "text": [
      "\n",
      "Epoch 4 Validation Metrics:\n",
      "  Loss:      0.0023\n",
      "  Accuracy:  0.9992\n",
      "  Precision: 0.8487\n",
      "  Recall:    0.8848\n",
      "  F1 Score:  0.8664\n",
      "  TP: 27511, FP: 4906, FN: 3582, TN: 11075038\n",
      "  *** New best validation F1 score: 0.8664 ***\n",
      "  Best model saved to outputs/fourth_training/model_best.pth\n",
      "\n",
      "=== Epoch 5/10 ===\n"
     ]
    },
    {
     "data": {
      "application/vnd.jupyter.widget-view+json": {
       "model_id": "055c08b775cf4402b98c3c9298209bf2",
       "version_major": 2,
       "version_minor": 0
      },
      "text/plain": [
       "Epoch 5:   0%|          | 0/52134 [00:00<?, ?it/s]"
      ]
     },
     "metadata": {},
     "output_type": "display_data"
    },
    {
     "name": "stdout",
     "output_type": "stream",
     "text": [
      "  Step 5213/52134: Loss=0.0375, Acc=0.9851, P=0.8625, R=0.8765, F1=0.8694\n",
      "  Step 10426/52134: Loss=0.0368, Acc=0.9861, P=0.8694, R=0.8867, F1=0.8779\n",
      "  Step 15639/52134: Loss=0.0363, Acc=0.9864, P=0.8728, R=0.8934, F1=0.8830\n",
      "  Step 20852/52134: Loss=0.0356, Acc=0.9868, P=0.8757, R=0.8980, F1=0.8867\n",
      "  Step 26065/52134: Loss=0.0353, Acc=0.9871, P=0.8799, R=0.9005, F1=0.8901\n",
      "  Step 31278/52134: Loss=0.0350, Acc=0.9869, P=0.8761, R=0.8998, F1=0.8878\n",
      "  Step 36491/52134: Loss=0.0346, Acc=0.9873, P=0.8771, R=0.9023, F1=0.8895\n",
      "  Step 41704/52134: Loss=0.0343, Acc=0.9875, P=0.8778, R=0.9049, F1=0.8912\n",
      "  Step 46917/52134: Loss=0.0341, Acc=0.9875, P=0.8778, R=0.9065, F1=0.8919\n",
      "  Step 52130/52134: Loss=0.0338, Acc=0.9877, P=0.8820, R=0.9031, F1=0.8924\n",
      "  Step 52134/52134: Loss=0.0338, Acc=0.9760, P=0.8889, R=0.8000, F1=0.8421\n",
      "\n",
      "Epoch 5 Training Metrics:\n",
      "  Loss:      0.0338\n",
      "  Accuracy:  0.9869\n",
      "  Precision: 0.8751\n",
      "  Recall:    0.8972\n",
      "  F1 Score:  0.8860\n",
      "  Threshold: 0.500\n",
      "  TP: 85254, FP: 12163, FN: 9771, TN: 1561097\n",
      "  *** New best training F1 score: 0.8860 ***\n",
      "\n",
      "Validating...\n"
     ]
    },
    {
     "data": {
      "application/vnd.jupyter.widget-view+json": {
       "model_id": "9cae1f5eb4e14d9382b76746fb497cec",
       "version_major": 2,
       "version_minor": 0
      },
      "text/plain": [
       "Validation:   0%|          | 0/21702 [00:00<?, ?it/s]"
      ]
     },
     "metadata": {},
     "output_type": "display_data"
    },
    {
     "name": "stdout",
     "output_type": "stream",
     "text": [
      "\n",
      "Epoch 5 Validation Metrics:\n",
      "  Loss:      0.0020\n",
      "  Accuracy:  0.9994\n",
      "  Precision: 0.8635\n",
      "  Recall:    0.9154\n",
      "  F1 Score:  0.8887\n",
      "  TP: 28463, FP: 4500, FN: 2630, TN: 11075444\n",
      "  *** New best validation F1 score: 0.8887 ***\n",
      "  Best model saved to outputs/fourth_training/model_best.pth\n",
      "  Checkpoint saved to outputs/fourth_training/model_ep5.pth\n",
      "\n",
      "=== Epoch 6/10 ===\n"
     ]
    },
    {
     "data": {
      "application/vnd.jupyter.widget-view+json": {
       "model_id": "dc036ebc409c40bfadc13c8b7524a0ec",
       "version_major": 2,
       "version_minor": 0
      },
      "text/plain": [
       "Epoch 6:   0%|          | 0/52134 [00:00<?, ?it/s]"
      ]
     },
     "metadata": {},
     "output_type": "display_data"
    },
    {
     "name": "stdout",
     "output_type": "stream",
     "text": [
      "  Step 5213/52134: Loss=0.0310, Acc=0.9880, P=0.8858, R=0.9097, F1=0.8976\n",
      "  Step 10426/52134: Loss=0.0309, Acc=0.9882, P=0.8863, R=0.9091, F1=0.8976\n",
      "  Step 15639/52134: Loss=0.0308, Acc=0.9881, P=0.8856, R=0.9114, F1=0.8984\n",
      "  Step 20852/52134: Loss=0.0308, Acc=0.9880, P=0.8827, R=0.9079, F1=0.8951\n",
      "  Step 26065/52134: Loss=0.0307, Acc=0.9884, P=0.8862, R=0.9134, F1=0.8996\n",
      "  Step 31278/52134: Loss=0.0307, Acc=0.9881, P=0.8853, R=0.9109, F1=0.8979\n",
      "  Step 36491/52134: Loss=0.0305, Acc=0.9884, P=0.8851, R=0.9129, F1=0.8988\n",
      "  Step 41704/52134: Loss=0.0304, Acc=0.9885, P=0.8853, R=0.9141, F1=0.8995\n",
      "  Step 46917/52134: Loss=0.0301, Acc=0.9891, P=0.8927, R=0.9194, F1=0.9058\n",
      "  Step 52130/52134: Loss=0.0301, Acc=0.9886, P=0.8866, R=0.9167, F1=0.9014\n",
      "  Step 52134/52134: Loss=0.0301, Acc=0.9920, P=1.0000, R=0.8750, F1=0.9333\n",
      "\n",
      "Epoch 6 Training Metrics:\n",
      "  Loss:      0.0301\n",
      "  Accuracy:  0.9883\n",
      "  Precision: 0.8862\n",
      "  Recall:    0.9126\n",
      "  F1 Score:  0.8992\n",
      "  Threshold: 0.500\n",
      "  TP: 86716, FP: 11139, FN: 8309, TN: 1562121\n",
      "  *** New best training F1 score: 0.8992 ***\n",
      "\n",
      "Validating...\n"
     ]
    },
    {
     "data": {
      "application/vnd.jupyter.widget-view+json": {
       "model_id": "4cc5146f03de4605898b37d3476819af",
       "version_major": 2,
       "version_minor": 0
      },
      "text/plain": [
       "Validation:   0%|          | 0/21702 [00:00<?, ?it/s]"
      ]
     },
     "metadata": {},
     "output_type": "display_data"
    },
    {
     "name": "stdout",
     "output_type": "stream",
     "text": [
      "\n",
      "Epoch 6 Validation Metrics:\n",
      "  Loss:      0.0021\n",
      "  Accuracy:  0.9994\n",
      "  Precision: 0.8914\n",
      "  Recall:    0.8975\n",
      "  F1 Score:  0.8944\n",
      "  TP: 27905, FP: 3401, FN: 3188, TN: 11076543\n",
      "  *** New best validation F1 score: 0.8944 ***\n",
      "  Best model saved to outputs/fourth_training/model_best.pth\n",
      "\n",
      "=== Epoch 7/10 ===\n"
     ]
    },
    {
     "data": {
      "application/vnd.jupyter.widget-view+json": {
       "model_id": "7d3bfc49678c42ba84427d45f15fc3d2",
       "version_major": 2,
       "version_minor": 0
      },
      "text/plain": [
       "Epoch 7:   0%|          | 0/52134 [00:00<?, ?it/s]"
      ]
     },
     "metadata": {},
     "output_type": "display_data"
    },
    {
     "name": "stdout",
     "output_type": "stream",
     "text": [
      "  Step 5213/52134: Loss=0.0288, Acc=0.9887, P=0.8876, R=0.9183, F1=0.9027\n",
      "  Step 10426/52134: Loss=0.0283, Acc=0.9894, P=0.8906, R=0.9243, F1=0.9071\n",
      "  Step 15639/52134: Loss=0.0286, Acc=0.9889, P=0.8903, R=0.9192, F1=0.9045\n",
      "  Step 20852/52134: Loss=0.0285, Acc=0.9890, P=0.8903, R=0.9200, F1=0.9049\n",
      "  Step 26065/52134: Loss=0.0284, Acc=0.9893, P=0.8939, R=0.9242, F1=0.9088\n",
      "  Step 31278/52134: Loss=0.0282, Acc=0.9893, P=0.8920, R=0.9234, F1=0.9075\n",
      "  Step 36491/52134: Loss=0.0282, Acc=0.9895, P=0.8951, R=0.9234, F1=0.9090\n",
      "  Step 41704/52134: Loss=0.0282, Acc=0.9888, P=0.8882, R=0.9179, F1=0.9028\n",
      "  Step 46917/52134: Loss=0.0282, Acc=0.9891, P=0.8900, R=0.9226, F1=0.9060\n",
      "  Step 52130/52134: Loss=0.0281, Acc=0.9895, P=0.8935, R=0.9254, F1=0.9092\n",
      "  Step 52134/52134: Loss=0.0281, Acc=0.9920, P=0.9000, R=1.0000, F1=0.9474\n",
      "\n",
      "Epoch 7 Training Metrics:\n",
      "  Loss:      0.0281\n",
      "  Accuracy:  0.9891\n",
      "  Precision: 0.8912\n",
      "  Recall:    0.9219\n",
      "  F1 Score:  0.9063\n",
      "  Threshold: 0.500\n",
      "  TP: 87601, FP: 10700, FN: 7424, TN: 1562560\n",
      "  *** New best training F1 score: 0.9063 ***\n",
      "\n",
      "Validating...\n"
     ]
    },
    {
     "data": {
      "application/vnd.jupyter.widget-view+json": {
       "model_id": "ead2249efec64334b1a10810f24ce3be",
       "version_major": 2,
       "version_minor": 0
      },
      "text/plain": [
       "Validation:   0%|          | 0/21702 [00:00<?, ?it/s]"
      ]
     },
     "metadata": {},
     "output_type": "display_data"
    },
    {
     "name": "stdout",
     "output_type": "stream",
     "text": [
      "\n",
      "Epoch 7 Validation Metrics:\n",
      "  Loss:      0.0020\n",
      "  Accuracy:  0.9995\n",
      "  Precision: 0.8781\n",
      "  Recall:    0.9334\n",
      "  F1 Score:  0.9049\n",
      "  TP: 29023, FP: 4030, FN: 2070, TN: 11075914\n",
      "  *** New best validation F1 score: 0.9049 ***\n",
      "  Best model saved to outputs/fourth_training/model_best.pth\n",
      "\n",
      "=== Epoch 8/10 ===\n"
     ]
    },
    {
     "data": {
      "application/vnd.jupyter.widget-view+json": {
       "model_id": "d5bcbfe6d84e4f2784349b62246e7e42",
       "version_major": 2,
       "version_minor": 0
      },
      "text/plain": [
       "Epoch 8:   0%|          | 0/52134 [00:00<?, ?it/s]"
      ]
     },
     "metadata": {},
     "output_type": "display_data"
    },
    {
     "name": "stdout",
     "output_type": "stream",
     "text": [
      "  Step 5213/52134: Loss=0.0260, Acc=0.9900, P=0.9010, R=0.9250, F1=0.9128\n",
      "  Step 10426/52134: Loss=0.0267, Acc=0.9893, P=0.8907, R=0.9255, F1=0.9077\n",
      "  Step 15639/52134: Loss=0.0268, Acc=0.9897, P=0.8985, R=0.9253, F1=0.9117\n",
      "  Step 20852/52134: Loss=0.0270, Acc=0.9893, P=0.8907, R=0.9218, F1=0.9060\n",
      "  Step 26065/52134: Loss=0.0268, Acc=0.9900, P=0.8994, R=0.9322, F1=0.9155\n",
      "  Step 31278/52134: Loss=0.0267, Acc=0.9897, P=0.8954, R=0.9269, F1=0.9109\n",
      "  Step 36491/52134: Loss=0.0268, Acc=0.9897, P=0.8956, R=0.9249, F1=0.9100\n",
      "  Step 41704/52134: Loss=0.0268, Acc=0.9893, P=0.8945, R=0.9232, F1=0.9086\n",
      "  Step 46917/52134: Loss=0.0268, Acc=0.9897, P=0.8962, R=0.9287, F1=0.9121\n",
      "  Step 52130/52134: Loss=0.0267, Acc=0.9899, P=0.8949, R=0.9285, F1=0.9114\n",
      "  Step 52134/52134: Loss=0.0267, Acc=0.9920, P=0.9000, R=1.0000, F1=0.9474\n",
      "\n",
      "Epoch 8 Training Metrics:\n",
      "  Loss:      0.0267\n",
      "  Accuracy:  0.9897\n",
      "  Precision: 0.8957\n",
      "  Recall:    0.9262\n",
      "  F1 Score:  0.9107\n",
      "  Threshold: 0.500\n",
      "  TP: 88013, FP: 10249, FN: 7012, TN: 1563011\n",
      "  *** New best training F1 score: 0.9107 ***\n",
      "\n",
      "Validating...\n"
     ]
    },
    {
     "data": {
      "application/vnd.jupyter.widget-view+json": {
       "model_id": "767a444f9656479694201569057ba1ea",
       "version_major": 2,
       "version_minor": 0
      },
      "text/plain": [
       "Validation:   0%|          | 0/21702 [00:00<?, ?it/s]"
      ]
     },
     "metadata": {},
     "output_type": "display_data"
    },
    {
     "name": "stdout",
     "output_type": "stream",
     "text": [
      "\n",
      "Epoch 8 Validation Metrics:\n",
      "  Loss:      0.0018\n",
      "  Accuracy:  0.9995\n",
      "  Precision: 0.9030\n",
      "  Recall:    0.9205\n",
      "  F1 Score:  0.9117\n",
      "  TP: 28622, FP: 3074, FN: 2471, TN: 11076870\n",
      "  *** New best validation F1 score: 0.9117 ***\n",
      "  Best model saved to outputs/fourth_training/model_best.pth\n",
      "\n",
      "=== Epoch 9/10 ===\n"
     ]
    },
    {
     "data": {
      "application/vnd.jupyter.widget-view+json": {
       "model_id": "e8ddad2bda294f02b26f77b5c2008499",
       "version_major": 2,
       "version_minor": 0
      },
      "text/plain": [
       "Epoch 9:   0%|          | 0/52134 [00:00<?, ?it/s]"
      ]
     },
     "metadata": {},
     "output_type": "display_data"
    },
    {
     "name": "stdout",
     "output_type": "stream",
     "text": [
      "  Step 5213/52134: Loss=0.0259, Acc=0.9898, P=0.8963, R=0.9309, F1=0.9133\n",
      "  Step 10426/52134: Loss=0.0261, Acc=0.9899, P=0.8962, R=0.9293, F1=0.9125\n",
      "  Step 15639/52134: Loss=0.0263, Acc=0.9896, P=0.8923, R=0.9318, F1=0.9116\n",
      "  Step 20852/52134: Loss=0.0262, Acc=0.9898, P=0.8949, R=0.9299, F1=0.9121\n",
      "  Step 26065/52134: Loss=0.0261, Acc=0.9900, P=0.8996, R=0.9274, F1=0.9133\n",
      "  Step 31278/52134: Loss=0.0261, Acc=0.9899, P=0.8962, R=0.9290, F1=0.9123\n",
      "  Step 36491/52134: Loss=0.0259, Acc=0.9906, P=0.9039, R=0.9353, F1=0.9193\n",
      "  Step 41704/52134: Loss=0.0259, Acc=0.9901, P=0.9003, R=0.9302, F1=0.9150\n",
      "  Step 46917/52134: Loss=0.0258, Acc=0.9900, P=0.8995, R=0.9293, F1=0.9141\n",
      "  Step 52130/52134: Loss=0.0257, Acc=0.9901, P=0.8989, R=0.9304, F1=0.9144\n",
      "  Step 52134/52134: Loss=0.0257, Acc=0.9760, P=0.7143, R=0.8333, F1=0.7692\n",
      "\n",
      "Epoch 9 Training Metrics:\n",
      "  Loss:      0.0257\n",
      "  Accuracy:  0.9900\n",
      "  Precision: 0.8978\n",
      "  Recall:    0.9304\n",
      "  F1 Score:  0.9138\n",
      "  Threshold: 0.500\n",
      "  TP: 88407, FP: 10067, FN: 6618, TN: 1563193\n",
      "  *** New best training F1 score: 0.9138 ***\n",
      "\n",
      "Validating...\n"
     ]
    },
    {
     "data": {
      "application/vnd.jupyter.widget-view+json": {
       "model_id": "21357d6b586542a293a685b0235af12a",
       "version_major": 2,
       "version_minor": 0
      },
      "text/plain": [
       "Validation:   0%|          | 0/21702 [00:00<?, ?it/s]"
      ]
     },
     "metadata": {},
     "output_type": "display_data"
    },
    {
     "name": "stdout",
     "output_type": "stream",
     "text": [
      "\n",
      "Epoch 9 Validation Metrics:\n",
      "  Loss:      0.0020\n",
      "  Accuracy:  0.9995\n",
      "  Precision: 0.8953\n",
      "  Recall:    0.9406\n",
      "  F1 Score:  0.9174\n",
      "  TP: 29246, FP: 3421, FN: 1847, TN: 11076523\n",
      "  *** New best validation F1 score: 0.9174 ***\n",
      "  Best model saved to outputs/fourth_training/model_best.pth\n",
      "\n",
      "=== Epoch 10/10 ===\n"
     ]
    },
    {
     "data": {
      "application/vnd.jupyter.widget-view+json": {
       "model_id": "53b06e66dfbb4677afefc8b780a1f6bf",
       "version_major": 2,
       "version_minor": 0
      },
      "text/plain": [
       "Epoch 10:   0%|          | 0/52134 [00:00<?, ?it/s]"
      ]
     },
     "metadata": {},
     "output_type": "display_data"
    },
    {
     "name": "stdout",
     "output_type": "stream",
     "text": [
      "  Step 5213/52134: Loss=0.0247, Acc=0.9908, P=0.9044, R=0.9358, F1=0.9199\n",
      "  Step 10426/52134: Loss=0.0248, Acc=0.9902, P=0.8978, R=0.9334, F1=0.9153\n",
      "  Step 15639/52134: Loss=0.0250, Acc=0.9902, P=0.8985, R=0.9354, F1=0.9166\n",
      "  Step 20852/52134: Loss=0.0252, Acc=0.9900, P=0.8966, R=0.9345, F1=0.9152\n",
      "  Step 26065/52134: Loss=0.0253, Acc=0.9903, P=0.9008, R=0.9332, F1=0.9167\n",
      "  Step 31278/52134: Loss=0.0253, Acc=0.9901, P=0.8992, R=0.9266, F1=0.9127\n",
      "  Step 36491/52134: Loss=0.0254, Acc=0.9899, P=0.8954, R=0.9301, F1=0.9124\n",
      "  Step 41704/52134: Loss=0.0254, Acc=0.9904, P=0.8996, R=0.9333, F1=0.9161\n",
      "  Step 46917/52134: Loss=0.0254, Acc=0.9902, P=0.9004, R=0.9352, F1=0.9175\n",
      "  Step 52130/52134: Loss=0.0254, Acc=0.9899, P=0.8961, R=0.9311, F1=0.9132\n",
      "  Step 52134/52134: Loss=0.0254, Acc=0.9920, P=1.0000, R=0.8571, F1=0.9231\n",
      "\n",
      "Epoch 10 Training Metrics:\n",
      "  Loss:      0.0254\n",
      "  Accuracy:  0.9902\n",
      "  Precision: 0.8989\n",
      "  Recall:    0.9329\n",
      "  F1 Score:  0.9156\n",
      "  Threshold: 0.500\n",
      "  TP: 88647, FP: 9971, FN: 6378, TN: 1563289\n",
      "  *** New best training F1 score: 0.9156 ***\n",
      "\n",
      "Validating...\n"
     ]
    },
    {
     "data": {
      "application/vnd.jupyter.widget-view+json": {
       "model_id": "d5fbce29b38a46c8bcaaf477fff98bc2",
       "version_major": 2,
       "version_minor": 0
      },
      "text/plain": [
       "Validation:   0%|          | 0/21702 [00:00<?, ?it/s]"
      ]
     },
     "metadata": {},
     "output_type": "display_data"
    },
    {
     "name": "stdout",
     "output_type": "stream",
     "text": [
      "\n",
      "Epoch 10 Validation Metrics:\n",
      "  Loss:      0.0016\n",
      "  Accuracy:  0.9995\n",
      "  Precision: 0.8996\n",
      "  Recall:    0.9436\n",
      "  F1 Score:  0.9211\n",
      "  TP: 29339, FP: 3273, FN: 1754, TN: 11076671\n",
      "  *** New best validation F1 score: 0.9211 ***\n",
      "  Best model saved to outputs/fourth_training/model_best.pth\n",
      "  Checkpoint saved to outputs/fourth_training/model_ep10.pth\n",
      "\n",
      "=== Training Complete ===\n",
      "Best Training F1 Score: 0.9156\n",
      "Best Validation F1 Score: 0.9211\n"
     ]
    }
   ],
   "source": [
    "# Training loop with validation\n",
    "threshold = 0.5\n",
    "best_f1 = 0.0\n",
    "best_val_f1 = 0.0\n",
    "\n",
    "# Lists to store metrics for plotting\n",
    "train_losses = []\n",
    "train_accuracies = []\n",
    "train_f1_scores = []\n",
    "train_precisions = []\n",
    "train_recalls = []\n",
    "\n",
    "val_losses = []\n",
    "val_accuracies = []\n",
    "val_f1_scores = []\n",
    "val_precisions = []\n",
    "val_recalls = []\n",
    "\n",
    "epoch_numbers = []\n",
    "\n",
    "for epoch in range(NUM_EPOCHS):\n",
    "    model.train()\n",
    "    \n",
    "    # Metrics tracking for epoch\n",
    "    all_outputs = []\n",
    "    all_labels = []\n",
    "    total_loss = 0.0\n",
    "    num_batches = 0\n",
    "    \n",
    "    # Metrics tracking per evaluation step\n",
    "    step_outputs = []\n",
    "    step_labels = []\n",
    "    \n",
    "    print(f'\\n=== Epoch {epoch+1}/{NUM_EPOCHS} ===')\n",
    "    \n",
    "    eval_interval = max(1, len(train_loader) // 10)  # Evaluate 10 times per epoch\n",
    "    \n",
    "    for batch_idx, batch in enumerate(tqdm(train_loader, desc=f'Epoch {epoch+1}')):\n",
    "        # Move batch to device\n",
    "        batch = {k: v.to(device) for k, v in batch.items()}\n",
    "        \n",
    "        # Forward pass\n",
    "        optimizer.zero_grad()\n",
    "        output = model(batch)\n",
    "        loss = criterion(output, batch['label'])\n",
    "        total_loss += loss.item()\n",
    "        num_batches += 1\n",
    "        \n",
    "        # Backward pass\n",
    "        loss.backward()\n",
    "        optimizer.step()\n",
    "        \n",
    "        # Collect outputs and labels for step evaluation\n",
    "        step_outputs.extend(torch.sigmoid(output).detach().cpu().numpy().flatten())\n",
    "        step_labels.extend(batch['label'].detach().cpu().numpy().flatten())\n",
    "        \n",
    "        # Collect all outputs and labels for epoch evaluation\n",
    "        all_outputs.extend(torch.sigmoid(output).detach().cpu().numpy().flatten())\n",
    "        all_labels.extend(batch['label'].detach().cpu().numpy().flatten())\n",
    "        \n",
    "        # Evaluate at intervals\n",
    "        if (batch_idx + 1) % eval_interval == 0 or (batch_idx + 1) == len(train_loader):\n",
    "            # Calculate step metrics\n",
    "            step_outputs_np = np.array(step_outputs)\n",
    "            step_labels_np = np.array(step_labels)\n",
    "            step_pred = (step_outputs_np > threshold).astype(int)\n",
    "            \n",
    "            step_accuracy = (step_pred == step_labels_np).mean()\n",
    "            step_tp = ((step_pred == 1) & (step_labels_np == 1)).sum()\n",
    "            step_fp = ((step_pred == 1) & (step_labels_np == 0)).sum()\n",
    "            step_fn = ((step_pred == 0) & (step_labels_np == 1)).sum()\n",
    "            \n",
    "            step_precision = step_tp / (step_tp + step_fp) if (step_tp + step_fp) > 0 else 0.0\n",
    "            step_recall = step_tp / (step_tp + step_fn) if (step_tp + step_fn) > 0 else 0.0\n",
    "            step_f1 = 2 * step_precision * step_recall / (step_precision + step_recall) if (step_precision + step_recall) > 0 else 0.0\n",
    "            step_loss = total_loss / num_batches\n",
    "            \n",
    "            # Print progress\n",
    "            print(f'  Step {batch_idx+1}/{len(train_loader)}: Loss={step_loss:.4f}, Acc={step_accuracy:.4f}, P={step_precision:.4f}, R={step_recall:.4f}, F1={step_f1:.4f}')\n",
    "            \n",
    "            # Reset step metrics\n",
    "            step_outputs = []\n",
    "            step_labels = []\n",
    "    \n",
    "    # Calculate epoch training metrics\n",
    "    all_outputs = np.array(all_outputs)\n",
    "    all_labels = np.array(all_labels)\n",
    "    pred = (all_outputs > threshold).astype(int)\n",
    "    \n",
    "    accuracy = (pred == all_labels).mean()\n",
    "    tp = ((pred == 1) & (all_labels == 1)).sum()\n",
    "    fp = ((pred == 1) & (all_labels == 0)).sum()\n",
    "    fn = ((pred == 0) & (all_labels == 1)).sum()\n",
    "    tn = ((pred == 0) & (all_labels == 0)).sum()\n",
    "    \n",
    "    precision = tp / (tp + fp) if (tp + fp) > 0 else 0.0\n",
    "    recall = tp / (tp + fn) if (tp + fn) > 0 else 0.0\n",
    "    f1 = 2 * precision * recall / (precision + recall) if (precision + recall) > 0 else 0.0\n",
    "    \n",
    "    avg_loss = total_loss / num_batches\n",
    "    \n",
    "    # Store epoch training metrics\n",
    "    epoch_numbers.append(epoch + 1)\n",
    "    train_losses.append(avg_loss)\n",
    "    train_accuracies.append(accuracy)\n",
    "    train_precisions.append(precision)\n",
    "    train_recalls.append(recall)\n",
    "    train_f1_scores.append(f1)\n",
    "    \n",
    "    print(f'\\nEpoch {epoch+1} Training Metrics:')\n",
    "    print(f'  Loss:      {avg_loss:.4f}')\n",
    "    print(f'  Accuracy:  {accuracy:.4f}')\n",
    "    print(f'  Precision: {precision:.4f}')\n",
    "    print(f'  Recall:    {recall:.4f}')\n",
    "    print(f'  F1 Score:  {f1:.4f}')\n",
    "    print(f'  Threshold: {threshold:.3f}')\n",
    "    print(f'  TP: {tp}, FP: {fp}, FN: {fn}, TN: {tn}')\n",
    "    \n",
    "    # Track best training F1\n",
    "    if f1 > best_f1:\n",
    "        best_f1 = f1\n",
    "        print(f'  *** New best training F1 score: {best_f1:.4f} ***')\n",
    "    \n",
    "    # Run validation\n",
    "    val_metrics = validate_model(model, valid_loader, criterion, device, threshold)\n",
    "    \n",
    "    # Store validation metrics\n",
    "    val_losses.append(val_metrics['loss'])\n",
    "    val_accuracies.append(val_metrics['accuracy'])\n",
    "    val_precisions.append(val_metrics['precision'])\n",
    "    val_recalls.append(val_metrics['recall'])\n",
    "    val_f1_scores.append(val_metrics['f1'])\n",
    "    \n",
    "    print(f'\\nEpoch {epoch+1} Validation Metrics:')\n",
    "    print(f'  Loss:      {val_metrics[\"loss\"]:.4f}')\n",
    "    print(f'  Accuracy:  {val_metrics[\"accuracy\"]:.4f}')\n",
    "    print(f'  Precision: {val_metrics[\"precision\"]:.4f}')\n",
    "    print(f'  Recall:    {val_metrics[\"recall\"]:.4f}')\n",
    "    print(f'  F1 Score:  {val_metrics[\"f1\"]:.4f}')\n",
    "    print(f'  TP: {val_metrics[\"tp\"]}, FP: {val_metrics[\"fp\"]}, FN: {val_metrics[\"fn\"]}, TN: {val_metrics[\"tn\"]}')\n",
    "    \n",
    "    # Track best validation F1\n",
    "    if val_metrics['f1'] > best_val_f1:\n",
    "        best_val_f1 = val_metrics['f1']\n",
    "        print(f'  *** New best validation F1 score: {best_val_f1:.4f} ***')\n",
    "        # Save best model\n",
    "        best_model_path = f'{output_dir}/{exp_name}/model_best.pth'\n",
    "        checkpoint = {\n",
    "            'epoch': epoch + 1,\n",
    "            'model': model.state_dict(),\n",
    "            'optimizer': optimizer.state_dict(),\n",
    "            'val_f1': best_val_f1\n",
    "        }\n",
    "        torch.save(checkpoint, best_model_path)\n",
    "        print(f'  Best model saved to {best_model_path}')\n",
    "    \n",
    "    # Save checkpoint every 5 epochs\n",
    "    if (epoch + 1) % 5 == 0:\n",
    "        checkpoint_path = f'{output_dir}/{exp_name}/model_ep{epoch+1}.pth'\n",
    "        checkpoint = {\n",
    "            'epoch': epoch + 1,\n",
    "            'model': model.state_dict(),\n",
    "            'optimizer': optimizer.state_dict()\n",
    "        }\n",
    "        torch.save(checkpoint, checkpoint_path)\n",
    "        print(f'  Checkpoint saved to {checkpoint_path}')\n",
    "\n",
    "print('\\n=== Training Complete ===')\n",
    "print(f'Best Training F1 Score: {best_f1:.4f}')\n",
    "print(f'Best Validation F1 Score: {best_val_f1:.4f}')"
   ]
  },
  {
   "cell_type": "code",
   "execution_count": 79,
   "metadata": {},
   "outputs": [
    {
     "data": {
      "image/png": "[encoded data removed]",
      "text/plain": [
       "<Figure size 1800x1000 with 6 Axes>"
      ]
     },
     "metadata": {},
     "output_type": "display_data"
    },
    {
     "name": "stdout",
     "output_type": "stream",
     "text": [
      "Plot saved to outputs/fourth_training/training_validation_metrics.png\n",
      "\n",
      "=== Training Summary ===\n",
      "Final Training Metrics:\n",
      "  Loss: 0.0254\n",
      "  Accuracy: 0.9902\n",
      "  Precision: 0.8989\n",
      "  Recall: 0.9329\n",
      "  F1 Score: 0.9156\n",
      "\n",
      "Final Validation Metrics:\n",
      "  Loss: 0.0016\n",
      "  Accuracy: 0.9995\n",
      "  Precision: 0.8996\n",
      "  Recall: 0.9436\n",
      "  F1 Score: 0.9211\n",
      "\n",
      "Best Scores:\n",
      "  Best Training F1: 0.9156\n",
      "  Best Validation F1: 0.9211\n"
     ]
    }
   ],
   "source": [
    "import matplotlib.pyplot as plt\n",
    "\n",
    "# Plot training and validation metrics (6 separate graphs)\n",
    "fig, axes = plt.subplots(2, 3, figsize=(18, 10))\n",
    "\n",
    "# Loss plot\n",
    "axes[0, 0].plot(epoch_numbers, train_losses, marker='o', linewidth=2, color='red', label='Train', markersize=6)\n",
    "axes[0, 0].plot(epoch_numbers, val_losses, marker='s', linewidth=2, color='darkred', label='Validation', markersize=6)\n",
    "axes[0, 0].set_xlabel('Epoch', fontsize=12)\n",
    "axes[0, 0].set_ylabel('Loss', fontsize=12)\n",
    "axes[0, 0].set_title('Loss (Train vs Validation)', fontsize=14, fontweight='bold')\n",
    "axes[0, 0].legend(fontsize=10, loc='best')\n",
    "axes[0, 0].grid(True, alpha=0.3)\n",
    "\n",
    "# Accuracy plot\n",
    "axes[0, 1].plot(epoch_numbers, train_accuracies, marker='o', linewidth=2, color='green', label='Train', markersize=6)\n",
    "axes[0, 1].plot(epoch_numbers, val_accuracies, marker='s', linewidth=2, color='darkgreen', label='Validation', markersize=6)\n",
    "axes[0, 1].set_xlabel('Epoch', fontsize=12)\n",
    "axes[0, 1].set_ylabel('Accuracy', fontsize=12)\n",
    "axes[0, 1].set_title('Accuracy (Train vs Validation)', fontsize=14, fontweight='bold')\n",
    "axes[0, 1].legend(fontsize=10, loc='best')\n",
    "axes[0, 1].grid(True, alpha=0.3)\n",
    "\n",
    "# F1 Score plot\n",
    "axes[0, 2].plot(epoch_numbers, train_f1_scores, marker='o', linewidth=2, color='orange', label='Train', markersize=6)\n",
    "axes[0, 2].plot(epoch_numbers, val_f1_scores, marker='s', linewidth=2, color='darkorange', label='Validation', markersize=6)\n",
    "axes[0, 2].set_xlabel('Epoch', fontsize=12)\n",
    "axes[0, 2].set_ylabel('F1 Score', fontsize=12)\n",
    "axes[0, 2].set_title('F1 Score (Train vs Validation)', fontsize=14, fontweight='bold')\n",
    "axes[0, 2].legend(fontsize=10, loc='best')\n",
    "axes[0, 2].grid(True, alpha=0.3)\n",
    "\n",
    "# Precision plot\n",
    "axes[1, 0].plot(epoch_numbers, train_precisions, marker='o', linewidth=2, color='blue', label='Train', markersize=6)\n",
    "axes[1, 0].plot(epoch_numbers, val_precisions, marker='s', linewidth=2, color='darkblue', label='Validation', markersize=6)\n",
    "axes[1, 0].set_xlabel('Epoch', fontsize=12)\n",
    "axes[1, 0].set_ylabel('Precision', fontsize=12)\n",
    "axes[1, 0].set_title('Precision (Train vs Validation)', fontsize=14, fontweight='bold')\n",
    "axes[1, 0].legend(fontsize=10, loc='best')\n",
    "axes[1, 0].grid(True, alpha=0.3)\n",
    "\n",
    "# Recall plot\n",
    "axes[1, 1].plot(epoch_numbers, train_recalls, marker='o', linewidth=2, color='purple', label='Train', markersize=6)\n",
    "axes[1, 1].plot(epoch_numbers, val_recalls, marker='s', linewidth=2, color='indigo', label='Validation', markersize=6)\n",
    "axes[1, 1].set_xlabel('Epoch', fontsize=12)\n",
    "axes[1, 1].set_ylabel('Recall', fontsize=12)\n",
    "axes[1, 1].set_title('Recall (Train vs Validation)', fontsize=14, fontweight='bold')\n",
    "axes[1, 1].legend(fontsize=10, loc='best')\n",
    "axes[1, 1].grid(True, alpha=0.3)\n",
    "\n",
    "# All metrics combined - Validation only (cleaner visualization)\n",
    "axes[1, 2].plot(epoch_numbers, val_precisions, marker='o', linewidth=2, color='blue', label='Precision', markersize=6)\n",
    "axes[1, 2].plot(epoch_numbers, val_recalls, marker='s', linewidth=2, color='purple', label='Recall', markersize=6)\n",
    "axes[1, 2].plot(epoch_numbers, val_f1_scores, marker='^', linewidth=2, color='orange', label='F1 Score', markersize=6)\n",
    "axes[1, 2].plot(epoch_numbers, val_accuracies, marker='d', linewidth=2, color='green', label='Accuracy', markersize=6)\n",
    "axes[1, 2].set_xlabel('Epoch', fontsize=12)\n",
    "axes[1, 2].set_ylabel('Score', fontsize=12)\n",
    "axes[1, 2].set_title('All Validation Metrics', fontsize=14, fontweight='bold')\n",
    "axes[1, 2].legend(fontsize=10, loc='best')\n",
    "axes[1, 2].grid(True, alpha=0.3)\n",
    "\n",
    "plt.tight_layout()\n",
    "plt.savefig(f'{output_dir}/{exp_name}/training_validation_metrics.png', dpi=150, bbox_inches='tight')\n",
    "plt.show()\n",
    "\n",
    "print(f'Plot saved to {output_dir}/{exp_name}/training_validation_metrics.png')\n",
    "\n",
    "# Print summary statistics\n",
    "print('\\n=== Training Summary ===')\n",
    "print(f'Final Training Metrics:')\n",
    "print(f'  Loss: {train_losses[-1]:.4f}')\n",
    "print(f'  Accuracy: {train_accuracies[-1]:.4f}')\n",
    "print(f'  Precision: {train_precisions[-1]:.4f}')\n",
    "print(f'  Recall: {train_recalls[-1]:.4f}')\n",
    "print(f'  F1 Score: {train_f1_scores[-1]:.4f}')\n",
    "\n",
    "print(f'\\nFinal Validation Metrics:')\n",
    "print(f'  Loss: {val_losses[-1]:.4f}')\n",
    "print(f'  Accuracy: {val_accuracies[-1]:.4f}')\n",
    "print(f'  Precision: {val_precisions[-1]:.4f}')\n",
    "print(f'  Recall: {val_recalls[-1]:.4f}')\n",
    "print(f'  F1 Score: {val_f1_scores[-1]:.4f}')\n",
    "\n",
    "print(f'\\nBest Scores:')\n",
    "print(f'  Best Training F1: {best_f1:.4f}')\n",
    "print(f'  Best Validation F1: {best_val_f1:.4f}')"
   ]
  },
  {
   "cell_type": "code",
   "execution_count": null,
   "metadata": {},
   "outputs": [
    {
     "name": "stdout",
     "output_type": "stream",
     "text": [
      "Loading best model from outputs/fourth_training/model_best.pth\n",
      "Best model loaded (Validation F1: 0.9210893964367004)\n"
     ]
    }
   ],
   "source": [
    "# Load the best model for testing\n",
    "best_model_path = f'{output_dir}/{exp_name}/model_best.pth'\n",
    "\n",
    "if os.path.exists(best_model_path):\n",
    "    print(f'Loading best model from {best_model_path}')\n",
    "    checkpoint = torch.load(best_model_path, map_location=device,weights_only=False)\n",
    "    model.load_state_dict(checkpoint['model'])\n",
    "    print(f'Best model loaded (Validation F1: {checkpoint.get(\"val_f1\", \"N/A\")})')\n",
    "else:\n",
    "    print('No best model found, using current model')\n"
   ]
  },
  {
   "cell_type": "code",
   "execution_count": 85,
   "metadata": {},
   "outputs": [
    {
     "name": "stdout",
     "output_type": "stream",
     "text": [
      "\n",
      "Evaluating on test data...\n"
     ]
    },
    {
     "data": {
      "application/vnd.jupyter.widget-view+json": {
       "model_id": "b3338469cf4e4c0d832ae419f3fc1856",
       "version_major": 2,
       "version_minor": 0
      },
      "text/plain": [
       "Testing:   0%|          | 0/21219 [00:00<?, ?it/s]"
      ]
     },
     "metadata": {},
     "output_type": "display_data"
    },
    {
     "name": "stdout",
     "output_type": "stream",
     "text": [
      "\n",
      "============================================================\n",
      "TEST SET EVALUATION RESULTS\n",
      "============================================================\n",
      "Loss:      0.0016\n",
      "Accuracy:  0.9995\n",
      "Precision: 0.8881\n",
      "Recall:    0.9242\n",
      "F1 Score:  0.9058\n",
      "\n",
      "Confusion Matrix:\n",
      "  TP: 28,396  |  FP: 3,577\n",
      "  FN: 2,328  |  TN: 10,829,675\n",
      "\n",
      "Class Distribution:\n",
      "  Actual Positive Rate: 0.0028\n",
      "  Predicted Positive Rate: 0.0029\n",
      "============================================================\n"
     ]
    }
   ],
   "source": [
    "\n",
    "# Test evaluation function\n",
    "def evaluate_test_model(model, data_loader, criterion, device, threshold=0.5):\n",
    "    \"\"\"\n",
    "    Evaluate the model on test data with detailed metrics.\n",
    "    \n",
    "    Returns:\n",
    "        dict with test metrics and predictions\n",
    "    \"\"\"\n",
    "    model.eval()\n",
    "    \n",
    "    all_outputs = []\n",
    "    all_labels = []\n",
    "    all_predictions = []\n",
    "    total_loss = 0.0\n",
    "    num_batches = 0\n",
    "    \n",
    "    print('\\nEvaluating on test data...')\n",
    "    \n",
    "    with torch.no_grad():\n",
    "        for batch in tqdm(data_loader, desc='Testing'):\n",
    "            # Move batch to device\n",
    "            batch = {k: v.to(device) for k, v in batch.items()}\n",
    "            \n",
    "            # Forward pass\n",
    "            output = model(batch)\n",
    "            loss = criterion(output, batch['label'])\n",
    "            total_loss += loss.item()\n",
    "            num_batches += 1\n",
    "            \n",
    "            # Get probabilities\n",
    "            probs = torch.sigmoid(output).cpu().numpy().flatten()\n",
    "            labels = batch['label'].cpu().numpy().flatten()\n",
    "            preds = (probs >= threshold).astype(int)\n",
    "            \n",
    "            # Collect outputs, labels, and predictions\n",
    "            all_outputs.extend(probs)\n",
    "            all_labels.extend(labels)\n",
    "            all_predictions.extend(preds)\n",
    "    \n",
    "    # Convert to numpy arrays\n",
    "    all_outputs = np.array(all_outputs)\n",
    "    all_labels = np.array(all_labels)\n",
    "    all_predictions = np.array(all_predictions)\n",
    "    \n",
    "    # Calculate metrics\n",
    "    accuracy = (all_predictions == all_labels).mean()\n",
    "    tp = ((all_predictions == 1) & (all_labels == 1)).sum()\n",
    "    fp = ((all_predictions == 1) & (all_labels == 0)).sum()\n",
    "    fn = ((all_predictions == 0) & (all_labels == 1)).sum()\n",
    "    tn = ((all_predictions == 0) & (all_labels == 0)).sum()\n",
    "    \n",
    "    precision = tp / (tp + fp) if (tp + fp) > 0 else 0.0\n",
    "    recall = tp / (tp + fn) if (tp + fn) > 0 else 0.0\n",
    "    f1 = 2 * precision * recall / (precision + recall) if (precision + recall) > 0 else 0.0\n",
    "    \n",
    "    avg_loss = total_loss / num_batches\n",
    "    \n",
    "    # Additional statistics\n",
    "    positive_rate = (all_labels == 1).mean()\n",
    "    predicted_positive_rate = (all_predictions == 1).mean()\n",
    "    \n",
    "    return {\n",
    "        'loss': avg_loss,\n",
    "        'accuracy': accuracy,\n",
    "        'precision': precision,\n",
    "        'recall': recall,\n",
    "        'f1': f1,\n",
    "        'tp': tp,\n",
    "        'fp': fp,\n",
    "        'fn': fn,\n",
    "        'tn': tn,\n",
    "        'positive_rate': positive_rate,\n",
    "        'predicted_positive_rate': predicted_positive_rate,\n",
    "        'probabilities': all_outputs,\n",
    "        'labels': all_labels,\n",
    "        'predictions': all_predictions\n",
    "    }\n",
    "\n",
    "# Evaluate on test data\n",
    "test_metrics = evaluate_test_model(model, test_loader, criterion, device, threshold=0.5)\n",
    "\n",
    "# Print test results\n",
    "print('\\n' + '='*60)\n",
    "print('TEST SET EVALUATION RESULTS')\n",
    "print('='*60)\n",
    "print(f'Loss:      {test_metrics[\"loss\"]:.4f}')\n",
    "print(f'Accuracy:  {test_metrics[\"accuracy\"]:.4f}')\n",
    "print(f'Precision: {test_metrics[\"precision\"]:.4f}')\n",
    "print(f'Recall:    {test_metrics[\"recall\"]:.4f}')\n",
    "print(f'F1 Score:  {test_metrics[\"f1\"]:.4f}')\n",
    "print(f'\\nConfusion Matrix:')\n",
    "print(f'  TP: {test_metrics[\"tp\"]:,}  |  FP: {test_metrics[\"fp\"]:,}')\n",
    "print(f'  FN: {test_metrics[\"fn\"]:,}  |  TN: {test_metrics[\"tn\"]:,}')\n",
    "print(f'\\nClass Distribution:')\n",
    "print(f'  Actual Positive Rate: {test_metrics[\"positive_rate\"]:.4f}')\n",
    "print(f'  Predicted Positive Rate: {test_metrics[\"predicted_positive_rate\"]:.4f}')\n",
    "print('='*60)"
   ]
  },
  {
   "cell_type": "markdown",
   "metadata": {},
   "source": [
    "## Test"
   ]
  },
  {
   "cell_type": "code",
   "execution_count": 89,
   "metadata": {},
   "outputs": [],
   "source": [
    "# Test prediction between two specific nodes\n",
    "import torch\n",
    "import numpy as np\n",
    "\n",
    "def predict_edge_between_nodes(model, node1, node2, class_dict, device, threshold=0.5):\n",
    "    \"\"\"\n",
    "    Predict if there should be an edge between two nodes.\n",
    "    \n",
    "    Args:\n",
    "        model: Trained MLP model\n",
    "        node1: Dict with 'id', 'class_name', 'top', 'left', 'width', 'height'\n",
    "        node2: Dict with 'id', 'class_name', 'top', 'left', 'width', 'height'\n",
    "        class_dict: Dictionary mapping class names to IDs\n",
    "        device: torch device\n",
    "        threshold: Classification threshold (default 0.5)\n",
    "    \n",
    "    Returns:\n",
    "        Dict with prediction results\n",
    "    \"\"\"\n",
    "    model.eval()\n",
    "    \n",
    "    # Get bounding boxes [top, left, bottom, right]\n",
    "    node1_bbox = torch.tensor([\n",
    "        node1['top'],\n",
    "        node1['left'],\n",
    "        node1['top'] + node1['height'],\n",
    "        node1['left'] + node1['width']\n",
    "    ], dtype=torch.float32)\n",
    "    \n",
    "    node2_bbox = torch.tensor([\n",
    "        node2['top'],\n",
    "        node2['left'],\n",
    "        node2['top'] + node2['height'],\n",
    "        node2['left'] + node2['width']\n",
    "    ], dtype=torch.float32)\n",
    "    \n",
    "    # Normalize bounding boxes (if your model expects normalized coords)\n",
    "    # Assuming image size - adjust if needed\n",
    "    image_height = 3000  # Typical MUSCIMA++ image height\n",
    "    image_width = 3000   # Typical MUSCIMA++ image width\n",
    "    \n",
    "    reshape_weight = torch.tensor([2 / image_height, 2 / image_height,\n",
    "                                   2 / image_height, 2 / image_height])\n",
    "    reshape_bias = torch.tensor([-1, -image_width/image_height,\n",
    "                                 -1, -image_width/image_height])\n",
    "    \n",
    "    node1_bbox_norm = node1_bbox * reshape_weight + reshape_bias\n",
    "    node2_bbox_norm = node2_bbox * reshape_weight + reshape_bias\n",
    "    \n",
    "    # Get class IDs\n",
    "    node1_class = torch.tensor(class_dict[node1['class_name']], dtype=torch.long)\n",
    "    node2_class = torch.tensor(class_dict[node2['class_name']], dtype=torch.long)\n",
    "    \n",
    "    # Create batch (batch size = 1)\n",
    "    batch = {\n",
    "        'source_bbox': node1_bbox_norm.unsqueeze(0).to(device),\n",
    "        'source_class': node1_class.unsqueeze(0).to(device),\n",
    "        'target_bbox': node2_bbox_norm.unsqueeze(0).to(device),\n",
    "        'target_class': node2_class.unsqueeze(0).to(device)\n",
    "    }\n",
    "    \n",
    "    # Predict\n",
    "    with torch.no_grad():\n",
    "        output = model(batch)\n",
    "        probability = torch.sigmoid(output).item()\n",
    "        prediction = 1 if probability >= threshold else 0\n",
    "    \n",
    "    return {\n",
    "        'probability': probability,\n",
    "        'prediction': prediction,\n",
    "        'has_edge': bool(prediction),\n",
    "        'confidence': probability if prediction == 1 else (1 - probability)\n",
    "    }\n",
    "\n",
    "\n",
    "# Example: Test the two nodes you selected\n",
    "node1 = {\n",
    "    'id': 353,\n",
    "    'class_name': 'stem',\n",
    "    'top': 710,\n",
    "    'left': 2732,\n",
    "    'width': 14,\n",
    "    'height': 152\n",
    "}\n",
    "\n",
    "node2 = {\n",
    "    'id': 185,\n",
    "    'class_name': 'noteheadFull',\n",
    "    'top': 754,\n",
    "    'left': 2725,\n",
    "    'width': 23,\n",
    "    'height': 22\n",
    "}"
   ]
  },
  {
   "cell_type": "code",
   "execution_count": null,
   "metadata": {},
   "outputs": [
    {
     "name": "stdout",
     "output_type": "stream",
     "text": [
      "\n",
      "============================================================\n",
      "EDGE PREDICTION BETWEEN TWO NODES\n",
      "============================================================\n",
      "Node 1: ID=353, Class=stem\n",
      "        Position: (2732, 710), Size: 14x152\n",
      "\n",
      "Node 2: ID=185, Class=noteheadFull\n",
      "        Position: (2725, 754), Size: 23x22\n",
      "\n",
      "--- Prediction Results ---\n",
      "Probability: 0.9944\n",
      "Prediction: EDGE EXISTS\n",
      "Confidence: 0.9944\n",
      "============================================================\n",
      "\n",
      "Additional Info:\n",
      "Distance between nodes: 44.6 pixels\n",
      "Node 1 → Node 2: ✗ (ground truth)\n"
     ]
    }
   ],
   "source": [
    "# Make prediction\n",
    "result = predict_edge_between_nodes(model, node1, node2, class_dict, device, threshold=0.5)\n",
    "\n",
    "print('\\n' + '='*60)\n",
    "print('EDGE PREDICTION BETWEEN TWO NODES')\n",
    "print('='*60)\n",
    "print(f'Node 1: ID={node1[\"id\"]}, Class={node1[\"class_name\"]}')\n",
    "print(f'        Position: ({node1[\"left\"]}, {node1[\"top\"]}), Size: {node1[\"width\"]}x{node1[\"height\"]}')\n",
    "print(f'\\nNode 2: ID={node2[\"id\"]}, Class={node2[\"class_name\"]}')\n",
    "print(f'        Position: ({node2[\"left\"]}, {node2[\"top\"]}), Size: {node2[\"width\"]}x{node2[\"height\"]}')\n",
    "print(f'\\n--- Prediction Results ---')\n",
    "print(f'Probability: {result[\"probability\"]:.4f}')\n",
    "print(f'Prediction: {\"EDGE EXISTS\" if result[\"has_edge\"] else \"NO EDGE\"}')\n",
    "print(f'Confidence: {result[\"confidence\"]:.4f}')\n",
    "print('='*60)\n",
    "\n",
    "# Calculate distance between nodes\n",
    "distance = np.sqrt((node1['left'] - node2['left'])**2 + (node1['top'] - node2['top'])**2)\n",
    "print(f'\\nAdditional Info:')\n",
    "print(f'Distance between nodes: {distance:.1f} pixels')\n",
    "print(f'Node 1 → Node 2: {\"✓\" if node2[\"id\"] in [17, 18, 19] else \"✗\"} (ground truth)')\n"
   ]
  },
  {
   "cell_type": "code",
   "execution_count": 92,
   "metadata": {},
   "outputs": [
    {
     "data": {
      "text/plain": [
       "OrderedDict([('class_embed.weight',\n",
       "              tensor([[ 1.6851e-03, -2.9231e-02, -3.8743e-02,  ..., -1.7891e-02,  2.6972e-02, -1.5585e-02],\n",
       "                      [ 1.5709e+00, -2.7491e-01, -1.1288e+00,  ..., -8.0154e-01, -1.3632e+00,  1.1789e+00],\n",
       "                      [-4.0928e-02, -2.1412e-02,  8.5402e-02,  ...,  8.9882e-03, -2.0687e-02, -3.5794e-02],\n",
       "                      ...,\n",
       "                      [-3.3232e-01,  2.9916e-01, -2.3288e+00,  ..., -1.6809e+00, -1.5565e+00, -1.4332e+00],\n",
       "                      [-1.2208e+00,  1.5130e+00,  6.2427e-01,  ...,  8.3411e-01,  1.5845e+00, -2.6866e-01],\n",
       "                      [ 1.2179e+00,  1.0981e-01, -1.5682e+00,  ..., -1.0628e-01,  5.4898e-01, -2.1081e-01]])),\n",
       "             ('MLP.0.weight',\n",
       "              tensor([[ 1.4292e-01,  3.2838e+00, -1.1736e+00,  ..., -5.4195e-02, -3.9899e-02,  4.8967e-02],\n",
       "                      [-1.6148e-01, -1.5386e-01,  1.8723e-01,  ..., -4.1963e-01, -8.4931e-01, -4.4154e-01],\n",
       "                      [-5.5679e-01, -3.6879e-04,  5.8701e-01,  ...,  1.1093e+00, -1.2866e+00,  1.6849e+00],\n",
       "                      ...,\n",
       "                      [ 3.7307e+00, -4.6984e-01,  1.4696e+00,  ...,  9.6853e-02,  1.4838e-01,  8.9905e-02],\n",
       "                      [-3.2523e-01,  6.5655e-02, -4.1584e-01,  ..., -5.7792e-02, -1.0418e+00, -3.7074e-02],\n",
       "                      [-6.7795e-01, -1.8551e-01, -5.8105e-01,  ...,  7.7534e-01, -8.1399e-01,  1.1334e+00]])),\n",
       "             ('MLP.0.bias',\n",
       "              tensor([ 0.0052, -1.9743, -1.8193, -2.0205, -1.1116, -1.8268, -1.8702, -1.6544, -0.1697,  0.3802,  0.3112, -1.5116, -1.1235, -1.5421,  0.3458, -1.8274, -0.6345, -2.2760, -1.4931, -0.0782, -0.3333, -1.5120, -1.8285,  0.0157, -1.3024,  0.0781, -1.5314, -1.7271,  0.0850,  0.2367, -1.4950, -2.1874])),\n",
       "             ('MLP.2.weight',\n",
       "              tensor([[-5.8494, -1.0247, -0.7971,  ..., -1.0971, -0.5527, -1.2141],\n",
       "                      [-0.9343,  0.2972,  0.7304,  ..., -1.7044,  0.5928,  1.6240],\n",
       "                      [ 3.3110, -0.1708, -0.1728,  ...,  0.5342,  0.2859,  0.0928],\n",
       "                      ...,\n",
       "                      [-2.2396,  0.1952,  0.0547,  ...,  0.0426, -0.5198,  0.2279],\n",
       "                      [-1.5677,  1.0146, -0.3364,  ..., -0.2356, -0.7544,  0.3693],\n",
       "                      [-3.3964,  0.5279,  0.7762,  ..., -1.7941,  0.4014,  1.1241]])),\n",
       "             ('MLP.2.bias',\n",
       "              tensor([ 0.2876, -0.4555, -0.3338, -0.6261, -2.2523, -3.9457, -0.4098, -1.9875, -0.9375, -0.2769, -2.9299, -2.2269, -2.3740,  0.5206, -2.8664, -2.3233,  0.3511, -0.7154, -0.4432,  0.7473,  0.7199, -0.8868, -0.1275, -3.9183, -0.2545, -0.2761, -1.1821,  1.0872, -0.4597,  0.0227, -1.1553,  0.1937])),\n",
       "             ('head.weight',\n",
       "              tensor([[ 1.5778, -2.2084, -4.6136,  0.5978,  0.4199, -0.5430, -0.9524, -0.9965, -2.6149, -1.3195, -0.2642, -0.1988, -3.4005,  0.8644, -0.0334, -1.7647,  1.5535, -3.7198,  0.1108,  0.4297,  0.7920,  0.7271, -1.0859, -0.1096, -5.4892,  1.1358,  1.0112,  1.2101, -2.5962, -0.8354,  0.7953,  1.0143]])),\n",
       "             ('head.bias', tensor([1.1809]))])"
      ]
     },
     "execution_count": 92,
     "metadata": {},
     "output_type": "execute_result"
    }
   ],
   "source": [
    "model.state_dict()"
   ]
  },
  {
   "cell_type": "markdown",
   "metadata": {},
   "source": [
    "## 7. Save Final Model"
   ]
  },
  {
   "cell_type": "code",
   "execution_count": 93,
   "metadata": {},
   "outputs": [
    {
     "name": "stdout",
     "output_type": "stream",
     "text": [
      "Final model saved to outputs/fourth_training/model_final.pth\n"
     ]
    }
   ],
   "source": [
    "# Save final model\n",
    "final_checkpoint_path = f'{output_dir}/{exp_name}/model_final.pth'\n",
    "checkpoint = {\n",
    "    'epoch': NUM_EPOCHS,\n",
    "    'model': model.state_dict(),\n",
    "    'optimizer': optimizer.state_dict()\n",
    "}\n",
    "torch.save(checkpoint, final_checkpoint_path)\n",
    "print(f'Final model saved to {final_checkpoint_path}')"
   ]
  }
 ],
 "metadata": {
  "kernelspec": {
   "display_name": "base",
   "language": "python",
   "name": "python3"
  },
  "language_info": {
   "codemirror_mode": {
    "name": "ipython",
    "version": 3
   },
   "file_extension": ".py",
   "mimetype": "text/x-python",
   "name": "python",
   "nbconvert_exporter": "python",
   "pygments_lexer": "ipython3",
   "version": "3.13.5"
  }
 },
 "nbformat": 4,
 "nbformat_minor": 4
}
